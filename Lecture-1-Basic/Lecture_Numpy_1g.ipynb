{
 "cells": [
  {
   "cell_type": "code",
   "execution_count": 9,
   "id": "ded9277d-c95e-4b31-9c8e-c018f83d65fd",
   "metadata": {},
   "outputs": [
    {
     "data": {
      "text/markdown": [
       "\n",
       "<h2>🧠 What is NumPy?</h2>\n",
       "\n",
       "<p style=\"font-size:18px\">\n",
       "NumPy (Numerical Python) is a library that makes it easy to work with arrays and matrices, \n",
       "and provides a wide range of mathematical functions to operate on them efficiently.<br>\n",
       "It is the foundation of most data science and machine learning libraries such as pandas, scikit-learn, and TensorFlow.\n",
       "</p>\n",
       "\n",
       "<hr>\n",
       "\n",
       "<h2>🧠 什么是 NumPy？</h2>\n",
       "\n",
       "<p style=\"font-size:18px\">\n",
       "NumPy（Numerical Python，即“数值计算的 Python”）是一个让我们能够轻松处理数组和矩阵的库，\n",
       "并提供了大量高效的数学函数来对它们进行操作。<br>\n",
       "它是大多数数据科学和机器学习库（如 pandas、scikit-learn 和 TensorFlow）的基础。\n",
       "</p>\n"
      ],
      "text/plain": [
       "<IPython.core.display.Markdown object>"
      ]
     },
     "execution_count": 9,
     "metadata": {},
     "output_type": "execute_result"
    }
   ],
   "source": [
    "# ==========================================================\n",
    "# 📘 NumPy Tutorial — Beginner to Intermediate\n",
    "# Author: Waqas Ahmed\n",
    "# ==========================================================\n",
    "\n",
    "# ----------------------------------------------------------\n",
    "# 🧩 1. Introduction\n",
    "# ----------------------------------------------------------\n",
    "\n",
    "# NumPy stands for \"Numerical Python\".\n",
    "# It is a powerful Python library used for numerical computing.\n",
    "# NumPy provides:\n",
    "# - Multi-dimensional arrays (ndarray)\n",
    "# - Mathematical and logical operations on arrays\n",
    "# - Linear algebra, Fourier transform, and random number tools\n",
    "# - Broadcasting for efficient element-wise operations\n",
    "\n",
    "from IPython.display import Markdown\n",
    "\n",
    "Markdown(\"\"\"\n",
    "<h2>🧠 What is NumPy?</h2>\n",
    "\n",
    "<p style=\"font-size:18px\">\n",
    "NumPy (Numerical Python) is a library that makes it easy to work with arrays and matrices, \n",
    "and provides a wide range of mathematical functions to operate on them efficiently.<br>\n",
    "It is the foundation of most data science and machine learning libraries such as pandas, scikit-learn, and TensorFlow.\n",
    "</p>\n",
    "\n",
    "<hr>\n",
    "\n",
    "<h2>🧠 什么是 NumPy？</h2>\n",
    "\n",
    "<p style=\"font-size:18px\">\n",
    "NumPy（Numerical Python，即“数值计算的 Python”）是一个让我们能够轻松处理数组和矩阵的库，\n",
    "并提供了大量高效的数学函数来对它们进行操作。<br>\n",
    "它是大多数数据科学和机器学习库（如 pandas、scikit-learn 和 TensorFlow）的基础。\n",
    "</p>\n",
    "\"\"\")\n"
   ]
  },
  {
   "cell_type": "code",
   "execution_count": 10,
   "id": "c1af0c38-a6db-4ebf-9e76-5d9940851305",
   "metadata": {},
   "outputs": [
    {
     "name": "stdout",
     "output_type": "stream",
     "text": [
      "✅ NumPy imported successfully. Version: 1.26.4\n"
     ]
    }
   ],
   "source": [
    "# ----------------------------------------------------------\n",
    "# 🧩 2. Installing and Importing NumPy\n",
    "# ----------------------------------------------------------\n",
    "\n",
    "# Installation (Uncomment if needed)\n",
    "# !pip install numpy\n",
    "\n",
    "import numpy as np\n",
    "\n",
    "print(\"✅ NumPy imported successfully. Version:\", np.__version__)"
   ]
  },
  {
   "cell_type": "code",
   "execution_count": 11,
   "id": "2fe8570f-ae37-478c-9d43-b3de72fa88a8",
   "metadata": {},
   "outputs": [
    {
     "name": "stdout",
     "output_type": "stream",
     "text": [
      "Array from list: [1 2 3 4 5]\n"
     ]
    }
   ],
   "source": [
    "# ----------------------------------------------------------\n",
    "# 🧩 3. Creating Arrays\n",
    "# ----------------------------------------------------------\n",
    "\n",
    "# Creating arrays from Python lists\n",
    "list1 = [1, 2, 3, 4, 5]\n",
    "array1 = np.array(list1)\n",
    "print(\"Array from list:\", array1)"
   ]
  },
  {
   "cell_type": "code",
   "execution_count": 12,
   "id": "ab320040-24be-4f00-9ea1-60b5cc4c51ea",
   "metadata": {},
   "outputs": [
    {
     "name": "stdout",
     "output_type": "stream",
     "text": [
      "\n",
      "2D Array:\n",
      " [[1 2 3]\n",
      " [4 5 6]]\n"
     ]
    }
   ],
   "source": [
    "# 2D Array\n",
    "array2 = np.array([[1, 2, 3], [4, 5, 6]])\n",
    "print(\"\\n2D Array:\\n\", array2)"
   ]
  },
  {
   "cell_type": "code",
   "execution_count": 13,
   "id": "3cfffc37-1ac4-44d5-b8a7-c6531030ce94",
   "metadata": {},
   "outputs": [
    {
     "name": "stdout",
     "output_type": "stream",
     "text": [
      "\n",
      "Array using arange(): [0 2 4 6 8]\n"
     ]
    }
   ],
   "source": [
    "# Using arange()\n",
    "arr_range = np.arange(0, 10, 2)\n",
    "print(\"\\nArray using arange():\", arr_range)"
   ]
  },
  {
   "cell_type": "code",
   "execution_count": 14,
   "id": "8dab01a7-3b14-4bfc-aa9a-aeeb23328ff4",
   "metadata": {},
   "outputs": [
    {
     "name": "stdout",
     "output_type": "stream",
     "text": [
      "\n",
      "Array using linspace(): [0.   0.25 0.5  0.75 1.  ]\n"
     ]
    }
   ],
   "source": [
    "# Using linspace()\n",
    "arr_lin = np.linspace(0, 1, 5)\n",
    "print(\"\\nArray using linspace():\", arr_lin)"
   ]
  },
  {
   "cell_type": "code",
   "execution_count": 15,
   "id": "72fb2972-c62a-4d6c-8493-7b19645b17f8",
   "metadata": {},
   "outputs": [
    {
     "name": "stdout",
     "output_type": "stream",
     "text": [
      "\n",
      "Zeros:\n",
      " [[0. 0. 0.]\n",
      " [0. 0. 0.]]\n",
      "\n",
      "Ones:\n",
      " [[1. 1.]\n",
      " [1. 1.]\n",
      " [1. 1.]]\n",
      "\n",
      "Identity Matrix:\n",
      " [[1. 0. 0.]\n",
      " [0. 1. 0.]\n",
      " [0. 0. 1.]]\n"
     ]
    }
   ],
   "source": [
    "# Using zeros(), ones(), eye()\n",
    "print(\"\\nZeros:\\n\", np.zeros((2, 3)))\n",
    "print(\"\\nOnes:\\n\", np.ones((3, 2)))\n",
    "print(\"\\nIdentity Matrix:\\n\", np.eye(3))"
   ]
  },
  {
   "cell_type": "code",
   "execution_count": 16,
   "id": "8f1fe446-9a7e-4dd9-8bcc-96357a9892d5",
   "metadata": {},
   "outputs": [
    {
     "name": "stdout",
     "output_type": "stream",
     "text": [
      "Shape: (2, 3)\n",
      "Dimensions: 2\n",
      "Data type: int32\n",
      "Number of elements: 6\n",
      "Item size (bytes): 4\n"
     ]
    }
   ],
   "source": [
    "# ----------------------------------------------------------\n",
    "# 🧩 4. Array Attributes\n",
    "# ----------------------------------------------------------\n",
    "\n",
    "arr = np.array([[1, 2, 3], [4, 5, 6]])\n",
    "\n",
    "print(\"Shape:\", arr.shape)\n",
    "print(\"Dimensions:\", arr.ndim)\n",
    "print(\"Data type:\", arr.dtype)\n",
    "print(\"Number of elements:\", arr.size)\n",
    "print(\"Item size (bytes):\", arr.itemsize)"
   ]
  },
  {
   "cell_type": "code",
   "execution_count": 17,
   "id": "8b2804af-d55c-4f19-bf37-2cc7ca1187df",
   "metadata": {},
   "outputs": [
    {
     "name": "stdout",
     "output_type": "stream",
     "text": [
      "Addition: [11 22 33 44]\n",
      "Subtraction: [ 9 18 27 36]\n",
      "Multiplication: [ 10  40  90 160]\n",
      "Division: [10. 10. 10. 10.]\n",
      "Exponent: [ 100  400  900 1600]\n"
     ]
    }
   ],
   "source": [
    "# ----------------------------------------------------------\n",
    "# 📊 5. Array Operations\n",
    "# ----------------------------------------------------------\n",
    "\n",
    "a = np.array([10, 20, 30, 40])\n",
    "b = np.array([1, 2, 3, 4])\n",
    "\n",
    "print(\"Addition:\", a + b)\n",
    "print(\"Subtraction:\", a - b)\n",
    "print(\"Multiplication:\", a * b)\n",
    "print(\"Division:\", a / b)\n",
    "print(\"Exponent:\", a ** 2)"
   ]
  },
  {
   "cell_type": "code",
   "execution_count": 18,
   "id": "ca3df29f-d48d-49fd-8f2d-7645ee282874",
   "metadata": {},
   "outputs": [
    {
     "name": "stdout",
     "output_type": "stream",
     "text": [
      "\n",
      "Broadcasting Example:\n",
      " [[11 21 31]\n",
      " [12 22 32]\n",
      " [13 23 33]]\n"
     ]
    }
   ],
   "source": [
    "# Broadcasting example\n",
    "c = np.array([[1], [2], [3]])\n",
    "d = np.array([10, 20, 30])\n",
    "print(\"\\nBroadcasting Example:\\n\", c + d)"
   ]
  },
  {
   "cell_type": "code",
   "execution_count": 19,
   "id": "ead4ef23-cf01-4408-a5ef-198e3fa235cd",
   "metadata": {},
   "outputs": [
    {
     "name": "stdout",
     "output_type": "stream",
     "text": [
      "\n",
      "Original Array: [0 1 2 3 4 5 6 7 8 9]\n",
      "First Element: 0\n",
      "Last 3 Elements: [7 8 9]\n",
      "Elements 2 to 7: [2 3 4 5 6 7]\n",
      "Every 2nd Element: [0 2 4 6 8]\n",
      "\n",
      "2D Array:\n",
      " [[10 20 30]\n",
      " [40 50 60]\n",
      " [70 80 90]]\n",
      "Element (1,2): 60\n",
      "First row: [10 20 30]\n",
      "Last column: [30 60 90]\n"
     ]
    }
   ],
   "source": [
    "# ----------------------------------------------------------\n",
    "# 🔍 6. Indexing and Slicing\n",
    "# ----------------------------------------------------------\n",
    "\n",
    "arr = np.arange(10)\n",
    "print(\"\\nOriginal Array:\", arr)\n",
    "print(\"First Element:\", arr[0])\n",
    "print(\"Last 3 Elements:\", arr[-3:])\n",
    "print(\"Elements 2 to 7:\", arr[2:8])\n",
    "print(\"Every 2nd Element:\", arr[::2])\n",
    "\n",
    "# 2D Indexing\n",
    "arr2d = np.array([[10, 20, 30], [40, 50, 60], [70, 80, 90]])\n",
    "print(\"\\n2D Array:\\n\", arr2d)\n",
    "print(\"Element (1,2):\", arr2d[1, 2])\n",
    "print(\"First row:\", arr2d[0, :])\n",
    "print(\"Last column:\", arr2d[:, 2])"
   ]
  },
  {
   "cell_type": "code",
   "execution_count": 20,
   "id": "e79c4d8e-efc6-4567-82b9-656c7195b7de",
   "metadata": {},
   "outputs": [
    {
     "name": "stdout",
     "output_type": "stream",
     "text": [
      "Sum: 15\n",
      "Mean: 3.0\n",
      "Median: 3.0\n",
      "Standard Deviation: 1.4142135623730951\n",
      "Max: 5\n",
      "Min: 1\n"
     ]
    }
   ],
   "source": [
    "# ----------------------------------------------------------\n",
    "# 🧮 7. Mathematical and Statistical Functions\n",
    "# ----------------------------------------------------------\n",
    "\n",
    "data = np.array([1, 2, 3, 4, 5])\n",
    "\n",
    "print(\"Sum:\", np.sum(data))\n",
    "print(\"Mean:\", np.mean(data))\n",
    "print(\"Median:\", np.median(data))\n",
    "print(\"Standard Deviation:\", np.std(data))\n",
    "print(\"Max:\", np.max(data))\n",
    "print(\"Min:\", np.min(data))"
   ]
  },
  {
   "cell_type": "code",
   "execution_count": 21,
   "id": "92b96ee2-f64f-453e-be93-1dced30b6681",
   "metadata": {},
   "outputs": [
    {
     "name": "stdout",
     "output_type": "stream",
     "text": [
      "\n",
      "Original Array: [ 1  2  3  4  5  6  7  8  9 10 11 12]\n",
      "\n",
      "Reshaped (3x4):\n",
      " [[ 1  2  3  4]\n",
      " [ 5  6  7  8]\n",
      " [ 9 10 11 12]]\n",
      "\n",
      "Vertical Stack:\n",
      " [[1 2 3]\n",
      " [4 5 6]]\n",
      "\n",
      "Horizontal Stack:\n",
      " [1 2 3 4 5 6]\n",
      "\n",
      "Array Split into 3 parts: [array([1, 2, 3, 4]), array([5, 6, 7, 8]), array([ 9, 10, 11, 12])]\n"
     ]
    }
   ],
   "source": [
    "# ----------------------------------------------------------\n",
    "# 🧠 8. Reshaping, Stacking, and Splitting\n",
    "# ----------------------------------------------------------\n",
    "\n",
    "arr = np.arange(1, 13)\n",
    "print(\"\\nOriginal Array:\", arr)\n",
    "\n",
    "reshaped = arr.reshape(3, 4)\n",
    "print(\"\\nReshaped (3x4):\\n\", reshaped)\n",
    "\n",
    "# Stacking\n",
    "a = np.array([1, 2, 3])\n",
    "b = np.array([4, 5, 6])\n",
    "print(\"\\nVertical Stack:\\n\", np.vstack((a, b)))\n",
    "print(\"\\nHorizontal Stack:\\n\", np.hstack((a, b)))\n",
    "\n",
    "# Splitting\n",
    "split_arr = np.array_split(arr, 3)\n",
    "print(\"\\nArray Split into 3 parts:\", split_arr)"
   ]
  },
  {
   "cell_type": "code",
   "execution_count": 22,
   "id": "ce7ec2c9-500d-4415-95cb-2c04aca69668",
   "metadata": {},
   "outputs": [
    {
     "data": {
      "image/png": "[encoded data removed]",
      "text/plain": [
       "<Figure size 800x400 with 1 Axes>"
      ]
     },
     "metadata": {},
     "output_type": "display_data"
    }
   ],
   "source": [
    "# ----------------------------------------------------------\n",
    "# 🎨 9. Visualization (Simple Diagram using Matplotlib)\n",
    "# ----------------------------------------------------------\n",
    "\n",
    "import matplotlib.pyplot as plt\n",
    "\n",
    "x = np.linspace(0, 2 * np.pi, 100)\n",
    "y = np.sin(x)\n",
    "\n",
    "plt.figure(figsize=(8, 4))\n",
    "plt.plot(x, y, label='sin(x)', linewidth=2)\n",
    "plt.title(\"Sine Function using NumPy Arrays\")\n",
    "plt.xlabel(\"x\")\n",
    "plt.ylabel(\"sin(x)\")\n",
    "plt.legend()\n",
    "plt.grid(True)\n",
    "plt.show()"
   ]
  },
  {
   "cell_type": "code",
   "execution_count": 23,
   "id": "b61d2a48-d086-42ea-b9de-55a676f1ba4a",
   "metadata": {},
   "outputs": [
    {
     "name": "stdout",
     "output_type": "stream",
     "text": [
      "\n",
      "Matrix A:\n",
      " [[1 2]\n",
      " [3 4]]\n",
      "\n",
      "Matrix B:\n",
      " [[5 6]\n",
      " [7 8]]\n",
      "\n",
      "A @ B =\n",
      " [[19 22]\n",
      " [43 50]]\n",
      "\n",
      "Transpose of A:\n",
      " [[1 3]\n",
      " [2 4]]\n",
      "\n",
      "Determinant of A: -2.0000000000000004\n",
      "\n",
      "Inverse of A:\n",
      " [[-2.   1. ]\n",
      " [ 1.5 -0.5]]\n"
     ]
    },
    {
     "data": {
      "text/markdown": [
       "### ✅ Summary\n",
       "NumPy provides an efficient foundation for numerical computing in Python. It’s essential for data science, machine learning, and scientific computing. Next steps include learning about random numbers, masked arrays, and integration with pandas."
      ],
      "text/plain": [
       "<IPython.core.display.Markdown object>"
      ]
     },
     "execution_count": 23,
     "metadata": {},
     "output_type": "execute_result"
    }
   ],
   "source": [
    "# ----------------------------------------------------------\n",
    "# 💡 10. Practical Example — Basic Linear Algebra\n",
    "# ----------------------------------------------------------\n",
    "\n",
    "A = np.array([[1, 2], [3, 4]])\n",
    "B = np.array([[5, 6], [7, 8]])\n",
    "\n",
    "print(\"\\nMatrix A:\\n\", A)\n",
    "print(\"\\nMatrix B:\\n\", B)\n",
    "\n",
    "# Matrix multiplication\n",
    "print(\"\\nA @ B =\\n\", np.dot(A, B))\n",
    "\n",
    "# Transpose and inverse\n",
    "print(\"\\nTranspose of A:\\n\", A.T)\n",
    "print(\"\\nDeterminant of A:\", np.linalg.det(A))\n",
    "print(\"\\nInverse of A:\\n\", np.linalg.inv(A))\n",
    "\n",
    "Markdown(\"### ✅ Summary\\nNumPy provides an efficient foundation for numerical computing in Python. It’s essential for data science, machine learning, and scientific computing. Next steps include learning about random numbers, masked arrays, and integration with pandas.\")"
   ]
  },
  {
   "cell_type": "code",
   "execution_count": null,
   "id": "a1d1a5f5-2560-486d-a848-b48f8f5c4bf0",
   "metadata": {},
   "outputs": [],
   "source": []
  }
 ],
 "metadata": {
  "kernelspec": {
   "display_name": "Python 3 (ipykernel)",
   "language": "python",
   "name": "python3"
  },
  "language_info": {
   "codemirror_mode": {
    "name": "ipython",
    "version": 3
   },
   "file_extension": ".py",
   "mimetype": "text/x-python",
   "name": "python",
   "nbconvert_exporter": "python",
   "pygments_lexer": "ipython3",
   "version": "3.12.7"
  }
 },
 "nbformat": 4,
 "nbformat_minor": 5
}
