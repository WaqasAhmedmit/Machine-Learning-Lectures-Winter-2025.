{
 "cells": [
  {
   "cell_type": "markdown",
   "id": "52a1f799-cda9-47fb-9221-3634b6bae626",
   "metadata": {},
   "source": [
    "### If Statement"
   ]
  },
  {
   "cell_type": "code",
   "execution_count": 3,
   "id": "54d24359-d32b-4113-b61a-0346db6f07b3",
   "metadata": {},
   "outputs": [
    {
     "name": "stdout",
     "output_type": "stream",
     "text": [
      "b is greater than a which is equal to 200\n"
     ]
    }
   ],
   "source": [
    "a = 33\n",
    "b = 200\n",
    "if b > a:\n",
    " print(\"b is greater than a which is equal to\",b) # you will get an error"
   ]
  },
  {
   "cell_type": "markdown",
   "id": "5efe541f-a2cb-44fe-8a34-dd0aca262bac",
   "metadata": {},
   "source": [
    "### If Else Statement"
   ]
  },
  {
   "cell_type": "code",
   "execution_count": 9,
   "id": "9937d788-b01f-489d-a74d-ac0e7afab9ba",
   "metadata": {},
   "outputs": [
    {
     "name": "stdout",
     "output_type": "stream",
     "text": [
      "Positive number\n",
      "Waqas\n"
     ]
    }
   ],
   "source": [
    "#Example\n",
    "number = 2\n",
    "\n",
    "if number > 0:\n",
    " print('Positive number')\n",
    "\n",
    "else:\n",
    " print('Negative number')\n",
    "\n",
    "print('Waqas')"
   ]
  },
  {
   "cell_type": "code",
   "execution_count": 7,
   "id": "d26df8e1-35d9-4dc2-b3dc-747dc42756af",
   "metadata": {},
   "outputs": [
    {
     "name": "stdout",
     "output_type": "stream",
     "text": [
      "a is greater than b\n"
     ]
    }
   ],
   "source": [
    "##Example\n",
    "a = 200\n",
    "b = 33\n",
    "if b > a:\n",
    "  print(\"b is greater than a\")\n",
    "elif a == b:\n",
    "  print(\"a and b are equal\")\n",
    "else:\n",
    "  print(\"a is greater than b\")"
   ]
  },
  {
   "cell_type": "code",
   "execution_count": null,
   "id": "d863e368-4848-4a4b-9e90-5f59437a8174",
   "metadata": {},
   "outputs": [],
   "source": []
  },
  {
   "cell_type": "code",
   "execution_count": 2,
   "id": "46d502ff-d44c-4094-ba30-1cdab7a37748",
   "metadata": {},
   "outputs": [
    {
     "name": "stdin",
     "output_type": "stream",
     "text": [
      "enter email nitish.campusx@gmail.com\n",
      "enter password 1234\n"
     ]
    },
    {
     "name": "stdout",
     "output_type": "stream",
     "text": [
      "Welcome\n"
     ]
    }
   ],
   "source": [
    "# login program and indentation\n",
    "# email -> nitish.campusx@gmail.com\n",
    "# password -> 1234\n",
    "\n",
    "email = input('enter email')\n",
    "password = input('enter password')\n",
    "\n",
    "if email == 'nitish.campusx@gmail.com' and password == '1234':\n",
    "  print('Welcome')\n",
    "elif email == 'nitish.campusx@gmail.com' and password != '1234':\n",
    "  # tell the user\n",
    "  print('Incorrect password')\n",
    "  password = input('enter password again')\n",
    "  if password == '1234':\n",
    "    print('Welcome,finally!')\n",
    "  else:\n",
    "    print('mima is incorrect')\n",
    "else:\n",
    "  print('Not correct')"
   ]
  },
  {
   "cell_type": "code",
   "execution_count": 3,
   "id": "167d9c7b-0554-4c33-b0a5-ea4533fa4346",
   "metadata": {},
   "outputs": [
    {
     "name": "stdin",
     "output_type": "stream",
     "text": [
      "\n",
      "Hi! how can I help you.\n",
      "1. Enter 1 for pin change\n",
      "2. Enter 2 for balance check\n",
      "3. Enter 3 for withdrawl\n",
      "4. Enter 4 for exit\n",
      " 1\n"
     ]
    },
    {
     "name": "stdout",
     "output_type": "stream",
     "text": [
      "pin change\n"
     ]
    }
   ],
   "source": [
    "# ###  Bank system\n",
    "menu = input(\"\"\"\n",
    "Hi! how can I help you.\n",
    "1. Enter 1 for pin change\n",
    "2. Enter 2 for balance check\n",
    "3. Enter 3 for withdrawl\n",
    "4. Enter 4 for exit\n",
    "\"\"\")\n",
    "\n",
    "if menu == '1':\n",
    "  print('pin change')\n",
    "elif menu == '2':\n",
    "  print('balance')\n",
    "else:\n",
    "  print('exit')"
   ]
  },
  {
   "cell_type": "code",
   "execution_count": null,
   "id": "4514e576-c9c4-4570-84f3-c69fb1ff7c47",
   "metadata": {},
   "outputs": [],
   "source": []
  }
 ],
 "metadata": {
  "kernelspec": {
   "display_name": "Python 3 (ipykernel)",
   "language": "python",
   "name": "python3"
  },
  "language_info": {
   "codemirror_mode": {
    "name": "ipython",
    "version": 3
   },
   "file_extension": ".py",
   "mimetype": "text/x-python",
   "name": "python",
   "nbconvert_exporter": "python",
   "pygments_lexer": "ipython3",
   "version": "3.12.7"
  }
 },
 "nbformat": 4,
 "nbformat_minor": 5
}
