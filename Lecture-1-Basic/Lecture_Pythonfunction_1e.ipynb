{
 "cells": [
  {
   "cell_type": "markdown",
   "id": "ddae397b-ff93-4809-b191-97c6d1449620",
   "metadata": {},
   "source": [
    "### Let's create a function(with docstring)"
   ]
  },
  {
   "cell_type": "markdown",
   "id": "6296e97c-4a14-4a49-b808-f309a76d9497",
   "metadata": {},
   "source": [
    "### Python Functions is a block of statements that return the specific task. The idea is to put some commonly or repeatedly done tasks together and make a function so that instead of writing the same code again and again for different inputs, we can do the function calls to reuse code contained in it over and over again.\n",
    "### Python 函数是返回特定任务的语句块。这个想法是将一些常见或重复完成的任务放在一起并创建一个函数，这样我们就可以进行函数调用来一遍又一遍地重用其中包含的代码，而不是一次又一次地为不同的输入编写相同的代码。\r\n",
    "\n",
    "### Some Benefits of Using Function 使用函数的一些好处\n",
    "重用性s\n",
    "\n",
    "### Increase Code Readabil提高代码可读性\n",
    "\n",
    "ity \n",
    "### Increase Code Reusabi 提高代码的可重用性lity"
   ]
  },
  {
   "cell_type": "code",
   "execution_count": 5,
   "id": "5f13d6c2-ee30-4eda-a671-c973cdeb00d3",
   "metadata": {},
   "outputs": [],
   "source": [
    "## Example\n",
    "def ninhao():\n",
    "    \"\"\"\n",
    "    Function name= nin hao\n",
    "    created by Waqas\n",
    "    Date: 2024.4.1\n",
    "    \"\"\"\n",
    "    print('Hello World!')"
   ]
  },
  {
   "cell_type": "code",
   "execution_count": 3,
   "id": "294ba236-6e59-43cd-8fa6-ad1b68e59bc6",
   "metadata": {},
   "outputs": [
    {
     "name": "stdout",
     "output_type": "stream",
     "text": [
      "Hello World!\n"
     ]
    }
   ],
   "source": [
    "ninhao()"
   ]
  },
  {
   "cell_type": "code",
   "execution_count": 21,
   "id": "5c1b9937-b4a4-4307-9138-628e972a1c47",
   "metadata": {},
   "outputs": [
    {
     "name": "stdout",
     "output_type": "stream",
     "text": [
      "Prints the values to a stream, or to sys.stdout by default.\n",
      "\n",
      "  sep\n",
      "    string inserted between values, default a space.\n",
      "  end\n",
      "    string appended after the last value, default a newline.\n",
      "  file\n",
      "    a file-like object (stream); defaults to the current sys.stdout.\n",
      "  flush\n",
      "    whether to forcibly flush the stream.\n"
     ]
    }
   ],
   "source": [
    "print(Lifamily .__doc__)"
   ]
  },
  {
   "cell_type": "markdown",
   "id": "c996bebc-a355-44ac-98b1-8b3a902363b1",
   "metadata": {},
   "source": [
    "### 1. def: This keyword is used t odefin ea new function, signaling the start of the function's code block.### \r",
    "### \n",
    "2\r\n",
    "Docstring: This is a special string literal that describes the function's purpose and behavior. It's enclosed in triple quotes and appears right after the function definition### .\r\n",
    ". \r\n",
    "Function Body: This is where the ac tualworkor operations of the function are defined. It contains the code that executes when the function is called.\r\n",
    "\r\n",
    "Here's an example of a simple Python function with these three parts:\r\n",
    "\r\n",
    "def greet(name):\r\n",
    "\"\"\"\r\n",
    "This function greets the person whose name is passed as a parameter.\r\n",
    "\"\"\"\r\n",
    "print(f\"Hello, {name}!\")\r\n",
    "\r\n",
    "In this example:\r\n",
    "•  def greet(name): defines a function named greet that takes one parameter, name.\r\n",
    "\r\n",
    "•  The docstring explains what the function does.\r\n",
    "\r\n",
    "•  The function body contains a print statement that outputs a greeting."
   ]
  },
  {
   "cell_type": "code",
   "execution_count": 4,
   "id": "a07e88f6-9e8f-4052-94d1-b220d64cc78e",
   "metadata": {},
   "outputs": [],
   "source": [
    "## Example\n",
    "def Greet():\n",
    "    \"\"\"\n",
    "    Function name= nin hao\n",
    "    created by Waqas\n",
    "    Date: 2024.4.1\n",
    "    \"\"\"\n",
    "    print('Hello World!')"
   ]
  },
  {
   "cell_type": "code",
   "execution_count": 5,
   "id": "4db6ec68-cb98-4fa3-a3de-3b98de2c9628",
   "metadata": {},
   "outputs": [
    {
     "name": "stdout",
     "output_type": "stream",
     "text": [
      "Hello World!\n"
     ]
    }
   ],
   "source": [
    "Greet()"
   ]
  },
  {
   "cell_type": "markdown",
   "id": "e9d0e46a-c205-486c-bbe1-8ab85b606e98",
   "metadata": {},
   "source": [
    "### Types of Functions Python 中的函数主要有两类。\n",
    "### There are mainly two types of functions in Python.\n",
    "### Built-in library function: These are Standard functions in Python that are available to use. \r\n",
    "内置库函数：这些是 Python 中可供使用的标准函数。### \r\n",
    "User-defined function: We can create our own functions based on our requirement用户自定义函数：我们可以根据自己的需求创建自己的函数。s."
   ]
  },
  {
   "cell_type": "code",
   "execution_count": 6,
   "id": "09ee2135-2331-44ae-b75e-d48e83faea5d",
   "metadata": {},
   "outputs": [],
   "source": [
    "### Example \n",
    "# A simple Python function\n",
    "def fun():\n",
    "\tprint(\"Welcome to Class\")\n"
   ]
  },
  {
   "cell_type": "markdown",
   "id": "33bbda44-9a6f-41ba-8f8b-14a1839ec8dc",
   "metadata": {},
   "source": [
    "### Calling a  Python Function 调用 Python 函数。\n",
    "### After creating a function in Python we can call it by using the name of the function followed by parenthesis containing parameters of that particular function 在 Python 中创建函数后，我们可以使用函数名称后跟包含该特定函数参数的括号来调用它。."
   ]
  },
  {
   "cell_type": "code",
   "execution_count": 7,
   "id": "8739e373-9511-4cd8-b135-7814a756c1dd",
   "metadata": {},
   "outputs": [
    {
     "name": "stdout",
     "output_type": "stream",
     "text": [
      "Welcome to Class\n"
     ]
    }
   ],
   "source": [
    "# Driver code to call a function\n",
    "fun()"
   ]
  },
  {
   "cell_type": "markdown",
   "id": "cff4bcbf-3247-4a9b-a671-6fe0d7685398",
   "metadata": {},
   "source": [
    "### Python return statement\n",
    "\n",
    "def fun():\r\n",
    "    statements\r\n",
    "    .\r\n",
    "    .\r\n",
    "    return [express\n",
    "\n",
    "### A return statement is used to end the execution of the function call and “returns” the result (value of the expression following the return keyword) to the caller. The statements after the return statements are not executed. If the return statement is without any expression, then the special value None is returned. A return statement is overall used to invoke a function so that the passed statements can be executed.  \n",
    "### return 语句用于结束函数调用的执行，并将结果（return 关键字后面的表达式的值）“返回”给调用者。 return 语句之后的语句不被执行。如果return语句没有任何表达式，则返回特殊值None。 return 语句总体上用于调用函数，以便可以执行传递的语句。\r",
    " ion]"
   ]
  },
  {
   "cell_type": "code",
   "execution_count": null,
   "id": "b940b418-afea-40fb-b27d-75d974b2dd2b",
   "metadata": {},
   "outputs": [],
   "source": [
    "L = [1,2,3]\n",
    "print(L.append(4))\n",
    "print(L)"
   ]
  },
  {
   "cell_type": "code",
   "execution_count": 1,
   "id": "7011c2ea-e1ef-4692-b61d-bd77e1803375",
   "metadata": {},
   "outputs": [],
   "source": [
    "### Examples\n",
    "def cube(x):\n",
    "   r=x**3\n",
    "   return r"
   ]
  },
  {
   "cell_type": "code",
   "execution_count": 3,
   "id": "58cd292d-5074-4df9-ab5d-7259a3165ed6",
   "metadata": {},
   "outputs": [
    {
     "data": {
      "text/plain": [
       "343"
      ]
     },
     "execution_count": 3,
     "metadata": {},
     "output_type": "execute_result"
    }
   ],
   "source": [
    "cube(7)"
   ]
  },
  {
   "cell_type": "code",
   "execution_count": 27,
   "id": "14f46c37-8835-4318-9d8e-a2964975233c",
   "metadata": {},
   "outputs": [],
   "source": [
    "# Python program to \n",
    "# demonstrate return statement \n",
    "\n",
    "def add(a, b):\n",
    "   sum = a + b\n",
    "\t# returning sum of a and b\n",
    "   return sum\n",
    "   \n"
   ]
  },
  {
   "cell_type": "code",
   "execution_count": 28,
   "id": "a8e8dcdc-be34-4a22-ae73-c3e001f5122f",
   "metadata": {},
   "outputs": [
    {
     "data": {
      "text/plain": [
       "5"
      ]
     },
     "execution_count": 28,
     "metadata": {},
     "output_type": "execute_result"
    }
   ],
   "source": [
    " add(2,3)"
   ]
  },
  {
   "cell_type": "markdown",
   "id": "dc88e692-188d-410d-84d9-48111c2bf8b4",
   "metadata": {},
   "source": [
    "### How to look the function docstring\n",
    "\n",
    "## Example print()\n",
    "print(function_name.__doc)\n"
   ]
  },
  {
   "cell_type": "code",
   "execution_count": 4,
   "id": "0e9399b9-70c2-40aa-8e8f-a19da58ba951",
   "metadata": {},
   "outputs": [
    {
     "name": "stdout",
     "output_type": "stream",
     "text": [
      "Prints the values to a stream, or to sys.stdout by default.\n",
      "\n",
      "  sep\n",
      "    string inserted between values, default a space.\n",
      "  end\n",
      "    string appended after the last value, default a newline.\n",
      "  file\n",
      "    a file-like object (stream); defaults to the current sys.stdout.\n",
      "  flush\n",
      "    whether to forcibly flush the stream.\n"
     ]
    }
   ],
   "source": [
    "print(print.__doc__)"
   ]
  },
  {
   "cell_type": "markdown",
   "id": "a0624aee-6beb-4c8f-a418-a2e5b0cc362c",
   "metadata": {},
   "source": [
    "### Python Function Arguments (Python 函数参数)\n",
    "Types of Arguments\r\n",
    "Default Argument\r\n",
    "Positional Argument\r\n",
    "Keyword Argument"
   ]
  },
  {
   "cell_type": "markdown",
   "id": "c0038549-07e0-495a-98d9-3b54dea89d48",
   "metadata": {},
   "source": [
    "### Default Argument\n",
    "### In Python, we can provide default values to function arguments.\r\n",
    "###  \r\n",
    "We use the = operator to provide default values. For example,"
   ]
  },
  {
   "cell_type": "code",
   "execution_count": 24,
   "id": "e2c792d1-2775-4c5e-b35c-f24b9f3eab31",
   "metadata": {},
   "outputs": [
    {
     "name": "stdout",
     "output_type": "stream",
     "text": [
      "Sum: 6\n"
     ]
    }
   ],
   "source": [
    "## Example\n",
    "def add_numbers( a = 7,  b = 8):\n",
    "    sum = a + b\n",
    "    print('Sum:', sum)\n",
    "\n",
    "\n",
    "\n",
    "\n",
    "# function call with no arguments\n",
    "add_numbers(2, 4)"
   ]
  },
  {
   "cell_type": "code",
   "execution_count": 16,
   "id": "26596aa9-5d0f-4b94-ad95-0440eb446db8",
   "metadata": {},
   "outputs": [
    {
     "name": "stdout",
     "output_type": "stream",
     "text": [
      "Sum: 9\n"
     ]
    }
   ],
   "source": [
    "# function call with two arguments\n",
    "add_numbers(1 ,)\n"
   ]
  },
  {
   "cell_type": "markdown",
   "id": "010fb2b3-3237-4d66-98dc-d6c56b08121e",
   "metadata": {},
   "source": [
    "### Python Keyword Argument\n",
    "In keyword arguments, arguments are assigned based on the name of the arguments. For example,"
   ]
  },
  {
   "cell_type": "code",
   "execution_count": 33,
   "id": "87dfec4a-c8a8-4119-a3c8-6a6d40205411",
   "metadata": {},
   "outputs": [
    {
     "name": "stdout",
     "output_type": "stream",
     "text": [
      "First Name: Eric\n",
      "Last Name: Cartman\n"
     ]
    }
   ],
   "source": [
    "def display_info(first_name, last_name):\n",
    "    print('First Name:', first_name)\n",
    "    print('Last Name:', last_name)\n",
    "\n",
    "display_info(last_name = 'Cartman', first_name = 'Eric')"
   ]
  },
  {
   "cell_type": "code",
   "execution_count": 20,
   "id": "bbba00ab-ca00-4040-91b6-94095887cf18",
   "metadata": {},
   "outputs": [
    {
     "name": "stdout",
     "output_type": "stream",
     "text": [
      "Sum =  10\n"
     ]
    }
   ],
   "source": [
    "# program to find sum of multiple numbers \n",
    "\n",
    "def find_sum(*numbers):\n",
    "    result = 0\n",
    "    \n",
    "    for num in numbers:\n",
    "        result = result + num\n",
    "    \n",
    "    print(\"Sum = \", result)\n",
    "\n",
    "# function call with 3 arguments\n",
    "find_sum(1, 2, 3, 4)"
   ]
  },
  {
   "cell_type": "markdown",
   "id": "d93e6d0a-c0c5-43d0-9bb7-479f6eb897e9",
   "metadata": {},
   "source": [
    "### During the function call, we have used the Position such that the first argument(or value) will be assigned to name and the second argument(or value) will be assigned to age. By changing the position or in case you forgot the order of the position then the values can be used at the wrong places as we can see in the below example of Case-2 that 20 has been assigned to the name and Prince has been assigned to age."
   ]
  },
  {
   "cell_type": "code",
   "execution_count": 37,
   "id": "ba410848-75b0-4568-a1fb-c21f51a45bad",
   "metadata": {},
   "outputs": [],
   "source": []
  },
  {
   "cell_type": "raw",
   "id": "fca56027-96a2-40c3-af4e-11b6a72c2fd4",
   "metadata": {},
   "source": []
  },
  {
   "cell_type": "code",
   "execution_count": 34,
   "id": "63a29272-e05c-4c53-bf34-3c7548c3c8a9",
   "metadata": {},
   "outputs": [
    {
     "name": "stdout",
     "output_type": "stream",
     "text": [
      "Case-1:\n",
      "Hi, I am Prince\n",
      "My age is  20\n",
      "\n",
      "Case-2:\n",
      "Hi, I am 20\n",
      "My age is  Prince\n"
     ]
    }
   ],
   "source": [
    "def nameAge(name, age):\n",
    "\tprint(\"Hi, I am\", name)\n",
    "\tprint(\"My age is \", age)\n",
    "\n",
    "# You will get correct output because argument is given in order\n",
    "print(\"Case-1:\")\n",
    "nameAge(\"Prince\", 20)\n",
    "# You will get incorrect output because argument is not in order\n",
    "print(\"\\nCase-2:\")\n",
    "nameAge(20, \"Prince\")\n"
   ]
  },
  {
   "cell_type": "markdown",
   "id": "41aca631-b114-45d9-becc-4478587d8ba4",
   "metadata": {},
   "source": [
    "### *args and **kwargs\n",
    "*args and **kwargs are special Python keywords that are used to pass the variable length of arguments to a function"
   ]
  },
  {
   "cell_type": "code",
   "execution_count": null,
   "id": "5d903f76-68e0-4ba7-a304-39f64052fd7b",
   "metadata": {},
   "outputs": [],
   "source": [
    "# *args\n",
    "# allows us to pass a variable number of non-keyword arguments to a function.\n",
    "\n",
    "def multiply(*kwargs):\n",
    "  product = 1\n",
    "\n",
    "  for i in kwargs:\n",
    "    product = product * i\n",
    "\n",
    "  print(kwargs)\n",
    "  return product"
   ]
  },
  {
   "cell_type": "code",
   "execution_count": 35,
   "id": "1d81859c-006b-4ea8-9d75-5929aa5995c4",
   "metadata": {},
   "outputs": [
    {
     "name": "stdout",
     "output_type": "stream",
     "text": [
      "Hello\n",
      "Welcome\n",
      "to\n",
      "GeeksforGeeks\n"
     ]
    }
   ],
   "source": [
    "def myFun(*argv):\n",
    "\tfor arg in argv:\n",
    "\t\tprint(arg)\n",
    "\n",
    "\n",
    "myFun('Hello', 'Welcome', 'to', 'GeeksforGeeks')\n"
   ]
  },
  {
   "cell_type": "code",
   "execution_count": null,
   "id": "947f19d7-55c7-4046-8521-964956816a54",
   "metadata": {},
   "outputs": [],
   "source": [
    "# **kwargs\n",
    "# **kwargs allows us to pass any number of keyword arguments.\n",
    "# Keyword arguments mean that they contain a key-value pair, like a Python dictionary.\n",
    "\n",
    "def display(**salman):\n",
    "\n",
    "  for (key,value) in salman.items():\n",
    "    print(key,'->',value)"
   ]
  },
  {
   "cell_type": "code",
   "execution_count": 36,
   "id": "10b2b384-8b52-436b-a356-490200d8f0a2",
   "metadata": {},
   "outputs": [
    {
     "name": "stdout",
     "output_type": "stream",
     "text": [
      "first == Geeks\n",
      "mid == for\n",
      "last == Geeks\n"
     ]
    }
   ],
   "source": [
    "def myFun(**kwargs):\n",
    "\tfor key, value in kwargs.items():\n",
    "\t\tprint(\"%s == %s\" % (key, value))\n",
    "\n",
    "\n",
    "# Driver code\n",
    "myFun(first='Geeks', mid='for', last='Geeks')\n"
   ]
  },
  {
   "cell_type": "markdown",
   "id": "67f791d9-0a09-4823-9958-0f64ee668660",
   "metadata": {},
   "source": [
    "### Python Lambda/Anonymous Function\n",
    "In Python, a lambda function is a special type of function without the function name. For example,"
   ]
  },
  {
   "cell_type": "code",
   "execution_count": null,
   "id": "3afbb130-af26-42e5-bf87-075f0480ea20",
   "metadata": {},
   "outputs": [],
   "source": [
    "# declare a lambda function\n",
    "greet = lambda : print('Hello World')\n",
    "\n",
    "# call lambda function\n",
    "greet()\n",
    "\n",
    "# Output: Hello World"
   ]
  },
  {
   "cell_type": "code",
   "execution_count": null,
   "id": "983b9f71-f3fe-451a-abbf-64d2ab77d5b3",
   "metadata": {},
   "outputs": [],
   "source": [
    "# lambda that accepts one argument\n",
    "greet_user = lambda name : print('Hey there,', name)\n",
    "\n",
    "# lambda call\n",
    "greet_user('Delilah')\n",
    "\n",
    "# Output: Hey there, Delilah"
   ]
  },
  {
   "cell_type": "markdown",
   "id": "c0316bad-420f-419c-a0fe-0574f749ca6c",
   "metadata": {},
   "source": [
    "### The filter() function in Python takes in a function and an iterable (lists, tuples, and strings) as arguments.\n",
    "\n",
    "The function is called with all the items in the list, and a new list is returned, which contains items for which the function evaluates to True.\n",
    "\n",
    "Let's see an example,\n",
    "\n"
   ]
  },
  {
   "cell_type": "code",
   "execution_count": null,
   "id": "cada134d-f303-455b-a75e-1285d0aa977e",
   "metadata": {},
   "outputs": [],
   "source": [
    "# program to filter out only the even items from a list\n",
    "my_list = [1, 5, 4, 6, 8, 11, 3, 12]\n",
    "\n",
    "new_list = list(filter(lambda x: (x%2 == 0) , my_list))\n",
    "\n",
    "print(new_list)\n",
    "\n",
    "# Output: [4, 6, 8, 12]"
   ]
  },
  {
   "cell_type": "markdown",
   "id": "fc4d658d-5795-4ea3-a0ac-62cf3b9aab01",
   "metadata": {},
   "source": [
    "### The map() function in Python takes in a function and an iterable (lists, tuples, and strings) as arguments.\r\n",
    "\r\n",
    "The function is called with all the items in the list, and a new list is returned, which contains items returned by that function for each item.\r\n",
    "\r\n",
    "Let's see an example,"
   ]
  },
  {
   "cell_type": "code",
   "execution_count": null,
   "id": "e5729742-f45d-4913-95d9-7cf2a34d8097",
   "metadata": {},
   "outputs": [],
   "source": [
    "# Program to double each item in a list using map()\n",
    "\n",
    "my_list = [1, 5, 4, 6, 8, 11, 3, 12]\n",
    "\n",
    "new_list = list(map(lambda x: x * 2 , my_list))\n",
    "\n",
    "print(new_list)\n",
    "\n",
    "# Output: [2, 10, 8, 12, 16, 22, 6, 24]"
   ]
  },
  {
   "cell_type": "code",
   "execution_count": 2,
   "id": "ea83adcb-7143-43ca-857b-5cb645134d4b",
   "metadata": {},
   "outputs": [],
   "source": [
    "### Practical Example"
   ]
  },
  {
   "cell_type": "code",
   "execution_count": null,
   "id": "1ac90699-aaed-4525-84b9-a19ec220edc0",
   "metadata": {},
   "outputs": [],
   "source": []
  }
 ],
 "metadata": {
  "kernelspec": {
   "display_name": "Python 3 (ipykernel)",
   "language": "python",
   "name": "python3"
  },
  "language_info": {
   "codemirror_mode": {
    "name": "ipython",
    "version": 3
   },
   "file_extension": ".py",
   "mimetype": "text/x-python",
   "name": "python",
   "nbconvert_exporter": "python",
   "pygments_lexer": "ipython3",
   "version": "3.12.7"
  }
 },
 "nbformat": 4,
 "nbformat_minor": 5
}
