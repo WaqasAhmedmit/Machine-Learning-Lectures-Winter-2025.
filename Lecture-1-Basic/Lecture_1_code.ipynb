{
 "cells": [
  {
   "cell_type": "markdown",
   "id": "0e1535ad-1cb5-4e1b-bd02-e0ccc37483bc",
   "metadata": {},
   "source": [
    "<font color = blue > ########## First Programs######\n",
    "\n",
    "\n"
   ]
  },
  {
   "cell_type": "code",
   "execution_count": 8,
   "id": "810bbbe6-441f-42c7-87ff-772bc41ad9e8",
   "metadata": {},
   "outputs": [
    {
     "name": "stdout",
     "output_type": "stream",
     "text": [
      "waqas\n"
     ]
    }
   ],
   "source": [
    "name = 'waqas'\n",
    "output = print(name)"
   ]
  },
  {
   "cell_type": "markdown",
   "id": "d5a8cd78-7d15-4631-8646-ffd46b2fbed8",
   "metadata": {},
   "source": [
    "<font color = blue > #########print number#####"
   ]
  },
  {
   "cell_type": "code",
   "execution_count": 7,
   "id": "8805c14e-5c17-40ec-a76f-b296f1d0fc06",
   "metadata": {},
   "outputs": [
    {
     "name": "stdout",
     "output_type": "stream",
     "text": [
      "2\n"
     ]
    }
   ],
   "source": [
    "\n",
    "A=2\n",
    "print(A)\n"
   ]
  },
  {
   "cell_type": "code",
   "execution_count": 1,
   "id": "d679e620-1705-4f1d-a8a1-8441f69c7008",
   "metadata": {},
   "outputs": [
    {
     "name": "stdout",
     "output_type": "stream",
     "text": [
      "140720674817096 140720674817096\n"
     ]
    }
   ],
   "source": [
    "wen=10\n",
    "bin=10\n",
    "print(id(wen),id(bin))"
   ]
  },
  {
   "cell_type": "code",
   "execution_count": 22,
   "id": "c3ef78c6-a5fa-4e5f-8d40-df4b1bdecbbc",
   "metadata": {},
   "outputs": [
    {
     "name": "stdout",
     "output_type": "stream",
     "text": [
      "<class 'int'>\n",
      "<class 'float'>\n"
     ]
    }
   ],
   "source": [
    "A=2\n",
    "B=2.1\n",
    "print(type(A))\n",
    "print(type(B)) "
   ]
  },
  {
   "cell_type": "markdown",
   "id": "30940c0c-6afa-4014-adaf-3685617e998e",
   "metadata": {},
   "source": [
    " ####### Variables##############\n",
    " ## The data is store in variables\n",
    "## For examples  name, A , output all are variables\n",
    "##The variable is a name that we use to store values. 變量是我們用來存儲值的名稱 \n",
    "## Important points:\n",
    "## a variable name has no space:(變量名沒有空格 )  Biànliàng míng méiyǒu kònggé.\n",
    "##.a variable name never start with numbers:(變量名從不以數字開頭 )Biànliàng míng cóng bù yǐ shùzì kāitóu\n",
    "##  Do not use any special character to start variable: 不要使用任何特殊字符來啟動變量  Bùyào shǐyòng rènhé tèshū zìfú lái qǐdòng biànliàng\n",
    "\n",
    "\n",
    "\n",
    "\n"
   ]
  },
  {
   "cell_type": "markdown",
   "id": "b2c0dc06-e513-46b0-ba6a-8a9bd10a187c",
   "metadata": {},
   "source": [
    "### Types of data\n",
    "## Numerical data (Immutable)"
   ]
  },
  {
   "cell_type": "code",
   "execution_count": null,
   "id": "2915cc8f-7885-44e0-b328-9504880074e1",
   "metadata": {},
   "outputs": [],
   "source": [
    "# Integer\n",
    "print(8)\n",
    "print(type(8))"
   ]
  },
  {
   "cell_type": "markdown",
   "id": "d9ce6540-e91a-4298-ad97-1151fbca3eb4",
   "metadata": {},
   "source": [
    "### Examples of Immutable object (不可变对象的示例)bBùkě biàn duìxiàng de shìlì"
   ]
  },
  {
   "cell_type": "code",
   "execution_count": 4,
   "id": "ff867d56-e4c5-4df0-9345-23afb5aa15d5",
   "metadata": {},
   "outputs": [
    {
     "name": "stdout",
     "output_type": "stream",
     "text": [
      "Before changing, memory address =  140711886636264\n",
      "After changing, memory address =  140711886636488\n"
     ]
    }
   ],
   "source": [
    "m = 15\n",
    "print('Before changing, memory address = ', id(m))\n",
    "m = 22\n",
    " \n",
    "print('After changing, memory address = ', id(m))\n"
   ]
  },
  {
   "cell_type": "markdown",
   "id": "60776242-d67f-460f-a48c-9fd1971f73af",
   "metadata": {},
   "source": [
    "### In the above example we can see that when changing the value of the integer that is an immutable data type in python this will create a new object rather than changing the original object as the memory location of both is different.\n",
    "### 在上面的示例中，我们可以看到，当更改 python 中不可变数据类型的整数的值时，这将创建一个新对象，而不是更改原始对象，因为两者的内存位置不同\n"
   ]
  },
  {
   "cell_type": "markdown",
   "id": "da0527c4-ad9a-4be0-8d37-f659c737d5b9",
   "metadata": {},
   "source": [
    "### Examples of float"
   ]
  },
  {
   "cell_type": "code",
   "execution_count": 5,
   "id": "a2a6bb9a-5fbc-4881-96c7-ff4fc96173ea",
   "metadata": {},
   "outputs": [
    {
     "name": "stdout",
     "output_type": "stream",
     "text": [
      "3.14\n",
      "2464891885712\n",
      "4.140000000000001\n",
      "2464891880080\n"
     ]
    }
   ],
   "source": [
    "x = 3.14\n",
    "print(x)  \n",
    "print(id(x))\n",
    "x += 1.0\n",
    "print(x)  \n",
    "print(id(x))\n"
   ]
  },
  {
   "cell_type": "code",
   "execution_count": 23,
   "id": "abecea00-e3a7-4db4-9aec-6405a36ef877",
   "metadata": {},
   "outputs": [],
   "source": [
    "# Decimal/Float\n",
    "print(8.55)\n",
    "print(type(8.55)"
   ]
  },
  {
   "cell_type": "code",
   "execution_count": 24,
   "id": "416ee1fa-3635-479d-a2d1-064719bc01cc",
   "metadata": {},
   "outputs": [
    {
     "name": "stdout",
     "output_type": "stream",
     "text": [
      "(5+5j)\n",
      "2464905564368\n",
      "(6+5j) 2464905564144\n"
     ]
    }
   ],
   "source": [
    "# complex\n",
    "import cmath\n",
    "com=5+5j\n",
    "print(com)\n",
    "print(id(com))\n",
    "com=6+5j\n",
    "print(com,id(com))\n"
   ]
  },
  {
   "cell_type": "markdown",
   "id": "5602e1f3-0205-46df-ab21-e6f7c06c41f0",
   "metadata": {},
   "source": [
    "### Examples for Strings"
   ]
  },
  {
   "cell_type": "code",
   "execution_count": 8,
   "id": "97098a7f-ef83-4a5e-8595-0995d85d24c3",
   "metadata": {},
   "outputs": [
    {
     "name": "stdout",
     "output_type": "stream",
     "text": [
      "2464906510944\n"
     ]
    }
   ],
   "source": [
    "# initial string ####### 'waqas',\"waqas\",'''waqas'''\n",
    "initialstring = 'Welcome to PrepBytes'\n",
    "# Now we will change at index 4\n",
    "print(id(initialstring))"
   ]
  },
  {
   "cell_type": "code",
   "execution_count": 27,
   "id": "b374624f-cb01-4423-89dc-2bfc5dd638c9",
   "metadata": {},
   "outputs": [
    {
     "name": "stdout",
     "output_type": "stream",
     "text": [
      "140711885419976\n"
     ]
    }
   ],
   "source": [
    "initialstring = 'n'\n",
    "print(id(initialstring))"
   ]
  },
  {
   "cell_type": "code",
   "execution_count": 28,
   "id": "73458781-c9f7-421e-bb54-90528394e4da",
   "metadata": {},
   "outputs": [
    {
     "ename": "TypeError",
     "evalue": "'str' object does not support item assignment",
     "output_type": "error",
     "traceback": [
      "\u001b[1;31m---------------------------------------------------------------------------\u001b[0m",
      "\u001b[1;31mTypeError\u001b[0m                                 Traceback (most recent call last)",
      "Cell \u001b[1;32mIn[28], line 1\u001b[0m\n\u001b[1;32m----> 1\u001b[0m initialstring[\u001b[38;5;241m4\u001b[39m] \u001b[38;5;241m=\u001b[39m \u001b[38;5;124m'\u001b[39m\u001b[38;5;124mn\u001b[39m\u001b[38;5;124m'\u001b[39m\n\u001b[0;32m      2\u001b[0m \u001b[38;5;28mprint\u001b[39m(initialstring)\n",
      "\u001b[1;31mTypeError\u001b[0m: 'str' object does not support item assignment"
     ]
    }
   ],
   "source": [
    "initialstring[4] = 'n'\n",
    "print(initialstring)"
   ]
  },
  {
   "cell_type": "markdown",
   "id": "e8033710-d0ec-4504-abec-8625cadd315a",
   "metadata": {},
   "source": [
    "### Tuple\n",
    "### Python Tuple is a collection of objects separated by commas.(Python 元组是用逗号分隔的对象的集合。\n",
    "Python yuán zǔ shì yòng dòuhào fēngé de duìxiàng de jíhé.)"
   ]
  },
  {
   "cell_type": "code",
   "execution_count": 29,
   "id": "de966ac2-e198-4f5b-8d5d-852056772692",
   "metadata": {},
   "outputs": [
    {
     "name": "stdout",
     "output_type": "stream",
     "text": [
      "('apple', 'banana', 'cherry')\n"
     ]
    }
   ],
   "source": [
    "thistuple = (\"apple\", \"banana\", \"cherry\")\n",
    "print(thistuple)"
   ]
  },
  {
   "cell_type": "code",
   "execution_count": 34,
   "id": "a74a2907-7655-433d-bade-6eaf8854eb26",
   "metadata": {
    "scrolled": true
   },
   "outputs": [
    {
     "name": "stdout",
     "output_type": "stream",
     "text": [
      "(22, 33, 5, 23)\n"
     ]
    }
   ],
   "source": [
    "\n",
    "##Example 1: Tuple with integers as elements\n",
    "tup = (22, 33, 5, 23)\n",
    "print(tup)"
   ]
  },
  {
   "cell_type": "code",
   "execution_count": 35,
   "id": "a936b201-4e6a-4769-a753-754a93bde026",
   "metadata": {},
   "outputs": [
    {
     "name": "stdout",
     "output_type": "stream",
     "text": [
      "('hi', 11, 45.7)\n"
     ]
    }
   ],
   "source": [
    "##Example 2: Tuple with mixed data type\n",
    "\n",
    "tup2 = ('hi', 11, 45.7)\n",
    "print(tup2)"
   ]
  },
  {
   "cell_type": "code",
   "execution_count": 36,
   "id": "35b22c0a-2bb2-4cd9-a668-e5777102a903",
   "metadata": {},
   "outputs": [
    {
     "name": "stdout",
     "output_type": "stream",
     "text": [
      "(55, (6, 'hi'), 67)\n"
     ]
    }
   ],
   "source": [
    "##Example 3: Tuple with a tuple as an element\n",
    "tup3 = (55, (6, 'hi'), 67)\n",
    "print(tup3)"
   ]
  },
  {
   "cell_type": "markdown",
   "id": "dfa650df-3085-4cf9-b76b-1de4197da7ed",
   "metadata": {},
   "source": [
    "### Mutable ....A mutable data type is those whose values can be changed.可变数据类型是指其值可以更改的数据类型。\r\n",
    "Example: List, Dictionaries, and Set\n",
    "###  SE (Unorder and Immutable)T"
   ]
  },
  {
   "cell_type": "code",
   "execution_count": 41,
   "id": "2e570f28-2ecb-47af-9e72-a11e94424527",
   "metadata": {},
   "outputs": [
    {
     "name": "stdout",
     "output_type": "stream",
     "text": [
      "{1, 2, 3}\n",
      "2464906391424\n"
     ]
    }
   ],
   "source": [
    "my_set = {1, 2, 3}\n",
    "print(my_set)\n",
    "print(id(my_set))"
   ]
  },
  {
   "cell_type": "code",
   "execution_count": 42,
   "id": "248fae7e-c826-4010-9d2d-b9dac6f21fbf",
   "metadata": {},
   "outputs": [
    {
     "name": "stdout",
     "output_type": "stream",
     "text": [
      "{1, 2, 3, 4}\n",
      "2464906391424\n"
     ]
    }
   ],
   "source": [
    "new_set = my_set\n",
    "new_set.add(4)\n",
    "print(new_set)\n",
    "print(id(new_set))"
   ]
  },
  {
   "cell_type": "code",
   "execution_count": 43,
   "id": "245c4c30-3f3b-4846-9030-36095d550a0f",
   "metadata": {},
   "outputs": [
    {
     "name": "stdout",
     "output_type": "stream",
     "text": [
      "{False, True, 'apple', 'banana', 'cherry'}\n"
     ]
    }
   ],
   "source": [
    "thisset = {\"apple\", \"banana\", \"cherry\", False, True, 0}\n",
    "\n",
    "print(thisset)"
   ]
  },
  {
   "cell_type": "code",
   "execution_count": 44,
   "id": "cf8d11ba-fe9d-4b39-a74f-016331c00bd9",
   "metadata": {},
   "outputs": [
    {
     "name": "stdout",
     "output_type": "stream",
     "text": [
      "Student ID: {112, 114, 115, 116, 118}\n",
      "Vowel Letters: {'a', 'o', 'e', 'i', 'u'}\n",
      "Set of mixed data types: {'Hello', 'Bye', 101, -2}\n"
     ]
    }
   ],
   "source": [
    "# create a set of integer type\n",
    "student_id = {112, 114, 116, 118, 115}\n",
    "print('Student ID:', student_id)\n",
    "\n",
    "# create a set of string type\n",
    "vowel_letters = {'a', 'e', 'i', 'o', 'u'}\n",
    "print('Vowel Letters:', vowel_letters)\n",
    "\n",
    "# create a set of mixed data types\n",
    "mixed_set = {'Hello', 101, -2, 'Bye'}\n",
    "print('Set of mixed data types:', mixed_set)"
   ]
  },
  {
   "cell_type": "markdown",
   "id": "2a7edd08-7990-42c6-baef-16b79a7a6ebf",
   "metadata": {},
   "source": [
    "### List []..Python lists store multiple data together in a single variable.Python 列表将多个数据一起存储在一个变量中。"
   ]
  },
  {
   "cell_type": "code",
   "execution_count": 47,
   "id": "5f0a6a1b-2966-4c02-9ec9-50c5d8c5d71f",
   "metadata": {},
   "outputs": [
    {
     "name": "stdout",
     "output_type": "stream",
     "text": [
      "[1, 2, 3]\n",
      "2464907534016\n",
      "[1, 2, 3, 4]\n",
      "2464907534016\n"
     ]
    }
   ],
   "source": [
    "   \n",
    "my_list = [1, 2, 3]\n",
    "print(my_list)\n",
    "my_list.append(4)\n",
    "print(id(my_list))\n",
    "print(my_list) \n",
    "print(id(my_list))"
   ]
  },
  {
   "cell_type": "markdown",
   "id": "2afee104-d633-4939-aec0-a89f49aa6733",
   "metadata": {},
   "source": [
    "### Examples List"
   ]
  },
  {
   "cell_type": "code",
   "execution_count": 49,
   "id": "3f455892-fc3b-497a-ad2c-72367fc01675",
   "metadata": {},
   "outputs": [
    {
     "name": "stdout",
     "output_type": "stream",
     "text": [
      "apple\n",
      "banana\n"
     ]
    }
   ],
   "source": [
    "fruits = [\"apple\", \"banana\", \"cherry\"]\n",
    "# Accessing the first element (index 0) in the list\n",
    "first_fruit = fruits[0]\n",
    "print(first_fruit)  \n",
    "# Accessing the second element (index 1) in the list\n",
    "second_fruit = fruits[1]\n",
    "print(second_fruit)  \n"
   ]
  },
  {
   "cell_type": "markdown",
   "id": "cf7fc017-bb0e-4269-8a4a-e9522cc589c3",
   "metadata": {},
   "source": [
    "### Dictionary {}\n",
    "### Ordered or Unordered? As of Python version 3.7, dictionaries are ordered. In Python 3.6 and earlier, dictionaries are unordered. When we say that dictionaries are ordered, it means that the items have a defined order, and that order will not change\n",
    "### 有序还是无序？从 Python 3.7 版本开始，字典是有序的。在 Python 3.6 及更早版本中，字典是无序的。当我们说字典是有序的时，意味着这些项目有一个定义的顺序，并且该顺序不会改变\n",
    "### A dictionary is a collection which is ordered*, changeable and do not allow duplicates.字典是一个有序*、可更改且不允许重复的集合。\r",
    "."
   ]
  },
  {
   "cell_type": "code",
   "execution_count": 50,
   "id": "96d8e428-7621-4f9a-9ce2-fc3744dbc0ea",
   "metadata": {},
   "outputs": [
    {
     "name": "stdout",
     "output_type": "stream",
     "text": [
      "{'name': 'Jessa', 'country': 'USA', 'telephone': 1178}\n",
      "{'name': 'Jessa', 'country': 'USA', 'telephone': 1178}\n",
      "{'name': 'Mark', 'country': 'USA', 'telephone': 1178}\n",
      "{'name': 'Jessa', 10: 'Mobile'}\n",
      "{'name': 'Jessa', 'telephones': [1178, 2563, 4569]}\n"
     ]
    }
   ],
   "source": [
    "# create a dictionary using {}\n",
    "person = {\"name\": \"Jessa\", \"country\": \"USA\", \"telephone\": 1178}\n",
    "print(person)\n",
    "# output {'name': 'Jessa', 'country': 'USA', 'telephone': 1178}\n",
    "\n",
    "# create a dictionary using dict()\n",
    "person = dict({\"name\": \"Jessa\", \"country\": \"USA\", \"telephone\": 1178})\n",
    "print(person)\n",
    "# output {'name': 'Jessa', 'country': 'USA', 'telephone': 1178}\n",
    "\n",
    "# create a dictionary from sequence having each item as a pair\n",
    "person = dict([(\"name\", \"Mark\"), (\"country\", \"USA\"), (\"telephone\", 1178)])\n",
    "print(person)\n",
    "\n",
    "# create dictionary with mixed keys keys\n",
    "# first key is string and second is an integer\n",
    "sample_dict = {\"name\": \"Jessa\", 10: \"Mobile\"}\n",
    "print(sample_dict)\n",
    "# output {'name': 'Jessa', 10: 'Mobile'}\n",
    "\n",
    "# create dictionary with value as a list\n",
    "person = {\"name\": \"Jessa\", \"telephones\": [1178, 2563, 4569]}\n",
    "print(person)\n",
    "# output {'name': 'Jessa', 'telephones': [1178, 2563, 4569]}"
   ]
  },
  {
   "cell_type": "code",
   "execution_count": null,
   "id": "925b9386-3a0f-4eb7-b615-f63013420436",
   "metadata": {},
   "outputs": [],
   "source": []
  },
  {
   "cell_type": "code",
   "execution_count": null,
   "id": "40e46081-7bca-43d8-8735-7c78e2959c8c",
   "metadata": {},
   "outputs": [],
   "source": []
  },
  {
   "cell_type": "code",
   "execution_count": null,
   "id": "20b9a8ad-4820-4bba-adb2-ca13b475190f",
   "metadata": {},
   "outputs": [],
   "source": []
  }
 ],
 "metadata": {
  "kernelspec": {
   "display_name": "Python 3 (ipykernel)",
   "language": "python",
   "name": "python3"
  },
  "language_info": {
   "codemirror_mode": {
    "name": "ipython",
    "version": 3
   },
   "file_extension": ".py",
   "mimetype": "text/x-python",
   "name": "python",
   "nbconvert_exporter": "python",
   "pygments_lexer": "ipython3",
   "version": "3.12.7"
  }
 },
 "nbformat": 4,
 "nbformat_minor": 5
}
