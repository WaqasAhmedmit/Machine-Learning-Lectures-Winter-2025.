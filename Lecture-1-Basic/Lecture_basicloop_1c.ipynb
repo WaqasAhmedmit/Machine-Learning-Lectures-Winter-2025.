{
 "cells": [
  {
   "cell_type": "markdown",
   "id": "6ceca3df-5c15-4811-b7f2-61569ca38b08",
   "metadata": {},
   "source": [
    "## For Loop\n",
    "## 3A for loop is used for iterating over a sequence (that is either a list, a tuple, a dictionary, a set, or a string)....\n",
    "### for 循环用于迭代序列（即列表、元组、字典、集合或字符串）。"
   ]
  },
  {
   "cell_type": "code",
   "execution_count": 1,
   "id": "e16e3b74-1625-455c-828a-1899763a84e0",
   "metadata": {},
   "outputs": [
    {
     "name": "stdout",
     "output_type": "stream",
     "text": [
      "apple\n",
      "banana\n",
      "cherry\n"
     ]
    }
   ],
   "source": [
    "## Example\n",
    "fruits = [\"apple\", \"banana\", \"cherry\"]\n",
    "for x in fruits:\n",
    "  print(x)"
   ]
  },
  {
   "cell_type": "code",
   "execution_count": 2,
   "id": "ff7b29e9-cf48-43bf-b7c8-7e835f911075",
   "metadata": {},
   "outputs": [
    {
     "name": "stdout",
     "output_type": "stream",
     "text": [
      "b\n",
      "a\n",
      "n\n",
      "a\n",
      "n\n",
      "a\n"
     ]
    }
   ],
   "source": [
    "### Example\n",
    "for x in \"banana\":\n",
    "  print(x)"
   ]
  },
  {
   "attachments": {},
   "cell_type": "markdown",
   "id": "b3757ab8-65b8-4789-96f9-69f615a3058b",
   "metadata": {},
   "source": [
    "### Python range() Function...................\n",
    "\n"
   ]
  },
  {
   "cell_type": "code",
   "execution_count": 3,
   "id": "a7f76c69-256b-4a00-b5ca-e8a04749e2c3",
   "metadata": {},
   "outputs": [
    {
     "name": "stdout",
     "output_type": "stream",
     "text": [
      "0 1 2 3 4 \n"
     ]
    }
   ],
   "source": [
    "## Example \n",
    "\n",
    "for i in range(5):\n",
    "    print(i, end=\" \")\n",
    "print()"
   ]
  },
  {
   "cell_type": "markdown",
   "id": "6c1a9490-0484-4902-a50a-a7dbc2bc73f7",
   "metadata": {},
   "source": [
    "### Example of Python range (start, stop)"
   ]
  },
  {
   "cell_type": "code",
   "execution_count": 4,
   "id": "12332985-6587-417b-9104-12452059276f",
   "metadata": {},
   "outputs": [
    {
     "name": "stdout",
     "output_type": "stream",
     "text": [
      "5 6 7 8 9 10 11 12 13 14 15 16 17 18 19 "
     ]
    }
   ],
   "source": [
    "## # printing a natural\n",
    "# number from 5 to 20\n",
    "for i in range(5, 20):\n",
    "\tprint(i, end=\" \")\n"
   ]
  },
  {
   "cell_type": "markdown",
   "id": "5c23cbc8-312c-4173-a603-91718c0aedd7",
   "metadata": {},
   "source": [
    "### Incrementing the Range using a Positive Step ...使用正步长增加范围"
   ]
  },
  {
   "cell_type": "code",
   "execution_count": 5,
   "id": "d08cdf79-6c83-479a-a7a0-7b3b6d3eb38e",
   "metadata": {},
   "outputs": [
    {
     "name": "stdout",
     "output_type": "stream",
     "text": [
      "0 4 8 12 16 20 24 28 \n"
     ]
    }
   ],
   "source": [
    "# incremented by 4\n",
    "for i in range(0, 30, 4):\n",
    "\tprint(i, end=\" \")\n",
    "print()\n"
   ]
  },
  {
   "cell_type": "markdown",
   "id": "d81973d7-b334-40bb-81cc-4cd97023b054",
   "metadata": {},
   "source": [
    "### Python range() using Negative Step... 使用负步长的 Python range()"
   ]
  },
  {
   "cell_type": "code",
   "execution_count": 6,
   "id": "3570b390-ae32-41f4-9347-f93c2c07edc0",
   "metadata": {},
   "outputs": [
    {
     "name": "stdout",
     "output_type": "stream",
     "text": [
      "25 23 21 19 17 15 13 11 9 7 5 3 \n"
     ]
    }
   ],
   "source": [
    "###  Examples\n",
    "# incremented by -2\n",
    "for i in range(25, 2, -2):\n",
    "\tprint(i, end=\" \")\n",
    "print()\n"
   ]
  },
  {
   "cell_type": "markdown",
   "id": "b8037b56-66fe-4c25-aa8e-2e73bd8b1593",
   "metadata": {},
   "source": [
    "### Python range() with Float Values...Python range() 与浮点值"
   ]
  },
  {
   "cell_type": "code",
   "execution_count": 7,
   "id": "e8556c80-e8b3-4adc-a09f-2264b89c9df1",
   "metadata": {},
   "outputs": [
    {
     "ename": "TypeError",
     "evalue": "'float' object cannot be interpreted as an integer",
     "output_type": "error",
     "traceback": [
      "\u001b[1;31m---------------------------------------------------------------------------\u001b[0m",
      "\u001b[1;31mTypeError\u001b[0m                                 Traceback (most recent call last)",
      "Cell \u001b[1;32mIn[7], line 2\u001b[0m\n\u001b[0;32m      1\u001b[0m \u001b[38;5;66;03m# using a float number\u001b[39;00m\n\u001b[1;32m----> 2\u001b[0m \u001b[38;5;28;01mfor\u001b[39;00m i \u001b[38;5;129;01min\u001b[39;00m \u001b[38;5;28mrange\u001b[39m(\u001b[38;5;241m3.3\u001b[39m):\n\u001b[0;32m      3\u001b[0m \t\u001b[38;5;28mprint\u001b[39m(i)\n",
      "\u001b[1;31mTypeError\u001b[0m: 'float' object cannot be interpreted as an integer"
     ]
    }
   ],
   "source": [
    "# using a float number\n",
    "for i in range(3.3):\n",
    "\tprint(i)\n"
   ]
  },
  {
   "cell_type": "markdown",
   "id": "2d9078a4-3b56-4600-9aa8-47cffbf5d249",
   "metadata": {},
   "source": [
    "### Python range() with More Examples\n",
    "### Concatenation of two range() functions using itertools chain() method\n",
    "### The result from two range() functions can be concatenated by using the chain() method of itertools module. The chain() method is used to print all the values in iterable targets one after another mentioned in its arguments.\n",
    "### 可以使用 itertools 模块的 chain() 方法连接两个 range() 函数的结果。 chain() 方法用于逐个打印其参数中提到的可迭代目标中的所有值。"
   ]
  },
  {
   "cell_type": "code",
   "execution_count": 8,
   "id": "62dddf55-dcc1-456a-bedc-7fc5d092525a",
   "metadata": {},
   "outputs": [
    {
     "name": "stdout",
     "output_type": "stream",
     "text": [
      "Concatenating the result\n",
      "0 1 2 3 4 10 12 14 16 18 "
     ]
    }
   ],
   "source": [
    "from itertools import chain\n",
    "\n",
    "# Using chain method\n",
    "print(\"Concatenating the result\")\n",
    "res = chain(range(5), range(10, 20, 2))\n",
    "\n",
    "for i in res:\n",
    "\tprint(i, end=\" \")\n"
   ]
  },
  {
   "cell_type": "code",
   "execution_count": 1,
   "id": "2184bc36-b371-4268-bfe8-80cbacd827b1",
   "metadata": {},
   "outputs": [
    {
     "name": "stdout",
     "output_type": "stream",
     "text": [
      "List Iteration\n",
      "geeks\n",
      "for\n",
      "geeks\n",
      "\n",
      "Tuple Iteration\n",
      "geeks\n",
      "for\n",
      "geeks\n",
      "\n",
      "String Iteration\n",
      "G\n",
      "e\n",
      "e\n",
      "k\n",
      "s\n",
      "\n",
      "Dictionary Iteration\n",
      "xyz 123\n",
      "abc 345\n",
      "\n",
      "Set Iteration\n",
      "1\n",
      "2\n",
      "3\n",
      "4\n",
      "5\n",
      "6\n"
     ]
    }
   ],
   "source": [
    "## Examples\n",
    "print(\"List Iteration\")\n",
    "l = [\"geeks\", \"for\", \"geeks\"]\n",
    "for i in l:\n",
    "\tprint(i)\n",
    "print(\"\\nTuple Iteration\")\n",
    "t = (\"geeks\", \"for\", \"geeks\")\n",
    "for i in t:\n",
    "\tprint(i)\n",
    "print(\"\\nString Iteration\")\n",
    "s = \"Geeks\"\n",
    "for i in s:\n",
    "\tprint(i)\n",
    "print(\"\\nDictionary Iteration\")\n",
    "d = dict()\n",
    "d['xyz'] = 123\n",
    "d['abc'] = 345\n",
    "for i in d:\n",
    "\tprint(\"%s %d\" % (i, d[i]))\n",
    "print(\"\\nSet Iteration\")\n",
    "set1 = {1, 2, 3, 4, 5, 6}\n",
    "for i in set1:\n",
    "\tprint(i),\n"
   ]
  },
  {
   "cell_type": "code",
   "execution_count": null,
   "id": "2f0956f8-96d1-4d96-80f6-768e252ee5fb",
   "metadata": {},
   "outputs": [],
   "source": [
    "### Break Statemnet"
   ]
  },
  {
   "cell_type": "code",
   "execution_count": 1,
   "id": "fceb01ab-b6a7-40f3-8cf9-49e726e14c62",
   "metadata": {},
   "outputs": [
    {
     "name": "stdout",
     "output_type": "stream",
     "text": [
      "0\n",
      "1\n",
      "2\n"
     ]
    }
   ],
   "source": [
    "for i in range(5):\n",
    "    if i == 3:\n",
    "        break\n",
    "    print(i)"
   ]
  },
  {
   "cell_type": "code",
   "execution_count": null,
   "id": "a9ffc2be-a255-4a79-9c82-84230563b7f3",
   "metadata": {},
   "outputs": [],
   "source": [
    "### continue"
   ]
  },
  {
   "cell_type": "code",
   "execution_count": 2,
   "id": "bc925c10-7917-4d0b-b7ef-920a9f795559",
   "metadata": {},
   "outputs": [
    {
     "name": "stdout",
     "output_type": "stream",
     "text": [
      "0\n",
      "1\n",
      "2\n",
      "4\n"
     ]
    }
   ],
   "source": [
    "for i in range(5):\n",
    "    if i == 3:\n",
    "        continue\n",
    "    print(i)"
   ]
  },
  {
   "cell_type": "code",
   "execution_count": 3,
   "id": "cce603e3-6d8c-4be5-b6d5-3217b6bc35b8",
   "metadata": {},
   "outputs": [
    {
     "name": "stdout",
     "output_type": "stream",
     "text": [
      "Hello\n"
     ]
    }
   ],
   "source": [
    "## pass\n",
    "n = 10\n",
    "\n",
    "# use pass inside if statement\n",
    "if n > 10:\n",
    "    pass\n",
    "\n",
    "print('Hello')"
   ]
  },
  {
   "cell_type": "code",
   "execution_count": 4,
   "id": "54339c35-fe04-4189-ad17-b956e095e9b9",
   "metadata": {},
   "outputs": [
    {
     "name": "stdout",
     "output_type": "stream",
     "text": [
      "g\n",
      "e\n",
      "e\n",
      "Pass executed\n",
      "k\n",
      "s\n"
     ]
    }
   ],
   "source": [
    "# Python program to demonstrate \n",
    "# pass statement \n",
    "\n",
    "s = \"geeks\"\n",
    "\n",
    "# Empty loop \n",
    "for i in s: \n",
    "\t# No error will be raised \n",
    "\tpass\n",
    "\n",
    "# Empty function \n",
    "def fun(): \n",
    "\tpass\n",
    "\n",
    "# No error will be raised \n",
    "fun() \n",
    "\n",
    "# Pass statement \n",
    "for i in s: \n",
    "\tif i == 'k': \n",
    "\t\tprint('Pass executed') \n",
    "\t\tpass\n",
    "\tprint(i) \n"
   ]
  },
  {
   "cell_type": "code",
   "execution_count": null,
   "id": "7a97c073-de9d-4ef7-95ab-489431e9e3fd",
   "metadata": {},
   "outputs": [],
   "source": []
  }
 ],
 "metadata": {
  "kernelspec": {
   "display_name": "Python 3 (ipykernel)",
   "language": "python",
   "name": "python3"
  },
  "language_info": {
   "codemirror_mode": {
    "name": "ipython",
    "version": 3
   },
   "file_extension": ".py",
   "mimetype": "text/x-python",
   "name": "python",
   "nbconvert_exporter": "python",
   "pygments_lexer": "ipython3",
   "version": "3.12.7"
  }
 },
 "nbformat": 4,
 "nbformat_minor": 5
}
