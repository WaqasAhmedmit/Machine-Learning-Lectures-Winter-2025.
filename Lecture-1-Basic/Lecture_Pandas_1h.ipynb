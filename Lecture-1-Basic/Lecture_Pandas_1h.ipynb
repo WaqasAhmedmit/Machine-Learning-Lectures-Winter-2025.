{
 "cells": [
  {
   "cell_type": "code",
   "execution_count": 1,
   "id": "84396322-03af-49b5-915e-054a08edadbc",
   "metadata": {},
   "outputs": [
    {
     "data": {
      "text/markdown": [
       "# 📚 Pandas Tutorial — Beginner to Advanced (English + 中文)\n",
       "\n",
       "**What this notebook contains / 本笔记本内容：**\n",
       "- Fundamentals of Series and DataFrame / Series 与 DataFrame 基础\n",
       "- Creating, importing, and exporting data / 创建、导入与导出数据\n",
       "- Indexing, selection, and boolean filtering / 索引、选择与布尔筛选\n",
       "- Handling missing data / 处理缺失值\n",
       "- GroupBy, aggregation, pivot tables / 分组、聚合与透视表\n",
       "- Merging, joining, concatenation / 合并与拼接\n",
       "- Time series basics / 时间序列基础\n",
       "- Performance tips & best practices / 性能优化与最佳实践\n",
       "- Interactive \"Try it yourself\" exercises with solutions / 练习与答案\n"
      ],
      "text/plain": [
       "<IPython.core.display.Markdown object>"
      ]
     },
     "execution_count": 1,
     "metadata": {},
     "output_type": "execute_result"
    }
   ],
   "source": [
    "# Pandas Tutorial — Beginner to Advanced (Bilingual: English + 中文)\n",
    "# Author: Waqas Ahmed\n",
    "# Usage: Open this file in a Jupyter environment and run cells sequentially.\n",
    "\n",
    "# -------------------------------------------------------------\n",
    "# NOTE: This file is written as executable Python cells for a Jupyter\n",
    "# notebook. Each triple-quoted string that starts with Markdown\n",
    "# represents a Markdown cell when executed in a Jupyter notebook.\n",
    "# Code sections should be run as code cells.\n",
    "# -------------------------------------------------------------\n",
    "\n",
    "from IPython.display import Markdown, HTML, display\n",
    "import pandas as pd\n",
    "import numpy as np\n",
    "import matplotlib.pyplot as plt\n",
    "\n",
    "# Make notebook text larger for teaching/presentation\n",
    "HTML(\"\"\"<style>body { font-size: 18px; }</style>\"\"\")\n",
    "\n",
    "# ===================\n",
    "# MARKDOWN: Title\n",
    "# ===================\n",
    "\n",
    "Markdown(r'''# 📚 Pandas Tutorial — Beginner to Advanced (English + 中文)\n",
    "\n",
    "**What this notebook contains / 本笔记本内容：**\n",
    "- Fundamentals of Series and DataFrame / Series 与 DataFrame 基础\n",
    "- Creating, importing, and exporting data / 创建、导入与导出数据\n",
    "- Indexing, selection, and boolean filtering / 索引、选择与布尔筛选\n",
    "- Handling missing data / 处理缺失值\n",
    "- GroupBy, aggregation, pivot tables / 分组、聚合与透视表\n",
    "- Merging, joining, concatenation / 合并与拼接\n",
    "- Time series basics / 时间序列基础\n",
    "- Performance tips & best practices / 性能优化与最佳实践\n",
    "- Interactive \"Try it yourself\" exercises with solutions / 练习与答案\n",
    "''')"
   ]
  },
  {
   "cell_type": "code",
   "execution_count": 2,
   "id": "549df812-c05c-4d8b-95bf-8755683cd94b",
   "metadata": {},
   "outputs": [
    {
     "data": {
      "text/markdown": [
       "\n",
       "## 🧠 What is Pandas? / 什么是 Pandas？\n",
       "\n",
       "Pandas is an open-source Python library for **data manipulation and analysis**. It provides fast, flexible, and expressive data structures designed to make working with structured (tabular, multidimensional, potentially heterogeneous) and time series data both easy and intuitive.\n",
       "\n",
       "Pandas 是用于数据处理与分析的开源 Python 库。它提供了快速、灵活且表达力强的数据结构，使处理表格化、多维和时间序列数据变得简单直观。\n",
       "\n",
       "**Core structures / 核心数据结构:**\n",
       "- `Series` — 1D labeled array / 一维带标签数组\n",
       "- `DataFrame` — 2D labeled table (rows and columns) / 二维带标签表格（行与列）\n",
       "\n",
       "Pandas is built on top of NumPy and integrates well with Matplotlib and other data tools. / Pandas 建立在 NumPy 之上，并与 Matplotlib 等数据工具良好集成。\n"
      ],
      "text/plain": [
       "<IPython.core.display.Markdown object>"
      ]
     },
     "execution_count": 2,
     "metadata": {},
     "output_type": "execute_result"
    }
   ],
   "source": [
    "# ===================\n",
    "# Introduction (Bilingual)\n",
    "# ===================\n",
    "\n",
    "Markdown(r'''\n",
    "## 🧠 What is Pandas? / 什么是 Pandas？\n",
    "\n",
    "Pandas is an open-source Python library for **data manipulation and analysis**. It provides fast, flexible, and expressive data structures designed to make working with structured (tabular, multidimensional, potentially heterogeneous) and time series data both easy and intuitive.\n",
    "\n",
    "Pandas 是用于数据处理与分析的开源 Python 库。它提供了快速、灵活且表达力强的数据结构，使处理表格化、多维和时间序列数据变得简单直观。\n",
    "\n",
    "**Core structures / 核心数据结构:**\n",
    "- `Series` — 1D labeled array / 一维带标签数组\n",
    "- `DataFrame` — 2D labeled table (rows and columns) / 二维带标签表格（行与列）\n",
    "\n",
    "Pandas is built on top of NumPy and integrates well with Matplotlib and other data tools. / Pandas 建立在 NumPy 之上，并与 Matplotlib 等数据工具良好集成。\n",
    "''')"
   ]
  },
  {
   "cell_type": "code",
   "execution_count": 7,
   "id": "e297a136-41d2-43d4-a41f-a2e3a07105e5",
   "metadata": {},
   "outputs": [
    {
     "data": {
      "text/markdown": [
       "\n",
       "### 📦 Installation & Import / 安装与导入\n",
       "\n",
       "If you need to install pandas, run `!pip install pandas` in a notebook cell. / 如果需要安装 pandas，在 notebook 单元中运行 `!pip install pandas`。\n"
      ],
      "text/plain": [
       "<IPython.core.display.Markdown object>"
      ]
     },
     "execution_count": 7,
     "metadata": {},
     "output_type": "execute_result"
    }
   ],
   "source": [
    "# ===================\n",
    "# Installation and import\n",
    "# ===================\n",
    "\n",
    "Markdown(r'''\n",
    "### 📦 Installation & Import / 安装与导入\n",
    "\n",
    "If you need to install pandas, run `!pip install pandas` in a notebook cell. / 如果需要安装 pandas，在 notebook 单元中运行 `!pip install pandas`。\n",
    "''')"
   ]
  },
  {
   "cell_type": "code",
   "execution_count": null,
   "id": "b937a18d-237f-4077-b6cf-e3c6e13eed47",
   "metadata": {},
   "outputs": [
    {
     "name": "stdout",
     "output_type": "stream",
     "text": [
      "Pandas version: 2.2.2\n"
     ]
    }
   ],
   "source": [
    "print(\"Pandas version:\", pd.__version__)"
   ]
  },
  {
   "cell_type": "code",
   "execution_count": 6,
   "id": "dae42713-87f6-4f79-9eb9-8fc4299d0b5a",
   "metadata": {},
   "outputs": [
    {
     "data": {
      "text/markdown": [
       "### ▶️ Series examples / Series 示例\n",
       "\n",
       "Below we create Series from lists, dictionaries, and numpy arrays. / 下面演示用列表、字典和 numpy 数组创建 Series。\n"
      ],
      "text/plain": [
       "<IPython.core.display.Markdown object>"
      ]
     },
     "execution_count": 6,
     "metadata": {},
     "output_type": "execute_result"
    }
   ],
   "source": [
    "# ===================\n",
    "# Section: Series and DataFrame\n",
    "# ===================\n",
    "\n",
    "Markdown(r'''\n",
    "## 📘 Series and DataFrame / Series 与 DataFrame\n",
    "\n",
    "A `Series` is like a column: a one-dimensional labeled array capable of holding any data type. / `Series` 类似于表格的一列：一维带标签的数组，能包含任意数据类型。\n",
    "\n",
    "A `DataFrame` is a 2D labeled data structure with columns of potentially different types. / `DataFrame` 是二维带标签的数据结构，各列可以是不同的数据类型。\n",
    "''')\n",
    "\n",
    "# Series examples\n",
    "Markdown(\"\"\"### ▶️ Series examples / Series 示例\n",
    "\n",
    "Below we create Series from lists, dictionaries, and numpy arrays. / 下面演示用列表、字典和 numpy 数组创建 Series。\n",
    "\"\"\")"
   ]
  },
  {
   "cell_type": "code",
   "execution_count": 9,
   "id": "b56fbb1c-c807-495b-a8d2-678dfc333d5b",
   "metadata": {},
   "outputs": [
    {
     "data": {
      "text/plain": [
       "a    10\n",
       "b    20\n",
       "c    30\n",
       "d    40\n",
       "dtype: int64"
      ]
     },
     "metadata": {},
     "output_type": "display_data"
    }
   ],
   "source": [
    "s1 = pd.Series([10, 20, 30, 40], index=['a', 'b', 'c', 'd'])\n",
    "display(s1)"
   ]
  },
  {
   "cell_type": "code",
   "execution_count": 10,
   "id": "849927bc-2190-44d1-bb6c-66fc30e465a4",
   "metadata": {},
   "outputs": [
    {
     "data": {
      "text/plain": [
       "apple     3\n",
       "banana    5\n",
       "orange    2\n",
       "dtype: int64"
      ]
     },
     "metadata": {},
     "output_type": "display_data"
    }
   ],
   "source": [
    "s2 = pd.Series({'apple': 3, 'banana': 5, 'orange': 2})\n",
    "display(s2)"
   ]
  },
  {
   "cell_type": "code",
   "execution_count": 8,
   "id": "42692058-1c16-42ba-b2ec-9e9206704b33",
   "metadata": {},
   "outputs": [
    {
     "data": {
      "text/plain": [
       "0    0.00\n",
       "1    0.25\n",
       "2    0.50\n",
       "3    0.75\n",
       "4    1.00\n",
       "dtype: float64"
      ]
     },
     "metadata": {},
     "output_type": "display_data"
    }
   ],
   "source": [
    "s3 = pd.Series(np.linspace(0, 1, 5))\n",
    "display(s3)"
   ]
  },
  {
   "cell_type": "code",
   "execution_count": 11,
   "id": "3c2afe38-1269-4aaa-8e67-9ae2704cb02b",
   "metadata": {},
   "outputs": [
    {
     "data": {
      "text/markdown": [
       "\n",
       "**Key attributes / 主要属性**\n",
       "- `.index` — labels\n",
       "- `.values` — numpy array of values\n",
       "- `.dtype` — data type\n",
       "- `.shape` — shape\n",
       "\n",
       "`Series` methods like `.head()`, `.tail()`, `.describe()` are useful for quick inspection.\n"
      ],
      "text/plain": [
       "<IPython.core.display.Markdown object>"
      ]
     },
     "execution_count": 11,
     "metadata": {},
     "output_type": "execute_result"
    }
   ],
   "source": [
    "Markdown(r\"\"\"\n",
    "**Key attributes / 主要属性**\n",
    "- `.index` — labels\n",
    "- `.values` — numpy array of values\n",
    "- `.dtype` — data type\n",
    "- `.shape` — shape\n",
    "\n",
    "`Series` methods like `.head()`, `.tail()`, `.describe()` are useful for quick inspection.\n",
    "\"\"\")"
   ]
  },
  {
   "cell_type": "code",
   "execution_count": 12,
   "id": "84fa8371-b86a-4b28-a1e1-88299b1accda",
   "metadata": {},
   "outputs": [
    {
     "name": "stdout",
     "output_type": "stream",
     "text": [
      "s1.index: Index(['a', 'b', 'c', 'd'], dtype='object')\n",
      "s1.values: [10 20 30 40]\n",
      "s1.dtype: int64\n",
      "s1.shape: (4,)\n"
     ]
    }
   ],
   "source": [
    "print(\"s1.index:\", s1.index)\n",
    "print(\"s1.values:\", s1.values)\n",
    "print(\"s1.dtype:\", s1.dtype)\n",
    "print(\"s1.shape:\", s1.shape)"
   ]
  },
  {
   "cell_type": "code",
   "execution_count": 13,
   "id": "158fa43a-f03e-4606-8450-192d18722057",
   "metadata": {},
   "outputs": [
    {
     "data": {
      "text/markdown": [
       "\n",
       "### ▶️ DataFrame examples / DataFrame 示例\n",
       "\n",
       "Create DataFrame from dicts, list of dicts, numpy arrays and CSV.\n"
      ],
      "text/plain": [
       "<IPython.core.display.Markdown object>"
      ]
     },
     "execution_count": 13,
     "metadata": {},
     "output_type": "execute_result"
    }
   ],
   "source": [
    "# DataFrame examples\n",
    "Markdown(r\"\"\"\n",
    "### ▶️ DataFrame examples / DataFrame 示例\n",
    "\n",
    "Create DataFrame from dicts, list of dicts, numpy arrays and CSV.\n",
    "\"\"\")"
   ]
  },
  {
   "cell_type": "code",
   "execution_count": 15,
   "id": "c27a1b76-8d27-45df-a978-618b6291690f",
   "metadata": {},
   "outputs": [
    {
     "data": {
      "text/html": [
       "<div>\n",
       "<style scoped>\n",
       "    .dataframe tbody tr th:only-of-type {\n",
       "        vertical-align: middle;\n",
       "    }\n",
       "\n",
       "    .dataframe tbody tr th {\n",
       "        vertical-align: top;\n",
       "    }\n",
       "\n",
       "    .dataframe thead th {\n",
       "        text-align: right;\n",
       "    }\n",
       "</style>\n",
       "<table border=\"1\" class=\"dataframe\">\n",
       "  <thead>\n",
       "    <tr style=\"text-align: right;\">\n",
       "      <th></th>\n",
       "      <th>Name</th>\n",
       "      <th>Age</th>\n",
       "      <th>Country</th>\n",
       "    </tr>\n",
       "  </thead>\n",
       "  <tbody>\n",
       "    <tr>\n",
       "      <th>0</th>\n",
       "      <td>Alice</td>\n",
       "      <td>24</td>\n",
       "      <td>USA</td>\n",
       "    </tr>\n",
       "    <tr>\n",
       "      <th>1</th>\n",
       "      <td>Bob</td>\n",
       "      <td>27</td>\n",
       "      <td>UK</td>\n",
       "    </tr>\n",
       "    <tr>\n",
       "      <th>2</th>\n",
       "      <td>Charlie</td>\n",
       "      <td>22</td>\n",
       "      <td>China</td>\n",
       "    </tr>\n",
       "    <tr>\n",
       "      <th>3</th>\n",
       "      <td>David</td>\n",
       "      <td>32</td>\n",
       "      <td>Germany</td>\n",
       "    </tr>\n",
       "    <tr>\n",
       "      <th>4</th>\n",
       "      <td>Eva</td>\n",
       "      <td>29</td>\n",
       "      <td>Canada</td>\n",
       "    </tr>\n",
       "  </tbody>\n",
       "</table>\n",
       "</div>"
      ],
      "text/plain": [
       "      Name  Age  Country\n",
       "0    Alice   24      USA\n",
       "1      Bob   27       UK\n",
       "2  Charlie   22    China\n",
       "3    David   32  Germany\n",
       "4      Eva   29   Canada"
      ]
     },
     "metadata": {},
     "output_type": "display_data"
    }
   ],
   "source": [
    "# Small DataFrame\n",
    "students = pd.DataFrame({\n",
    "    'Name': ['Alice', 'Bob', 'Charlie', 'David', 'Eva'],\n",
    "    'Age': [24, 27, 22, 32, 29],\n",
    "    'Country': ['USA', 'UK', 'China', 'Germany', 'Canada']\n",
    "})\n",
    "display(students)"
   ]
  },
  {
   "cell_type": "code",
   "execution_count": 16,
   "id": "c010d7f2-072e-4e9a-a2e8-0641b7c4c86a",
   "metadata": {},
   "outputs": [
    {
     "data": {
      "text/html": [
       "<div>\n",
       "<style scoped>\n",
       "    .dataframe tbody tr th:only-of-type {\n",
       "        vertical-align: middle;\n",
       "    }\n",
       "\n",
       "    .dataframe tbody tr th {\n",
       "        vertical-align: top;\n",
       "    }\n",
       "\n",
       "    .dataframe thead th {\n",
       "        text-align: right;\n",
       "    }\n",
       "</style>\n",
       "<table border=\"1\" class=\"dataframe\">\n",
       "  <thead>\n",
       "    <tr style=\"text-align: right;\">\n",
       "      <th></th>\n",
       "      <th>A</th>\n",
       "      <th>B</th>\n",
       "      <th>C</th>\n",
       "    </tr>\n",
       "  </thead>\n",
       "  <tbody>\n",
       "    <tr>\n",
       "      <th>0</th>\n",
       "      <td>1</td>\n",
       "      <td>2</td>\n",
       "      <td>3</td>\n",
       "    </tr>\n",
       "    <tr>\n",
       "      <th>1</th>\n",
       "      <td>4</td>\n",
       "      <td>5</td>\n",
       "      <td>6</td>\n",
       "    </tr>\n",
       "    <tr>\n",
       "      <th>2</th>\n",
       "      <td>7</td>\n",
       "      <td>8</td>\n",
       "      <td>9</td>\n",
       "    </tr>\n",
       "  </tbody>\n",
       "</table>\n",
       "</div>"
      ],
      "text/plain": [
       "   A  B  C\n",
       "0  1  2  3\n",
       "1  4  5  6\n",
       "2  7  8  9"
      ]
     },
     "metadata": {},
     "output_type": "display_data"
    }
   ],
   "source": [
    "# From numpy array\n",
    "arr = np.arange(1, 10).reshape(3, 3)\n",
    "df_arr = pd.DataFrame(arr, columns=['A', 'B', 'C'])\n",
    "display(df_arr)"
   ]
  },
  {
   "cell_type": "code",
   "execution_count": 17,
   "id": "44fdf592-75af-4433-a2a7-891d1bb31bfb",
   "metadata": {},
   "outputs": [
    {
     "data": {
      "text/html": [
       "<div>\n",
       "<style scoped>\n",
       "    .dataframe tbody tr th:only-of-type {\n",
       "        vertical-align: middle;\n",
       "    }\n",
       "\n",
       "    .dataframe tbody tr th {\n",
       "        vertical-align: top;\n",
       "    }\n",
       "\n",
       "    .dataframe thead th {\n",
       "        text-align: right;\n",
       "    }\n",
       "</style>\n",
       "<table border=\"1\" class=\"dataframe\">\n",
       "  <thead>\n",
       "    <tr style=\"text-align: right;\">\n",
       "      <th></th>\n",
       "      <th>x</th>\n",
       "      <th>y</th>\n",
       "    </tr>\n",
       "  </thead>\n",
       "  <tbody>\n",
       "    <tr>\n",
       "      <th>0</th>\n",
       "      <td>10</td>\n",
       "      <td>20</td>\n",
       "    </tr>\n",
       "    <tr>\n",
       "      <th>1</th>\n",
       "      <td>30</td>\n",
       "      <td>40</td>\n",
       "    </tr>\n",
       "  </tbody>\n",
       "</table>\n",
       "</div>"
      ],
      "text/plain": [
       "    x   y\n",
       "0  10  20\n",
       "1  30  40"
      ]
     },
     "metadata": {},
     "output_type": "display_data"
    }
   ],
   "source": [
    "# From list of dicts\n",
    "lod = [{'x': 10, 'y': 20}, {'x': 30, 'y': 40}]\n",
    "df_lod = pd.DataFrame(lod)\n",
    "display(df_lod)"
   ]
  },
  {
   "cell_type": "code",
   "execution_count": 18,
   "id": "a7a1a0b3-4815-4c86-928b-9682d04d2ee5",
   "metadata": {},
   "outputs": [
    {
     "data": {
      "text/markdown": [
       "\n",
       "**Useful DataFrame attributes / 有用属性**\n",
       "- `.shape` — (rows, columns)\n",
       "- `.columns` — column labels\n",
       "- `.dtypes` — column data types\n",
       "- `.head(n)` / `.tail(n)` — preview rows\n",
       "- `.info()` — concise summary\n",
       "- `.describe()` — descriptive statistics for numeric columns\n"
      ],
      "text/plain": [
       "<IPython.core.display.Markdown object>"
      ]
     },
     "execution_count": 18,
     "metadata": {},
     "output_type": "execute_result"
    }
   ],
   "source": [
    "Markdown(r\"\"\"\n",
    "**Useful DataFrame attributes / 有用属性**\n",
    "- `.shape` — (rows, columns)\n",
    "- `.columns` — column labels\n",
    "- `.dtypes` — column data types\n",
    "- `.head(n)` / `.tail(n)` — preview rows\n",
    "- `.info()` — concise summary\n",
    "- `.describe()` — descriptive statistics for numeric columns\n",
    "\"\"\")"
   ]
  },
  {
   "cell_type": "code",
   "execution_count": 19,
   "id": "5f8a4eb4-cdd8-44e6-9008-34daba0a4fac",
   "metadata": {},
   "outputs": [
    {
     "name": "stdout",
     "output_type": "stream",
     "text": [
      "students.shape: (5, 3)\n",
      "students.columns: Index(['Name', 'Age', 'Country'], dtype='object')\n",
      "<class 'pandas.core.frame.DataFrame'>\n",
      "RangeIndex: 5 entries, 0 to 4\n",
      "Data columns (total 3 columns):\n",
      " #   Column   Non-Null Count  Dtype \n",
      "---  ------   --------------  ----- \n",
      " 0   Name     5 non-null      object\n",
      " 1   Age      5 non-null      int64 \n",
      " 2   Country  5 non-null      object\n",
      "dtypes: int64(1), object(2)\n",
      "memory usage: 252.0+ bytes\n"
     ]
    }
   ],
   "source": [
    "print(\"students.shape:\", students.shape)\n",
    "print(\"students.columns:\", students.columns)\n",
    "students.info()"
   ]
  },
  {
   "cell_type": "code",
   "execution_count": 20,
   "id": "04e68256-0943-40d3-979a-972bf645048a",
   "metadata": {},
   "outputs": [
    {
     "data": {
      "text/markdown": [
       "\n",
       "## 📂 Reading and Writing Data / 读写数据\n",
       "\n",
       "Pandas can read and write many formats: CSV, Excel, JSON, SQL, Parquet, etc.\n",
       "\n",
       "Example: `pd.read_csv('file.csv')` and `df.to_csv('out.csv', index=False)`.\n",
       "\n",
       "Pandas 可以读取和写入多种格式：CSV、Excel、JSON、SQL、Parquet 等。\n"
      ],
      "text/plain": [
       "<IPython.core.display.Markdown object>"
      ]
     },
     "execution_count": 20,
     "metadata": {},
     "output_type": "execute_result"
    }
   ],
   "source": [
    "# ===================\n",
    "# Section: Reading and Writing Data\n",
    "# ===================\n",
    "\n",
    "Markdown(r\"\"\"\n",
    "## 📂 Reading and Writing Data / 读写数据\n",
    "\n",
    "Pandas can read and write many formats: CSV, Excel, JSON, SQL, Parquet, etc.\n",
    "\n",
    "Example: `pd.read_csv('file.csv')` and `df.to_csv('out.csv', index=False)`.\n",
    "\n",
    "Pandas 可以读取和写入多种格式：CSV、Excel、JSON、SQL、Parquet 等。\n",
    "\"\"\")"
   ]
  },
  {
   "cell_type": "code",
   "execution_count": 21,
   "id": "71711511-693c-477a-97ce-1d81ad7a54da",
   "metadata": {},
   "outputs": [],
   "source": [
    "# Create a small CSV in memory and read it back to demonstrate\n",
    "csv_text = \"\"\"Name,Score,Passed\n",
    "Alice,85,True\n",
    "Bob,78,True\n",
    "Charlie,65,False\n",
    "\"\"\"\n",
    "with open('sample_students.csv', 'w', encoding='utf-8') as f:\n",
    "    f.write(csv_text)"
   ]
  },
  {
   "cell_type": "code",
   "execution_count": null,
   "id": "d2cfb0e1-b188-4f4d-a271-8f7bf9271c07",
   "metadata": {},
   "outputs": [],
   "source": [
    "# Read it\n",
    "df_sample = pd.read_csv('sample_students.csv')\n",
    "display(df_sample)"
   ]
  },
  {
   "cell_type": "code",
   "execution_count": 22,
   "id": "bd6b8f48-47a2-4e6f-8f79-0136a88318c5",
   "metadata": {},
   "outputs": [
    {
     "data": {
      "text/markdown": [
       "\n",
       "**Tip / 小提示:** When reading large CSV files, use parameters like `usecols`, `dtype`, `chunksize` to improve performance and memory usage.\n",
       "```\n",
       "pd.read_csv('large.csv', usecols=['col1','col2'], dtype={'col1':'int32'}, chunksize=10**6)\n",
       "```\n"
      ],
      "text/plain": [
       "<IPython.core.display.Markdown object>"
      ]
     },
     "execution_count": 22,
     "metadata": {},
     "output_type": "execute_result"
    }
   ],
   "source": [
    "Markdown(r\"\"\"\n",
    "**Tip / 小提示:** When reading large CSV files, use parameters like `usecols`, `dtype`, `chunksize` to improve performance and memory usage.\n",
    "```\n",
    "pd.read_csv('large.csv', usecols=['col1','col2'], dtype={'col1':'int32'}, chunksize=10**6)\n",
    "```\n",
    "\"\"\")"
   ]
  },
  {
   "cell_type": "code",
   "execution_count": 23,
   "id": "81ddac6a-f294-429f-ae66-d6e1e715143c",
   "metadata": {},
   "outputs": [
    {
     "data": {
      "text/markdown": [
       "\n",
       "## 🔍 Indexing, Selection and Filtering / 索引、选择与筛选\n",
       "\n",
       "Common ways to select data:\n",
       "- `df['col']` — select a column (Series)\n",
       "- `df[['col1','col2']]` — select multiple columns (DataFrame)\n",
       "- `df.loc[row_label, col_label]` — label-based selection\n",
       "- `df.iloc[row_idx, col_idx]` — integer position-based selection\n",
       "- Boolean indexing: `df[df['col'] > value]`\n",
       "\n",
       "常见选择数据的方法：\n",
       "- `df['col']` — 选择列（Series）\n",
       "- `df[['col1','col2']]` — 选择多列（DataFrame）\n",
       "- `df.loc[row_label, col_label]` — 基于标签选择\n",
       "- `df.iloc[row_idx, col_idx]` — 基于位置选择\n",
       "- 布尔索引：`df[df['col'] > value]`\n"
      ],
      "text/plain": [
       "<IPython.core.display.Markdown object>"
      ]
     },
     "execution_count": 23,
     "metadata": {},
     "output_type": "execute_result"
    }
   ],
   "source": [
    "# ===================\n",
    "# Section: Indexing, Selection & Filtering\n",
    "# ===================\n",
    "\n",
    "Markdown(r\"\"\"\n",
    "## 🔍 Indexing, Selection and Filtering / 索引、选择与筛选\n",
    "\n",
    "Common ways to select data:\n",
    "- `df['col']` — select a column (Series)\n",
    "- `df[['col1','col2']]` — select multiple columns (DataFrame)\n",
    "- `df.loc[row_label, col_label]` — label-based selection\n",
    "- `df.iloc[row_idx, col_idx]` — integer position-based selection\n",
    "- Boolean indexing: `df[df['col'] > value]`\n",
    "\n",
    "常见选择数据的方法：\n",
    "- `df['col']` — 选择列（Series）\n",
    "- `df[['col1','col2']]` — 选择多列（DataFrame）\n",
    "- `df.loc[row_label, col_label]` — 基于标签选择\n",
    "- `df.iloc[row_idx, col_idx]` — 基于位置选择\n",
    "- 布尔索引：`df[df['col'] > value]`\n",
    "\"\"\")"
   ]
  },
  {
   "cell_type": "code",
   "execution_count": 24,
   "id": "ba714c99-0a89-4638-b6d7-56cc37e38e53",
   "metadata": {},
   "outputs": [
    {
     "name": "stdout",
     "output_type": "stream",
     "text": [
      "\n",
      "Select Name column:\n"
     ]
    },
    {
     "data": {
      "text/plain": [
       "0      Alice\n",
       "1        Bob\n",
       "2    Charlie\n",
       "3      David\n",
       "4        Eva\n",
       "Name: Name, dtype: object"
      ]
     },
     "metadata": {},
     "output_type": "display_data"
    }
   ],
   "source": [
    "# Examples\n",
    "Markdown('### Examples / 示例')\n",
    "df = students.copy()\n",
    "# Select column\n",
    "print('\\nSelect Name column:')\n",
    "display(df['Name'])"
   ]
  },
  {
   "cell_type": "code",
   "execution_count": 25,
   "id": "4798fc7e-cdd7-4bf8-99b8-e8f6a1a6c396",
   "metadata": {},
   "outputs": [
    {
     "name": "stdout",
     "output_type": "stream",
     "text": [
      "\n",
      "Select Name and Age:\n"
     ]
    },
    {
     "data": {
      "text/html": [
       "<div>\n",
       "<style scoped>\n",
       "    .dataframe tbody tr th:only-of-type {\n",
       "        vertical-align: middle;\n",
       "    }\n",
       "\n",
       "    .dataframe tbody tr th {\n",
       "        vertical-align: top;\n",
       "    }\n",
       "\n",
       "    .dataframe thead th {\n",
       "        text-align: right;\n",
       "    }\n",
       "</style>\n",
       "<table border=\"1\" class=\"dataframe\">\n",
       "  <thead>\n",
       "    <tr style=\"text-align: right;\">\n",
       "      <th></th>\n",
       "      <th>Name</th>\n",
       "      <th>Age</th>\n",
       "    </tr>\n",
       "  </thead>\n",
       "  <tbody>\n",
       "    <tr>\n",
       "      <th>0</th>\n",
       "      <td>Alice</td>\n",
       "      <td>24</td>\n",
       "    </tr>\n",
       "    <tr>\n",
       "      <th>1</th>\n",
       "      <td>Bob</td>\n",
       "      <td>27</td>\n",
       "    </tr>\n",
       "    <tr>\n",
       "      <th>2</th>\n",
       "      <td>Charlie</td>\n",
       "      <td>22</td>\n",
       "    </tr>\n",
       "    <tr>\n",
       "      <th>3</th>\n",
       "      <td>David</td>\n",
       "      <td>32</td>\n",
       "    </tr>\n",
       "    <tr>\n",
       "      <th>4</th>\n",
       "      <td>Eva</td>\n",
       "      <td>29</td>\n",
       "    </tr>\n",
       "  </tbody>\n",
       "</table>\n",
       "</div>"
      ],
      "text/plain": [
       "      Name  Age\n",
       "0    Alice   24\n",
       "1      Bob   27\n",
       "2  Charlie   22\n",
       "3    David   32\n",
       "4      Eva   29"
      ]
     },
     "metadata": {},
     "output_type": "display_data"
    }
   ],
   "source": [
    "# Select multiple\n",
    "print('\\nSelect Name and Age:')\n",
    "display(df[['Name', 'Age']])"
   ]
  },
  {
   "cell_type": "code",
   "execution_count": 26,
   "id": "b22d5ca8-b6c2-463b-a260-7e082df20ee6",
   "metadata": {},
   "outputs": [
    {
     "name": "stdout",
     "output_type": "stream",
     "text": [
      "\n",
      "Row index 2 with iloc:\n"
     ]
    },
    {
     "data": {
      "text/plain": [
       "Name       Charlie\n",
       "Age             22\n",
       "Country      China\n",
       "Name: 2, dtype: object"
      ]
     },
     "metadata": {},
     "output_type": "display_data"
    },
    {
     "name": "stdout",
     "output_type": "stream",
     "text": [
      "\n",
      "Row label 2 with loc (works if index labels exist):\n"
     ]
    },
    {
     "data": {
      "text/plain": [
       "Name       Charlie\n",
       "Age             22\n",
       "Country      China\n",
       "Name: 2, dtype: object"
      ]
     },
     "metadata": {},
     "output_type": "display_data"
    }
   ],
   "source": [
    "# loc and iloc\n",
    "print('\\nRow index 2 with iloc:')\n",
    "display(df.iloc[2])\n",
    "print('\\nRow label 2 with loc (works if index labels exist):')\n",
    "display(df.loc[2])"
   ]
  },
  {
   "cell_type": "code",
   "execution_count": null,
   "id": "2c1912f7-ec0b-4a2a-9ad9-137e5a6a6fe8",
   "metadata": {},
   "outputs": [],
   "source": [
    "# Boolean filter\n",
    "print('\\nFilter Age > 25:')\n",
    "display(df[df['Age'] > 25])"
   ]
  },
  {
   "cell_type": "code",
   "execution_count": 28,
   "id": "512b1e7b-5277-46e1-8ec6-3b73f433b982",
   "metadata": {},
   "outputs": [
    {
     "name": "stdout",
     "output_type": "stream",
     "text": [
      "\n",
      "Students with Age>23 and Country != China:\n"
     ]
    },
    {
     "data": {
      "text/html": [
       "<div>\n",
       "<style scoped>\n",
       "    .dataframe tbody tr th:only-of-type {\n",
       "        vertical-align: middle;\n",
       "    }\n",
       "\n",
       "    .dataframe tbody tr th {\n",
       "        vertical-align: top;\n",
       "    }\n",
       "\n",
       "    .dataframe thead th {\n",
       "        text-align: right;\n",
       "    }\n",
       "</style>\n",
       "<table border=\"1\" class=\"dataframe\">\n",
       "  <thead>\n",
       "    <tr style=\"text-align: right;\">\n",
       "      <th></th>\n",
       "      <th>Name</th>\n",
       "      <th>Age</th>\n",
       "      <th>Country</th>\n",
       "    </tr>\n",
       "  </thead>\n",
       "  <tbody>\n",
       "    <tr>\n",
       "      <th>0</th>\n",
       "      <td>Alice</td>\n",
       "      <td>24</td>\n",
       "      <td>USA</td>\n",
       "    </tr>\n",
       "    <tr>\n",
       "      <th>1</th>\n",
       "      <td>Bob</td>\n",
       "      <td>27</td>\n",
       "      <td>UK</td>\n",
       "    </tr>\n",
       "    <tr>\n",
       "      <th>3</th>\n",
       "      <td>David</td>\n",
       "      <td>32</td>\n",
       "      <td>Germany</td>\n",
       "    </tr>\n",
       "    <tr>\n",
       "      <th>4</th>\n",
       "      <td>Eva</td>\n",
       "      <td>29</td>\n",
       "      <td>Canada</td>\n",
       "    </tr>\n",
       "  </tbody>\n",
       "</table>\n",
       "</div>"
      ],
      "text/plain": [
       "    Name  Age  Country\n",
       "0  Alice   24      USA\n",
       "1    Bob   27       UK\n",
       "3  David   32  Germany\n",
       "4    Eva   29   Canada"
      ]
     },
     "metadata": {},
     "output_type": "display_data"
    }
   ],
   "source": [
    "# Conditional selection with multiple conditions\n",
    "print('\\nStudents with Age>23 and Country != China:')\n",
    "display(df[(df['Age'] > 23) & (df['Country'] != 'China')])"
   ]
  },
  {
   "cell_type": "code",
   "execution_count": 27,
   "id": "b7650cfc-935a-4c14-b850-2520a38ab528",
   "metadata": {},
   "outputs": [
    {
     "data": {
      "text/markdown": [
       "\n",
       "### Setting values / 赋值\n",
       "Use `.loc` to avoid the SettingWithCopyWarning when modifying a subset.\n",
       "\n",
       "```python\n",
       "# Good:\n",
       "df.loc[df['Age'] < 25, 'Young'] = True\n",
       "# Bad (may raise SettingWithCopyWarning):\n",
       "df[df['Age'] < 25]['Young'] = True\n",
       "```\n"
      ],
      "text/plain": [
       "<IPython.core.display.Markdown object>"
      ]
     },
     "execution_count": 27,
     "metadata": {},
     "output_type": "execute_result"
    }
   ],
   "source": [
    "# Setting values\n",
    "Markdown(\"\"\"\n",
    "### Setting values / 赋值\n",
    "Use `.loc` to avoid the SettingWithCopyWarning when modifying a subset.\n",
    "\n",
    "```python\n",
    "# Good:\n",
    "df.loc[df['Age'] < 25, 'Young'] = True\n",
    "# Bad (may raise SettingWithCopyWarning):\n",
    "df[df['Age'] < 25]['Young'] = True\n",
    "```\n",
    "\"\"\")"
   ]
  },
  {
   "cell_type": "code",
   "execution_count": 29,
   "id": "12426bbd-3161-42f9-a2c6-75b614419ae2",
   "metadata": {},
   "outputs": [
    {
     "data": {
      "text/markdown": [
       "\n",
       "## 🧹 Handling Missing Data / 处理缺失值\n",
       "\n",
       "Common methods:\n",
       "- `df.isna()` / `df.isnull()` — detect missing\n",
       "- `df.dropna()` — drop missing\n",
       "- `df.fillna()` — fill missing\n",
       "- `df.interpolate()` — interpolate missing\n",
       "\n",
       "常用方法：\n",
       "- `df.isna()` / `df.isnull()` — 检测缺失值\n",
       "- `df.dropna()` — 删除缺失值\n",
       "- `df.fillna()` — 填充缺失值\n",
       "- `df.interpolate()` — 插值\n"
      ],
      "text/plain": [
       "<IPython.core.display.Markdown object>"
      ]
     },
     "execution_count": 29,
     "metadata": {},
     "output_type": "execute_result"
    }
   ],
   "source": [
    "# ===================\n",
    "# Section: Missing Data\n",
    "# ===================\n",
    "\n",
    "Markdown(r\"\"\"\n",
    "## 🧹 Handling Missing Data / 处理缺失值\n",
    "\n",
    "Common methods:\n",
    "- `df.isna()` / `df.isnull()` — detect missing\n",
    "- `df.dropna()` — drop missing\n",
    "- `df.fillna()` — fill missing\n",
    "- `df.interpolate()` — interpolate missing\n",
    "\n",
    "常用方法：\n",
    "- `df.isna()` / `df.isnull()` — 检测缺失值\n",
    "- `df.dropna()` — 删除缺失值\n",
    "- `df.fillna()` — 填充缺失值\n",
    "- `df.interpolate()` — 插值\n",
    "\"\"\")"
   ]
  },
  {
   "cell_type": "code",
   "execution_count": 30,
   "id": "7e14318b-3caa-44c9-8d20-5eacc3d50fa7",
   "metadata": {},
   "outputs": [
    {
     "data": {
      "text/html": [
       "<div>\n",
       "<style scoped>\n",
       "    .dataframe tbody tr th:only-of-type {\n",
       "        vertical-align: middle;\n",
       "    }\n",
       "\n",
       "    .dataframe tbody tr th {\n",
       "        vertical-align: top;\n",
       "    }\n",
       "\n",
       "    .dataframe thead th {\n",
       "        text-align: right;\n",
       "    }\n",
       "</style>\n",
       "<table border=\"1\" class=\"dataframe\">\n",
       "  <thead>\n",
       "    <tr style=\"text-align: right;\">\n",
       "      <th></th>\n",
       "      <th>A</th>\n",
       "      <th>B</th>\n",
       "      <th>C</th>\n",
       "    </tr>\n",
       "  </thead>\n",
       "  <tbody>\n",
       "    <tr>\n",
       "      <th>0</th>\n",
       "      <td>1.0</td>\n",
       "      <td>NaN</td>\n",
       "      <td>x</td>\n",
       "    </tr>\n",
       "    <tr>\n",
       "      <th>1</th>\n",
       "      <td>2.0</td>\n",
       "      <td>2.0</td>\n",
       "      <td>None</td>\n",
       "    </tr>\n",
       "    <tr>\n",
       "      <th>2</th>\n",
       "      <td>NaN</td>\n",
       "      <td>3.0</td>\n",
       "      <td>y</td>\n",
       "    </tr>\n",
       "    <tr>\n",
       "      <th>3</th>\n",
       "      <td>4.0</td>\n",
       "      <td>4.0</td>\n",
       "      <td>z</td>\n",
       "    </tr>\n",
       "  </tbody>\n",
       "</table>\n",
       "</div>"
      ],
      "text/plain": [
       "     A    B     C\n",
       "0  1.0  NaN     x\n",
       "1  2.0  2.0  None\n",
       "2  NaN  3.0     y\n",
       "3  4.0  4.0     z"
      ]
     },
     "metadata": {},
     "output_type": "display_data"
    },
    {
     "name": "stdout",
     "output_type": "stream",
     "text": [
      "\n",
      "Drop rows with any NaN:\n"
     ]
    },
    {
     "data": {
      "text/html": [
       "<div>\n",
       "<style scoped>\n",
       "    .dataframe tbody tr th:only-of-type {\n",
       "        vertical-align: middle;\n",
       "    }\n",
       "\n",
       "    .dataframe tbody tr th {\n",
       "        vertical-align: top;\n",
       "    }\n",
       "\n",
       "    .dataframe thead th {\n",
       "        text-align: right;\n",
       "    }\n",
       "</style>\n",
       "<table border=\"1\" class=\"dataframe\">\n",
       "  <thead>\n",
       "    <tr style=\"text-align: right;\">\n",
       "      <th></th>\n",
       "      <th>A</th>\n",
       "      <th>B</th>\n",
       "      <th>C</th>\n",
       "    </tr>\n",
       "  </thead>\n",
       "  <tbody>\n",
       "    <tr>\n",
       "      <th>3</th>\n",
       "      <td>4.0</td>\n",
       "      <td>4.0</td>\n",
       "      <td>z</td>\n",
       "    </tr>\n",
       "  </tbody>\n",
       "</table>\n",
       "</div>"
      ],
      "text/plain": [
       "     A    B  C\n",
       "3  4.0  4.0  z"
      ]
     },
     "metadata": {},
     "output_type": "display_data"
    },
    {
     "name": "stdout",
     "output_type": "stream",
     "text": [
      "\n",
      "Fill NaN with constants:\n"
     ]
    },
    {
     "data": {
      "text/html": [
       "<div>\n",
       "<style scoped>\n",
       "    .dataframe tbody tr th:only-of-type {\n",
       "        vertical-align: middle;\n",
       "    }\n",
       "\n",
       "    .dataframe tbody tr th {\n",
       "        vertical-align: top;\n",
       "    }\n",
       "\n",
       "    .dataframe thead th {\n",
       "        text-align: right;\n",
       "    }\n",
       "</style>\n",
       "<table border=\"1\" class=\"dataframe\">\n",
       "  <thead>\n",
       "    <tr style=\"text-align: right;\">\n",
       "      <th></th>\n",
       "      <th>A</th>\n",
       "      <th>B</th>\n",
       "      <th>C</th>\n",
       "    </tr>\n",
       "  </thead>\n",
       "  <tbody>\n",
       "    <tr>\n",
       "      <th>0</th>\n",
       "      <td>1.0</td>\n",
       "      <td>3.0</td>\n",
       "      <td>x</td>\n",
       "    </tr>\n",
       "    <tr>\n",
       "      <th>1</th>\n",
       "      <td>2.0</td>\n",
       "      <td>2.0</td>\n",
       "      <td>missing</td>\n",
       "    </tr>\n",
       "    <tr>\n",
       "      <th>2</th>\n",
       "      <td>0.0</td>\n",
       "      <td>3.0</td>\n",
       "      <td>y</td>\n",
       "    </tr>\n",
       "    <tr>\n",
       "      <th>3</th>\n",
       "      <td>4.0</td>\n",
       "      <td>4.0</td>\n",
       "      <td>z</td>\n",
       "    </tr>\n",
       "  </tbody>\n",
       "</table>\n",
       "</div>"
      ],
      "text/plain": [
       "     A    B        C\n",
       "0  1.0  3.0        x\n",
       "1  2.0  2.0  missing\n",
       "2  0.0  3.0        y\n",
       "3  4.0  4.0        z"
      ]
     },
     "metadata": {},
     "output_type": "display_data"
    },
    {
     "name": "stdout",
     "output_type": "stream",
     "text": [
      "\n",
      "Interpolate numeric columns:\n"
     ]
    },
    {
     "name": "stderr",
     "output_type": "stream",
     "text": [
      "C:\\Users\\Waqas\\AppData\\Local\\Temp\\ipykernel_34084\\1416510680.py:17: FutureWarning: DataFrame.interpolate with object dtype is deprecated and will raise in a future version. Call obj.infer_objects(copy=False) before interpolating instead.\n",
      "  display(df_nan.interpolate())\n"
     ]
    },
    {
     "data": {
      "text/html": [
       "<div>\n",
       "<style scoped>\n",
       "    .dataframe tbody tr th:only-of-type {\n",
       "        vertical-align: middle;\n",
       "    }\n",
       "\n",
       "    .dataframe tbody tr th {\n",
       "        vertical-align: top;\n",
       "    }\n",
       "\n",
       "    .dataframe thead th {\n",
       "        text-align: right;\n",
       "    }\n",
       "</style>\n",
       "<table border=\"1\" class=\"dataframe\">\n",
       "  <thead>\n",
       "    <tr style=\"text-align: right;\">\n",
       "      <th></th>\n",
       "      <th>A</th>\n",
       "      <th>B</th>\n",
       "      <th>C</th>\n",
       "    </tr>\n",
       "  </thead>\n",
       "  <tbody>\n",
       "    <tr>\n",
       "      <th>0</th>\n",
       "      <td>1.0</td>\n",
       "      <td>NaN</td>\n",
       "      <td>x</td>\n",
       "    </tr>\n",
       "    <tr>\n",
       "      <th>1</th>\n",
       "      <td>2.0</td>\n",
       "      <td>2.0</td>\n",
       "      <td>None</td>\n",
       "    </tr>\n",
       "    <tr>\n",
       "      <th>2</th>\n",
       "      <td>3.0</td>\n",
       "      <td>3.0</td>\n",
       "      <td>y</td>\n",
       "    </tr>\n",
       "    <tr>\n",
       "      <th>3</th>\n",
       "      <td>4.0</td>\n",
       "      <td>4.0</td>\n",
       "      <td>z</td>\n",
       "    </tr>\n",
       "  </tbody>\n",
       "</table>\n",
       "</div>"
      ],
      "text/plain": [
       "     A    B     C\n",
       "0  1.0  NaN     x\n",
       "1  2.0  2.0  None\n",
       "2  3.0  3.0     y\n",
       "3  4.0  4.0     z"
      ]
     },
     "metadata": {},
     "output_type": "display_data"
    }
   ],
   "source": [
    "# Example DataFrame with NaNs\n",
    "Markdown('### Example / 示例')\n",
    "df_nan = pd.DataFrame({\n",
    "    'A': [1, 2, np.nan, 4],\n",
    "    'B': [np.nan, 2, 3, 4],\n",
    "    'C': ['x', None, 'y', 'z']\n",
    "})\n",
    "display(df_nan)\n",
    "\n",
    "print('\\nDrop rows with any NaN:')\n",
    "display(df_nan.dropna())\n",
    "\n",
    "print('\\nFill NaN with constants:')\n",
    "display(df_nan.fillna({'A': 0, 'B': df_nan['B'].median(), 'C': 'missing'}))\n",
    "\n",
    "print('\\nInterpolate numeric columns:')\n",
    "display(df_nan.interpolate())"
   ]
  },
  {
   "cell_type": "code",
   "execution_count": 31,
   "id": "f205e7fd-40f8-4e2b-a35f-390610460ecb",
   "metadata": {},
   "outputs": [
    {
     "data": {
      "text/markdown": [
       "\n",
       "## 🧠 GroupBy, Aggregation and Pivot Tables / 分组、聚合与透视表\n",
       "\n",
       "Use `groupby()` for split-apply-combine operations. / 使用 `groupby()` 进行分割-应用-合并操作。\n",
       "\n",
       "Common aggregation functions: `sum`, `mean`, `median`, `agg`, `count`, `min`, `max`.\n"
      ],
      "text/plain": [
       "<IPython.core.display.Markdown object>"
      ]
     },
     "execution_count": 31,
     "metadata": {},
     "output_type": "execute_result"
    }
   ],
   "source": [
    "# ===================\n",
    "# Section: GroupBy and Aggregation\n",
    "# ===================\n",
    "\n",
    "Markdown(r\"\"\"\n",
    "## 🧠 GroupBy, Aggregation and Pivot Tables / 分组、聚合与透视表\n",
    "\n",
    "Use `groupby()` for split-apply-combine operations. / 使用 `groupby()` 进行分割-应用-合并操作。\n",
    "\n",
    "Common aggregation functions: `sum`, `mean`, `median`, `agg`, `count`, `min`, `max`.\n",
    "\"\"\")"
   ]
  },
  {
   "cell_type": "code",
   "execution_count": 32,
   "id": "eb964884-2047-4990-b405-a8c93e0bf783",
   "metadata": {},
   "outputs": [
    {
     "data": {
      "text/html": [
       "<div>\n",
       "<style scoped>\n",
       "    .dataframe tbody tr th:only-of-type {\n",
       "        vertical-align: middle;\n",
       "    }\n",
       "\n",
       "    .dataframe tbody tr th {\n",
       "        vertical-align: top;\n",
       "    }\n",
       "\n",
       "    .dataframe thead th {\n",
       "        text-align: right;\n",
       "    }\n",
       "</style>\n",
       "<table border=\"1\" class=\"dataframe\">\n",
       "  <thead>\n",
       "    <tr style=\"text-align: right;\">\n",
       "      <th></th>\n",
       "      <th>Region</th>\n",
       "      <th>Product</th>\n",
       "      <th>Sales</th>\n",
       "    </tr>\n",
       "  </thead>\n",
       "  <tbody>\n",
       "    <tr>\n",
       "      <th>0</th>\n",
       "      <td>East</td>\n",
       "      <td>A</td>\n",
       "      <td>100</td>\n",
       "    </tr>\n",
       "    <tr>\n",
       "      <th>1</th>\n",
       "      <td>West</td>\n",
       "      <td>A</td>\n",
       "      <td>200</td>\n",
       "    </tr>\n",
       "    <tr>\n",
       "      <th>2</th>\n",
       "      <td>East</td>\n",
       "      <td>B</td>\n",
       "      <td>150</td>\n",
       "    </tr>\n",
       "    <tr>\n",
       "      <th>3</th>\n",
       "      <td>North</td>\n",
       "      <td>B</td>\n",
       "      <td>120</td>\n",
       "    </tr>\n",
       "    <tr>\n",
       "      <th>4</th>\n",
       "      <td>West</td>\n",
       "      <td>A</td>\n",
       "      <td>300</td>\n",
       "    </tr>\n",
       "    <tr>\n",
       "      <th>5</th>\n",
       "      <td>East</td>\n",
       "      <td>B</td>\n",
       "      <td>130</td>\n",
       "    </tr>\n",
       "  </tbody>\n",
       "</table>\n",
       "</div>"
      ],
      "text/plain": [
       "  Region Product  Sales\n",
       "0   East       A    100\n",
       "1   West       A    200\n",
       "2   East       B    150\n",
       "3  North       B    120\n",
       "4   West       A    300\n",
       "5   East       B    130"
      ]
     },
     "metadata": {},
     "output_type": "display_data"
    },
    {
     "name": "stdout",
     "output_type": "stream",
     "text": [
      "\n",
      "Group by Region and sum Sales:\n"
     ]
    },
    {
     "data": {
      "text/plain": [
       "Region\n",
       "East     380\n",
       "North    120\n",
       "West     500\n",
       "Name: Sales, dtype: int64"
      ]
     },
     "metadata": {},
     "output_type": "display_data"
    }
   ],
   "source": [
    "# Example sales data\n",
    "Markdown('### Sales example / 销售示例')\n",
    "df_sales = pd.DataFrame({\n",
    "    'Region': ['East', 'West', 'East', 'North', 'West', 'East'],\n",
    "    'Product': ['A', 'A', 'B', 'B', 'A', 'B'],\n",
    "    'Sales': [100, 200, 150, 120, 300, 130]\n",
    "})\n",
    "display(df_sales)\n",
    "\n",
    "print('\\nGroup by Region and sum Sales:')\n",
    "display(df_sales.groupby('Region')['Sales'].sum())"
   ]
  },
  {
   "cell_type": "code",
   "execution_count": 33,
   "id": "faa97f5a-5bd1-41d7-9f4d-704274c2a2af",
   "metadata": {},
   "outputs": [
    {
     "name": "stdout",
     "output_type": "stream",
     "text": [
      "\n",
      "Group by Region and Product (multi-index) and aggregate:\n"
     ]
    },
    {
     "data": {
      "text/html": [
       "<div>\n",
       "<style scoped>\n",
       "    .dataframe tbody tr th:only-of-type {\n",
       "        vertical-align: middle;\n",
       "    }\n",
       "\n",
       "    .dataframe tbody tr th {\n",
       "        vertical-align: top;\n",
       "    }\n",
       "\n",
       "    .dataframe thead tr th {\n",
       "        text-align: left;\n",
       "    }\n",
       "\n",
       "    .dataframe thead tr:last-of-type th {\n",
       "        text-align: right;\n",
       "    }\n",
       "</style>\n",
       "<table border=\"1\" class=\"dataframe\">\n",
       "  <thead>\n",
       "    <tr>\n",
       "      <th></th>\n",
       "      <th></th>\n",
       "      <th colspan=\"3\" halign=\"left\">Sales</th>\n",
       "    </tr>\n",
       "    <tr>\n",
       "      <th></th>\n",
       "      <th></th>\n",
       "      <th>sum</th>\n",
       "      <th>mean</th>\n",
       "      <th>count</th>\n",
       "    </tr>\n",
       "    <tr>\n",
       "      <th>Region</th>\n",
       "      <th>Product</th>\n",
       "      <th></th>\n",
       "      <th></th>\n",
       "      <th></th>\n",
       "    </tr>\n",
       "  </thead>\n",
       "  <tbody>\n",
       "    <tr>\n",
       "      <th rowspan=\"2\" valign=\"top\">East</th>\n",
       "      <th>A</th>\n",
       "      <td>100</td>\n",
       "      <td>100.0</td>\n",
       "      <td>1</td>\n",
       "    </tr>\n",
       "    <tr>\n",
       "      <th>B</th>\n",
       "      <td>280</td>\n",
       "      <td>140.0</td>\n",
       "      <td>2</td>\n",
       "    </tr>\n",
       "    <tr>\n",
       "      <th>North</th>\n",
       "      <th>B</th>\n",
       "      <td>120</td>\n",
       "      <td>120.0</td>\n",
       "      <td>1</td>\n",
       "    </tr>\n",
       "    <tr>\n",
       "      <th>West</th>\n",
       "      <th>A</th>\n",
       "      <td>500</td>\n",
       "      <td>250.0</td>\n",
       "      <td>2</td>\n",
       "    </tr>\n",
       "  </tbody>\n",
       "</table>\n",
       "</div>"
      ],
      "text/plain": [
       "               Sales             \n",
       "                 sum   mean count\n",
       "Region Product                   \n",
       "East   A         100  100.0     1\n",
       "       B         280  140.0     2\n",
       "North  B         120  120.0     1\n",
       "West   A         500  250.0     2"
      ]
     },
     "metadata": {},
     "output_type": "display_data"
    }
   ],
   "source": [
    "print('\\nGroup by Region and Product (multi-index) and aggregate:')\n",
    "display(df_sales.groupby(['Region','Product']).agg({'Sales':['sum','mean','count']}))"
   ]
  },
  {
   "cell_type": "code",
   "execution_count": 34,
   "id": "165cdcd2-4aeb-436f-9ae7-ed59b419e2a7",
   "metadata": {},
   "outputs": [
    {
     "data": {
      "text/markdown": [
       "\n",
       "### Pivot table / 透视表\n",
       "\n",
       "`pd.pivot_table(df, index='Region', columns='Product', values='Sales', aggfunc='sum', fill_value=0)`\n"
      ],
      "text/plain": [
       "<IPython.core.display.Markdown object>"
      ]
     },
     "execution_count": 34,
     "metadata": {},
     "output_type": "execute_result"
    }
   ],
   "source": [
    "Markdown(r\"\"\"\n",
    "### Pivot table / 透视表\n",
    "\n",
    "`pd.pivot_table(df, index='Region', columns='Product', values='Sales', aggfunc='sum', fill_value=0)`\n",
    "\"\"\")"
   ]
  },
  {
   "cell_type": "code",
   "execution_count": null,
   "id": "e8e9cdab-c432-4da3-a6b9-29a46956046f",
   "metadata": {},
   "outputs": [],
   "source": [
    "display(pd.pivot_table(df_sales, index='Region', columns='Product', values='Sales', aggfunc='sum', fill_value=0))"
   ]
  },
  {
   "cell_type": "code",
   "execution_count": 35,
   "id": "4af7151e-2076-4127-bde7-614e278a87fe",
   "metadata": {},
   "outputs": [
    {
     "data": {
      "text/markdown": [
       "\n",
       "## 🔄 Merge, Join and Concatenate / 合并、连接与拼接\n",
       "\n",
       "- `pd.merge(left, right, on='key', how='inner|left|right|outer')`\n",
       "- `pd.concat([df1, df2], axis=0|1)`\n",
       "- `df.join(other)` for index-based joins\n"
      ],
      "text/plain": [
       "<IPython.core.display.Markdown object>"
      ]
     },
     "execution_count": 35,
     "metadata": {},
     "output_type": "execute_result"
    }
   ],
   "source": [
    "# ===================\n",
    "# Section: Merge, Join, Concat\n",
    "# ===================\n",
    "\n",
    "Markdown(r\"\"\"\n",
    "## 🔄 Merge, Join and Concatenate / 合并、连接与拼接\n",
    "\n",
    "- `pd.merge(left, right, on='key', how='inner|left|right|outer')`\n",
    "- `pd.concat([df1, df2], axis=0|1)`\n",
    "- `df.join(other)` for index-based joins\n",
    "\"\"\")"
   ]
  },
  {
   "cell_type": "code",
   "execution_count": 36,
   "id": "c1f16aa0-00cd-452f-94b1-b794efbf196f",
   "metadata": {},
   "outputs": [
    {
     "name": "stdout",
     "output_type": "stream",
     "text": [
      "df1:\n"
     ]
    },
    {
     "data": {
      "text/html": [
       "<div>\n",
       "<style scoped>\n",
       "    .dataframe tbody tr th:only-of-type {\n",
       "        vertical-align: middle;\n",
       "    }\n",
       "\n",
       "    .dataframe tbody tr th {\n",
       "        vertical-align: top;\n",
       "    }\n",
       "\n",
       "    .dataframe thead th {\n",
       "        text-align: right;\n",
       "    }\n",
       "</style>\n",
       "<table border=\"1\" class=\"dataframe\">\n",
       "  <thead>\n",
       "    <tr style=\"text-align: right;\">\n",
       "      <th></th>\n",
       "      <th>ID</th>\n",
       "      <th>Name</th>\n",
       "    </tr>\n",
       "  </thead>\n",
       "  <tbody>\n",
       "    <tr>\n",
       "      <th>0</th>\n",
       "      <td>1</td>\n",
       "      <td>Alice</td>\n",
       "    </tr>\n",
       "    <tr>\n",
       "      <th>1</th>\n",
       "      <td>2</td>\n",
       "      <td>Bob</td>\n",
       "    </tr>\n",
       "    <tr>\n",
       "      <th>2</th>\n",
       "      <td>3</td>\n",
       "      <td>Charlie</td>\n",
       "    </tr>\n",
       "  </tbody>\n",
       "</table>\n",
       "</div>"
      ],
      "text/plain": [
       "   ID     Name\n",
       "0   1    Alice\n",
       "1   2      Bob\n",
       "2   3  Charlie"
      ]
     },
     "metadata": {},
     "output_type": "display_data"
    },
    {
     "name": "stdout",
     "output_type": "stream",
     "text": [
      "df2:\n"
     ]
    },
    {
     "data": {
      "text/html": [
       "<div>\n",
       "<style scoped>\n",
       "    .dataframe tbody tr th:only-of-type {\n",
       "        vertical-align: middle;\n",
       "    }\n",
       "\n",
       "    .dataframe tbody tr th {\n",
       "        vertical-align: top;\n",
       "    }\n",
       "\n",
       "    .dataframe thead th {\n",
       "        text-align: right;\n",
       "    }\n",
       "</style>\n",
       "<table border=\"1\" class=\"dataframe\">\n",
       "  <thead>\n",
       "    <tr style=\"text-align: right;\">\n",
       "      <th></th>\n",
       "      <th>ID</th>\n",
       "      <th>Score</th>\n",
       "    </tr>\n",
       "  </thead>\n",
       "  <tbody>\n",
       "    <tr>\n",
       "      <th>0</th>\n",
       "      <td>1</td>\n",
       "      <td>85</td>\n",
       "    </tr>\n",
       "    <tr>\n",
       "      <th>1</th>\n",
       "      <td>2</td>\n",
       "      <td>90</td>\n",
       "    </tr>\n",
       "    <tr>\n",
       "      <th>2</th>\n",
       "      <td>4</td>\n",
       "      <td>88</td>\n",
       "    </tr>\n",
       "  </tbody>\n",
       "</table>\n",
       "</div>"
      ],
      "text/plain": [
       "   ID  Score\n",
       "0   1     85\n",
       "1   2     90\n",
       "2   4     88"
      ]
     },
     "metadata": {},
     "output_type": "display_data"
    },
    {
     "name": "stdout",
     "output_type": "stream",
     "text": [
      "\n",
      "Outer merge on ID:\n"
     ]
    },
    {
     "data": {
      "text/html": [
       "<div>\n",
       "<style scoped>\n",
       "    .dataframe tbody tr th:only-of-type {\n",
       "        vertical-align: middle;\n",
       "    }\n",
       "\n",
       "    .dataframe tbody tr th {\n",
       "        vertical-align: top;\n",
       "    }\n",
       "\n",
       "    .dataframe thead th {\n",
       "        text-align: right;\n",
       "    }\n",
       "</style>\n",
       "<table border=\"1\" class=\"dataframe\">\n",
       "  <thead>\n",
       "    <tr style=\"text-align: right;\">\n",
       "      <th></th>\n",
       "      <th>ID</th>\n",
       "      <th>Name</th>\n",
       "      <th>Score</th>\n",
       "    </tr>\n",
       "  </thead>\n",
       "  <tbody>\n",
       "    <tr>\n",
       "      <th>0</th>\n",
       "      <td>1</td>\n",
       "      <td>Alice</td>\n",
       "      <td>85.0</td>\n",
       "    </tr>\n",
       "    <tr>\n",
       "      <th>1</th>\n",
       "      <td>2</td>\n",
       "      <td>Bob</td>\n",
       "      <td>90.0</td>\n",
       "    </tr>\n",
       "    <tr>\n",
       "      <th>2</th>\n",
       "      <td>3</td>\n",
       "      <td>Charlie</td>\n",
       "      <td>NaN</td>\n",
       "    </tr>\n",
       "    <tr>\n",
       "      <th>3</th>\n",
       "      <td>4</td>\n",
       "      <td>NaN</td>\n",
       "      <td>88.0</td>\n",
       "    </tr>\n",
       "  </tbody>\n",
       "</table>\n",
       "</div>"
      ],
      "text/plain": [
       "   ID     Name  Score\n",
       "0   1    Alice   85.0\n",
       "1   2      Bob   90.0\n",
       "2   3  Charlie    NaN\n",
       "3   4      NaN   88.0"
      ]
     },
     "metadata": {},
     "output_type": "display_data"
    }
   ],
   "source": [
    "# Merge example\n",
    "Markdown('### Merge example / 合并示例')\n",
    "df1 = pd.DataFrame({'ID': [1, 2, 3], 'Name': ['Alice','Bob','Charlie']})\n",
    "df2 = pd.DataFrame({'ID': [1, 2, 4], 'Score': [85, 90, 88]})\n",
    "print('df1:')\n",
    "display(df1)\n",
    "print('df2:')\n",
    "display(df2)\n",
    "\n",
    "print('\\nOuter merge on ID:')\n",
    "display(pd.merge(df1, df2, on='ID', how='outer'))"
   ]
  },
  {
   "cell_type": "code",
   "execution_count": 37,
   "id": "5f690db1-9d2b-4209-bf93-7780d27e2fa8",
   "metadata": {},
   "outputs": [
    {
     "data": {
      "text/html": [
       "<div>\n",
       "<style scoped>\n",
       "    .dataframe tbody tr th:only-of-type {\n",
       "        vertical-align: middle;\n",
       "    }\n",
       "\n",
       "    .dataframe tbody tr th {\n",
       "        vertical-align: top;\n",
       "    }\n",
       "\n",
       "    .dataframe thead th {\n",
       "        text-align: right;\n",
       "    }\n",
       "</style>\n",
       "<table border=\"1\" class=\"dataframe\">\n",
       "  <thead>\n",
       "    <tr style=\"text-align: right;\">\n",
       "      <th></th>\n",
       "      <th>City</th>\n",
       "      <th>Population</th>\n",
       "    </tr>\n",
       "  </thead>\n",
       "  <tbody>\n",
       "    <tr>\n",
       "      <th>0</th>\n",
       "      <td>Berlin</td>\n",
       "      <td>3.5</td>\n",
       "    </tr>\n",
       "    <tr>\n",
       "      <th>1</th>\n",
       "      <td>Paris</td>\n",
       "      <td>2.2</td>\n",
       "    </tr>\n",
       "    <tr>\n",
       "      <th>2</th>\n",
       "      <td>London</td>\n",
       "      <td>8.9</td>\n",
       "    </tr>\n",
       "    <tr>\n",
       "      <th>3</th>\n",
       "      <td>Rome</td>\n",
       "      <td>2.8</td>\n",
       "    </tr>\n",
       "  </tbody>\n",
       "</table>\n",
       "</div>"
      ],
      "text/plain": [
       "     City  Population\n",
       "0  Berlin         3.5\n",
       "1   Paris         2.2\n",
       "2  London         8.9\n",
       "3    Rome         2.8"
      ]
     },
     "metadata": {},
     "output_type": "display_data"
    }
   ],
   "source": [
    "# Concat example\n",
    "Markdown('### Concatenation example / 拼接示例')\n",
    "df_top = pd.DataFrame({'City': ['Berlin','Paris'], 'Population': [3.5,2.2]})\n",
    "df_bottom = pd.DataFrame({'City':['London','Rome'], 'Population':[8.9,2.8]})\n",
    "display(pd.concat([df_top, df_bottom], ignore_index=True))"
   ]
  },
  {
   "cell_type": "code",
   "execution_count": 38,
   "id": "f5c69c9d-2589-42d6-b8cc-0a0b24c479e7",
   "metadata": {},
   "outputs": [
    {
     "data": {
      "text/markdown": [
       "\n",
       "## ⏱️ Time Series Basics / 时间序列基础\n",
       "\n",
       "Pandas has powerful time series utilities: `pd.to_datetime`, `resample`, `rolling`, `shift`.\n",
       "\n",
       "常用函数：`pd.to_datetime`, `resample`, `rolling`, `shift`。\n"
      ],
      "text/plain": [
       "<IPython.core.display.Markdown object>"
      ]
     },
     "execution_count": 38,
     "metadata": {},
     "output_type": "execute_result"
    }
   ],
   "source": [
    "# ===================\n",
    "# Section: Time Series Basics\n",
    "# ===================\n",
    "\n",
    "Markdown(r\"\"\"\n",
    "## ⏱️ Time Series Basics / 时间序列基础\n",
    "\n",
    "Pandas has powerful time series utilities: `pd.to_datetime`, `resample`, `rolling`, `shift`.\n",
    "\n",
    "常用函数：`pd.to_datetime`, `resample`, `rolling`, `shift`。\n",
    "\"\"\")"
   ]
  },
  {
   "cell_type": "code",
   "execution_count": 39,
   "id": "ff66f9b6-3269-4c16-8a35-525b6c7ce824",
   "metadata": {},
   "outputs": [
    {
     "name": "stdout",
     "output_type": "stream",
     "text": [
      "Time series sample:\n"
     ]
    },
    {
     "name": "stderr",
     "output_type": "stream",
     "text": [
      "C:\\Users\\Waqas\\AppData\\Local\\Temp\\ipykernel_34084\\2605523614.py:2: FutureWarning: 'M' is deprecated and will be removed in a future version, please use 'ME' instead.\n",
      "  rng = pd.date_range('2023-01-01', periods=12, freq='M')\n"
     ]
    },
    {
     "data": {
      "text/plain": [
       "2023-01-31    72\n",
       "2023-02-28    68\n",
       "2023-03-31    86\n",
       "2023-04-30    89\n",
       "2023-05-31    93\n",
       "Freq: ME, dtype: int32"
      ]
     },
     "metadata": {},
     "output_type": "display_data"
    },
    {
     "name": "stdout",
     "output_type": "stream",
     "text": [
      "\n",
      "Resample monthly to quarterly sum:\n"
     ]
    },
    {
     "name": "stderr",
     "output_type": "stream",
     "text": [
      "C:\\Users\\Waqas\\AppData\\Local\\Temp\\ipykernel_34084\\2605523614.py:8: FutureWarning: 'Q' is deprecated and will be removed in a future version, please use 'QE' instead.\n",
      "  display(ts.resample('Q').sum())\n"
     ]
    },
    {
     "data": {
      "text/plain": [
       "2023-03-31    226\n",
       "2023-06-30    277\n",
       "2023-09-30    236\n",
       "2023-12-31    163\n",
       "Freq: QE-DEC, dtype: int32"
      ]
     },
     "metadata": {},
     "output_type": "display_data"
    },
    {
     "name": "stdout",
     "output_type": "stream",
     "text": [
      "\n",
      "Rolling mean (window=3):\n"
     ]
    },
    {
     "data": {
      "text/plain": [
       "2023-01-31          NaN\n",
       "2023-02-28          NaN\n",
       "2023-03-31    75.333333\n",
       "2023-04-30    81.000000\n",
       "2023-05-31    89.333333\n",
       "2023-06-30    92.333333\n",
       "2023-07-31    90.333333\n",
       "2023-08-31    83.333333\n",
       "2023-09-30    78.666667\n",
       "2023-10-31    71.000000\n",
       "2023-11-30    63.666667\n",
       "2023-12-31    54.333333\n",
       "Freq: ME, dtype: float64"
      ]
     },
     "metadata": {},
     "output_type": "display_data"
    }
   ],
   "source": [
    "# Create sample time series\n",
    "rng = pd.date_range('2023-01-01', periods=12, freq='M')\n",
    "ts = pd.Series(np.random.randint(50, 100, len(rng)), index=rng)\n",
    "print('Time series sample:')\n",
    "display(ts.head())\n",
    "\n",
    "print('\\nResample monthly to quarterly sum:')\n",
    "display(ts.resample('Q').sum())\n",
    "\n",
    "print('\\nRolling mean (window=3):')\n",
    "display(ts.rolling(3).mean())"
   ]
  },
  {
   "cell_type": "code",
   "execution_count": 40,
   "id": "a57d4f1e-c252-4efc-a975-f887e51d9680",
   "metadata": {},
   "outputs": [
    {
     "data": {
      "text/markdown": [
       "\n",
       "## 📊 Visualization with Pandas / 使用 Pandas & Matplotlib 可视化\n",
       "\n",
       "Pandas integrates with Matplotlib. Use `df.plot()` for quick visualizations.\n"
      ],
      "text/plain": [
       "<IPython.core.display.Markdown object>"
      ]
     },
     "execution_count": 40,
     "metadata": {},
     "output_type": "execute_result"
    }
   ],
   "source": [
    "# ===================\n",
    "# Section: Visualization\n",
    "# ===================\n",
    "\n",
    "Markdown(r\"\"\"\n",
    "## 📊 Visualization with Pandas / 使用 Pandas & Matplotlib 可视化\n",
    "\n",
    "Pandas integrates with Matplotlib. Use `df.plot()` for quick visualizations.\n",
    "\"\"\")"
   ]
  },
  {
   "cell_type": "code",
   "execution_count": 41,
   "id": "02fae807-ecc1-4bfd-9dfc-ec7115eaa0d5",
   "metadata": {},
   "outputs": [
    {
     "data": {
      "image/png": "[encoded data removed]",
      "text/plain": [
       "<Figure size 700x400 with 1 Axes>"
      ]
     },
     "metadata": {},
     "output_type": "display_data"
    }
   ],
   "source": [
    "# Bar chart for sales by region\n",
    "plt.figure(figsize=(7,4))\n",
    "df_sales.groupby('Region')['Sales'].sum().plot(kind='bar')\n",
    "plt.title('Total Sales by Region')\n",
    "plt.xlabel('Region')\n",
    "plt.ylabel('Sales')\n",
    "plt.grid(axis='y')\n",
    "plt.tight_layout()\n",
    "plt.show()"
   ]
  },
  {
   "cell_type": "code",
   "execution_count": 42,
   "id": "60227512-0c2c-4cc4-ae41-241c4087fb88",
   "metadata": {},
   "outputs": [
    {
     "data": {
      "image/png": "[encoded data removed]",
      "text/plain": [
       "<Figure size 600x400 with 1 Axes>"
      ]
     },
     "metadata": {},
     "output_type": "display_data"
    }
   ],
   "source": [
    "# Scatter plot using students example\n",
    "plt.figure(figsize=(6,4))\n",
    "plt.scatter(students['Age'], [np.mean([85,78,92,88,79])] * len(students), alpha=0.4)\n",
    "plt.title('Example scatter (age vs constant)')\n",
    "plt.xlabel('Age')\n",
    "plt.ylabel('Example metric')\n",
    "plt.show()"
   ]
  },
  {
   "cell_type": "code",
   "execution_count": 43,
   "id": "72eb561c-fa7b-4876-8575-42d4c94d231f",
   "metadata": {},
   "outputs": [
    {
     "data": {
      "text/markdown": [
       "\n",
       "## ⚡ Performance Tips & Best Practices / 性能优化与最佳实践\n",
       "\n",
       "- Use vectorized operations (avoid Python loops). / 使用向量化操作，避免 Python 循环。\n",
       "- Use the correct `dtype` to save memory (e.g., `int32` instead of `int64` when possible). / 使用合适的 `dtype` 节省内存。\n",
       "- Use `df.eval()` and `df.query()` for some complex operations to speed up. / 使用 `df.eval()` 与 `df.query()`。\n",
       "- When reading large files, use `usecols`, `dtype`, and `chunksize`. / 读取大文件时使用 `usecols`, `dtype`, `chunksize`。\n",
       "- For repeated operations, consider converting pandas objects to NumPy arrays if you need raw speed. / 对重复操作，考虑将数据转换为 NumPy 数组以获取更高性能。\n"
      ],
      "text/plain": [
       "<IPython.core.display.Markdown object>"
      ]
     },
     "execution_count": 43,
     "metadata": {},
     "output_type": "execute_result"
    }
   ],
   "source": [
    "# ===================\n",
    "# Section: Performance Tips\n",
    "# ===================\n",
    "\n",
    "Markdown(r\"\"\"\n",
    "## ⚡ Performance Tips & Best Practices / 性能优化与最佳实践\n",
    "\n",
    "- Use vectorized operations (avoid Python loops). / 使用向量化操作，避免 Python 循环。\n",
    "- Use the correct `dtype` to save memory (e.g., `int32` instead of `int64` when possible). / 使用合适的 `dtype` 节省内存。\n",
    "- Use `df.eval()` and `df.query()` for some complex operations to speed up. / 使用 `df.eval()` 与 `df.query()`。\n",
    "- When reading large files, use `usecols`, `dtype`, and `chunksize`. / 读取大文件时使用 `usecols`, `dtype`, `chunksize`。\n",
    "- For repeated operations, consider converting pandas objects to NumPy arrays if you need raw speed. / 对重复操作，考虑将数据转换为 NumPy 数组以获取更高性能。\n",
    "\"\"\")"
   ]
  },
  {
   "cell_type": "code",
   "execution_count": 44,
   "id": "1e7734c2-1a2e-4f27-8a64-d5357ba73354",
   "metadata": {},
   "outputs": [
    {
     "name": "stdout",
     "output_type": "stream",
     "text": [
      "Before dtypes:\n"
     ]
    },
    {
     "data": {
      "text/plain": [
       "id     int32\n",
       "val    int32\n",
       "dtype: object"
      ]
     },
     "metadata": {},
     "output_type": "display_data"
    },
    {
     "name": "stdout",
     "output_type": "stream",
     "text": [
      "Memory usage before:\n",
      "Index      132\n",
      "id       40000\n",
      "val      40000\n",
      "dtype: int64\n",
      "\n",
      "After dtypes:\n"
     ]
    },
    {
     "data": {
      "text/plain": [
       "id     int32\n",
       "val     int8\n",
       "dtype: object"
      ]
     },
     "metadata": {},
     "output_type": "display_data"
    },
    {
     "name": "stdout",
     "output_type": "stream",
     "text": [
      "Memory usage after:\n",
      "Index      132\n",
      "id       40000\n",
      "val      10000\n",
      "dtype: int64\n"
     ]
    }
   ],
   "source": [
    "# Example: dtype optimization demonstration\n",
    "Markdown('### dtype example / 数据类型示例')\n",
    "large = pd.DataFrame({\n",
    "    'id': np.arange(10_000),\n",
    "    'val': np.random.randint(0, 100, size=10_000)\n",
    "})\n",
    "print('Before dtypes:')\n",
    "display(large.dtypes)\n",
    "print('Memory usage before:')\n",
    "print(large.memory_usage(deep=True))\n",
    "\n",
    "large['id'] = large['id'].astype('int32')\n",
    "large['val'] = large['val'].astype('int8')\n",
    "print('\\nAfter dtypes:')\n",
    "display(large.dtypes)\n",
    "print('Memory usage after:')\n",
    "print(large.memory_usage(deep=True))"
   ]
  },
  {
   "cell_type": "code",
   "execution_count": 45,
   "id": "a7bcc747-c5d9-474d-b031-1f99f7e0175d",
   "metadata": {},
   "outputs": [
    {
     "data": {
      "text/markdown": [
       "\n",
       "## ✍️ Exercises — Try it yourself / 练习 — 试一试\n",
       "\n",
       "Each exercise has a short description. Try to solve them before checking the solution cells written below.\n",
       "\n",
       "1. **Exercise 1:** Create a DataFrame `df_ex` with columns `['A','B','C']` where A contains numbers 1..10, B contains their squares, and C contains random choices of ['x','y','z']. Then show first 5 rows.\n",
       "\n",
       "2. **Exercise 2:** Given `df_ex`, filter rows where B > 20 and C != 'y'.\n",
       "\n",
       "3. **Exercise 3:** Group `df_sales` by `Product` and compute average sales per product.\n",
       "\n",
       "4. **Exercise 4:** Read `sample_students.csv` and add a boolean column `Honors` where `Score >= 80`.\n",
       "\n",
       "(Answers follow — first try on your own!)\n"
      ],
      "text/plain": [
       "<IPython.core.display.Markdown object>"
      ]
     },
     "execution_count": 45,
     "metadata": {},
     "output_type": "execute_result"
    }
   ],
   "source": [
    "# ===================\n",
    "# Interactive Exercises\n",
    "# ===================\n",
    "\n",
    "Markdown(r\"\"\"\n",
    "## ✍️ Exercises — Try it yourself / 练习 — 试一试\n",
    "\n",
    "Each exercise has a short description. Try to solve them before checking the solution cells written below.\n",
    "\n",
    "1. **Exercise 1:** Create a DataFrame `df_ex` with columns `['A','B','C']` where A contains numbers 1..10, B contains their squares, and C contains random choices of ['x','y','z']. Then show first 5 rows.\n",
    "\n",
    "2. **Exercise 2:** Given `df_ex`, filter rows where B > 20 and C != 'y'.\n",
    "\n",
    "3. **Exercise 3:** Group `df_sales` by `Product` and compute average sales per product.\n",
    "\n",
    "4. **Exercise 4:** Read `sample_students.csv` and add a boolean column `Honors` where `Score >= 80`.\n",
    "\n",
    "(Answers follow — first try on your own!)\n",
    "\"\"\")"
   ]
  },
  {
   "cell_type": "code",
   "execution_count": null,
   "id": "224d36b9-13f8-44f3-9a02-72bcc1b5295f",
   "metadata": {},
   "outputs": [],
   "source": [
    "# Exercise solutions\n",
    "Markdown('### ✅ Solutions / 答案')\n",
    "\n",
    "# Solution 1\n",
    "Markdown('**Solution 1 / 题解 1**')\n",
    "df_ex = pd.DataFrame({\n",
    "    'A': np.arange(1, 11),\n",
    "    'B': np.arange(1, 11) ** 2,\n",
    "    'C': np.random.choice(['x','y','z'], size=10)\n",
    "})\n",
    "display(df_ex.head())\n",
    "\n",
    "# Solution 2\n",
    "Markdown('**Solution 2 / 题解 2**')\n",
    "display(df_ex[(df_ex['B'] > 20) & (df_ex['C'] != 'y')])\n",
    "\n",
    "# Solution 3\n",
    "Markdown('**Solution 3 / 题解 3**')\n",
    "display(df_sales.groupby('Product')['Sales'].mean())\n",
    "\n",
    "# Solution 4\n",
    "Markdown('**Solution 4 / 题解 4**')\n",
    "df_students = pd.read_csv('sample_students.csv')\n",
    "df_students['Honors'] = df_students['Score'] >= 80\n",
    "display(df_students)"
   ]
  },
  {
   "cell_type": "code",
   "execution_count": 47,
   "id": "aa8fdb2f-7c8d-4daa-a294-b918904c08f9",
   "metadata": {},
   "outputs": [
    {
     "data": {
      "text/markdown": [
       "\n",
       "## 🧩 Mini Project: Analyze a small sales dataset / 小项目：分析小型销售数据\n",
       "\n",
       "Tasks:\n",
       "- Load dataset (we'll use `df_sales` defined above)\n",
       "- Compute monthly/region summaries, top products, and visualize\n",
       "- Create a pivot table for region vs product sales\n"
      ],
      "text/plain": [
       "<IPython.core.display.Markdown object>"
      ]
     },
     "execution_count": 47,
     "metadata": {},
     "output_type": "execute_result"
    }
   ],
   "source": [
    "# ===================\n",
    "# Extra Examples & Real-World Mini Project\n",
    "# ===================\n",
    "\n",
    "Markdown(r\"\"\"\n",
    "## 🧩 Mini Project: Analyze a small sales dataset / 小项目：分析小型销售数据\n",
    "\n",
    "Tasks:\n",
    "- Load dataset (we'll use `df_sales` defined above)\n",
    "- Compute monthly/region summaries, top products, and visualize\n",
    "- Create a pivot table for region vs product sales\n",
    "\"\"\")"
   ]
  },
  {
   "cell_type": "code",
   "execution_count": 48,
   "id": "f5d87925-709b-4da0-8bc5-3c4bc2eacd99",
   "metadata": {},
   "outputs": [
    {
     "name": "stdout",
     "output_type": "stream",
     "text": [
      "Total sales by product:\n"
     ]
    },
    {
     "data": {
      "text/plain": [
       "Product\n",
       "A    600\n",
       "B    400\n",
       "Name: Sales, dtype: int64"
      ]
     },
     "metadata": {},
     "output_type": "display_data"
    },
    {
     "name": "stdout",
     "output_type": "stream",
     "text": [
      "\n",
      "Total sales by region:\n"
     ]
    },
    {
     "data": {
      "text/plain": [
       "Region\n",
       "East     380\n",
       "North    120\n",
       "West     500\n",
       "Name: Sales, dtype: int64"
      ]
     },
     "metadata": {},
     "output_type": "display_data"
    },
    {
     "name": "stdout",
     "output_type": "stream",
     "text": [
      "\n",
      "Pivot table (Region x Product):\n"
     ]
    },
    {
     "data": {
      "text/html": [
       "<div>\n",
       "<style scoped>\n",
       "    .dataframe tbody tr th:only-of-type {\n",
       "        vertical-align: middle;\n",
       "    }\n",
       "\n",
       "    .dataframe tbody tr th {\n",
       "        vertical-align: top;\n",
       "    }\n",
       "\n",
       "    .dataframe thead th {\n",
       "        text-align: right;\n",
       "    }\n",
       "</style>\n",
       "<table border=\"1\" class=\"dataframe\">\n",
       "  <thead>\n",
       "    <tr style=\"text-align: right;\">\n",
       "      <th>Product</th>\n",
       "      <th>A</th>\n",
       "      <th>B</th>\n",
       "    </tr>\n",
       "    <tr>\n",
       "      <th>Region</th>\n",
       "      <th></th>\n",
       "      <th></th>\n",
       "    </tr>\n",
       "  </thead>\n",
       "  <tbody>\n",
       "    <tr>\n",
       "      <th>East</th>\n",
       "      <td>100</td>\n",
       "      <td>280</td>\n",
       "    </tr>\n",
       "    <tr>\n",
       "      <th>North</th>\n",
       "      <td>0</td>\n",
       "      <td>120</td>\n",
       "    </tr>\n",
       "    <tr>\n",
       "      <th>West</th>\n",
       "      <td>500</td>\n",
       "      <td>0</td>\n",
       "    </tr>\n",
       "  </tbody>\n",
       "</table>\n",
       "</div>"
      ],
      "text/plain": [
       "Product    A    B\n",
       "Region           \n",
       "East     100  280\n",
       "North      0  120\n",
       "West     500    0"
      ]
     },
     "metadata": {},
     "output_type": "display_data"
    },
    {
     "data": {
      "image/png": "[encoded data removed]",
      "text/plain": [
       "<Figure size 800x400 with 1 Axes>"
      ]
     },
     "metadata": {},
     "output_type": "display_data"
    }
   ],
   "source": [
    "# Top product\n",
    "print('Total sales by product:')\n",
    "display(df_sales.groupby('Product')['Sales'].sum())\n",
    "\n",
    "# Top region\n",
    "print('\\nTotal sales by region:')\n",
    "display(df_sales.groupby('Region')['Sales'].sum())\n",
    "\n",
    "# Pivot table\n",
    "print('\\nPivot table (Region x Product):')\n",
    "display(pd.pivot_table(df_sales, index='Region', columns='Product', values='Sales', aggfunc='sum', fill_value=0))\n",
    "\n",
    "# Visualization\n",
    "pivot = pd.pivot_table(df_sales, index='Region', columns='Product', values='Sales', aggfunc='sum', fill_value=0)\n",
    "pivot.plot(kind='bar', figsize=(8,4))\n",
    "plt.title('Sales by Region and Product')\n",
    "plt.xlabel('Region')\n",
    "plt.ylabel('Sales')\n",
    "plt.tight_layout()\n",
    "plt.show()"
   ]
  },
  {
   "cell_type": "code",
   "execution_count": 46,
   "id": "27248560-4bcf-4f1c-bf31-a218f22be2fb",
   "metadata": {},
   "outputs": [
    {
     "data": {
      "text/markdown": [
       "\n",
       "## ✅ Final Notes / 最后说明\n",
       "\n",
       "- This notebook covers the essentials of Pandas for teaching and practical work.\n",
       "- Next steps: practice on real datasets (Titanic, Iris, NYC taxi, Kaggle datasets).\n",
       "- Learn integration with scikit-learn for machine learning pipelines.\n",
       "\n",
       "If you want, I can:\n",
       "- Export this as a downloadable `.ipynb` file for you to run locally.\n",
       "- Add more advanced sections: time series forecasting, window functions, custom aggregation, optimizing with Dask or Vaex, reading from SQL and Parquet.\n",
       "\n",
       "告诉我是否要把笔记本导出为 .ipynb 文件，或者我该添加哪些高级主题（例如：时间序列预测、窗口函数、与 Dask 的集成等）。\n"
      ],
      "text/plain": [
       "<IPython.core.display.Markdown object>"
      ]
     },
     "execution_count": 46,
     "metadata": {},
     "output_type": "execute_result"
    }
   ],
   "source": [
    "# ===================\n",
    "# Final Notes and Next Steps\n",
    "# ===================\n",
    "\n",
    "Markdown(r\"\"\"\n",
    "## ✅ Final Notes / 最后说明\n",
    "\n",
    "- This notebook covers the essentials of Pandas for teaching and practical work.\n",
    "- Next steps: practice on real datasets (Titanic, Iris, NYC taxi, Kaggle datasets).\n",
    "- Learn integration with scikit-learn for machine learning pipelines.\n",
    "\n",
    "If you want, I can:\n",
    "- Export this as a downloadable `.ipynb` file for you to run locally.\n",
    "- Add more advanced sections: time series forecasting, window functions, custom aggregation, optimizing with Dask or Vaex, reading from SQL and Parquet.\n",
    "\n",
    "告诉我是否要把笔记本导出为 .ipynb 文件，或者我该添加哪些高级主题（例如：时间序列预测、窗口函数、与 Dask 的集成等）。\n",
    "\"\"\")"
   ]
  },
  {
   "cell_type": "code",
   "execution_count": null,
   "id": "c135ae02-696f-4f1e-9220-875dd6aa4101",
   "metadata": {},
   "outputs": [],
   "source": []
  }
 ],
 "metadata": {
  "kernelspec": {
   "display_name": "Python 3 (ipykernel)",
   "language": "python",
   "name": "python3"
  },
  "language_info": {
   "codemirror_mode": {
    "name": "ipython",
    "version": 3
   },
   "file_extension": ".py",
   "mimetype": "text/x-python",
   "name": "python",
   "nbconvert_exporter": "python",
   "pygments_lexer": "ipython3",
   "version": "3.12.7"
  }
 },
 "nbformat": 4,
 "nbformat_minor": 5
}
