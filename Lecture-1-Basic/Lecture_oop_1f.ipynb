{
 "cells": [
  {
   "cell_type": "markdown",
   "id": "07f412c3-2697-4177-b2c3-8b459a55252f",
   "metadata": {},
   "source": [
    "### Object Oriented Programing\n",
    "The  main power of OOP is it give the power to programer to creat its own data type depending upon the programer.\n",
    "OOP have six principles.\n",
    "1- Object\n",
    "2-Class\n",
    "3 encapsulation\n",
    "4-inheritance\n",
    "5-polymorphism\n",
    "6-abstraction\n"
   ]
  },
  {
   "cell_type": "markdown",
   "id": "3f65a51f-3a90-4c1f-bd1b-4019d91d0053",
   "metadata": {},
   "source": [
    "###  Object and Class"
   ]
  },
  {
   "cell_type": "code",
   "execution_count": 1,
   "id": "03bd436b-e65f-49dc-a7f6-de40947c0fce",
   "metadata": {},
   "outputs": [
    {
     "ename": "AttributeError",
     "evalue": "'list' object has no attribute 'upper'",
     "output_type": "error",
     "traceback": [
      "\u001b[1;31m---------------------------------------------------------------------------\u001b[0m",
      "\u001b[1;31mAttributeError\u001b[0m                            Traceback (most recent call last)",
      "Cell \u001b[1;32mIn[1], line 4\u001b[0m\n\u001b[0;32m      1\u001b[0m \u001b[38;5;66;03m### Examples\u001b[39;00m\n\u001b[0;32m      2\u001b[0m L \u001b[38;5;241m=\u001b[39m [\u001b[38;5;241m1\u001b[39m,\u001b[38;5;241m2\u001b[39m,\u001b[38;5;241m3\u001b[39m]\n\u001b[1;32m----> 4\u001b[0m L\u001b[38;5;241m.\u001b[39mupper()\n",
      "\u001b[1;31mAttributeError\u001b[0m: 'list' object has no attribute 'upper'"
     ]
    }
   ],
   "source": [
    "### Examples-1\n",
    "L = [1,2,3]\n",
    "\n",
    "L.upper()"
   ]
  },
  {
   "cell_type": "code",
   "execution_count": 2,
   "id": "4c094f4f-9e42-441d-9be9-b4d0a41248b7",
   "metadata": {},
   "outputs": [
    {
     "ename": "AttributeError",
     "evalue": "'str' object has no attribute 'append'",
     "output_type": "error",
     "traceback": [
      "\u001b[1;31m---------------------------------------------------------------------------\u001b[0m",
      "\u001b[1;31mAttributeError\u001b[0m                            Traceback (most recent call last)",
      "Cell \u001b[1;32mIn[2], line 3\u001b[0m\n\u001b[0;32m      1\u001b[0m \u001b[38;5;66;03m### Examples-2\u001b[39;00m\n\u001b[0;32m      2\u001b[0m s \u001b[38;5;241m=\u001b[39m \u001b[38;5;124m'\u001b[39m\u001b[38;5;124mhello\u001b[39m\u001b[38;5;124m'\u001b[39m\n\u001b[1;32m----> 3\u001b[0m s\u001b[38;5;241m.\u001b[39mappend(\u001b[38;5;124m'\u001b[39m\u001b[38;5;124mx\u001b[39m\u001b[38;5;124m'\u001b[39m)\n",
      "\u001b[1;31mAttributeError\u001b[0m: 'str' object has no attribute 'append'"
     ]
    }
   ],
   "source": [
    "### Examples-2\n",
    "s = 'hello'\n",
    "s.append('x')"
   ]
  },
  {
   "cell_type": "markdown",
   "id": "1b282272-e3e7-4149-adf1-02fdf63d4fd1",
   "metadata": {},
   "source": [
    "### In these examples you guys look we use a function which is not define for list and string that is why we get error.\n",
    "### Byt note one thing in Error ......\"AttributeError: 'list' object has no attribute 'upper'\", \"AttributeError: 'str' object has no attribute 'append'\"\n",
    "### Which mean python consider list and String both as a object.\n",
    "\n"
   ]
  },
  {
   "cell_type": "code",
   "execution_count": 3,
   "id": "1edd8859-9802-4ad4-a5e0-67c68954aa00",
   "metadata": {},
   "outputs": [
    {
     "name": "stdout",
     "output_type": "stream",
     "text": [
      "<class 'list'>\n"
     ]
    }
   ],
   "source": [
    "## Example 3\n",
    "L = [1,2,3]\n",
    "print(type(L))"
   ]
  },
  {
   "cell_type": "markdown",
   "id": "26618ef9-0556-4372-a5a6-5ba8563714df",
   "metadata": {},
   "source": [
    "### Conclusion: Difference between classs and object.\n",
    "1-All data type in python are class .. built in class already some one written in python.\n",
    "2-Whenever you make a variable of any data type forexample in example 3 i make one variable L for list [1, 2, 3], python consider that variable as a object of that class.\n",
    "3- For example if some one make a class and inside the class he make some rules and put the functions the if some one make the object of that class which follow that rules.\n",
    "4- Inside class we have two things ...data and functions\n"
   ]
  },
  {
   "cell_type": "markdown",
   "id": "524fd57d-8e03-4cb3-a8f9-5dd48bb272ed",
   "metadata": {},
   "source": [
    "### how to creat a class\n",
    "# syntax to create an object\r\n",
    "\r",
    " \n",
    "#objectname = classname()"
   ]
  },
  {
   "cell_type": "code",
   "execution_count": 4,
   "id": "9d75ebb4-0eaf-47c5-9478-11244299d966",
   "metadata": {},
   "outputs": [
    {
     "name": "stdout",
     "output_type": "stream",
     "text": [
      "[1, 2, 3]\n"
     ]
    }
   ],
   "source": [
    "### Example\n",
    "L=[1,2,3]\n",
    "print(L)"
   ]
  },
  {
   "cell_type": "code",
   "execution_count": 9,
   "id": "fa9e6317-ffd3-48aa-ae72-b53dc24fccfe",
   "metadata": {},
   "outputs": [
    {
     "name": "stdout",
     "output_type": "stream",
     "text": [
      "[]\n"
     ]
    }
   ],
   "source": [
    "### We can creat in this way as well\n",
    "A=list()\n",
    "print(A)"
   ]
  },
  {
   "cell_type": "code",
   "execution_count": 10,
   "id": "75cdcda5-ef15-4319-b157-bd7c7b9e7775",
   "metadata": {},
   "outputs": [],
   "source": [
    "### Example 2\n",
    "s = str()"
   ]
  },
  {
   "cell_type": "markdown",
   "id": "a52c85f8-5cf8-44dc-9476-e539ded73218",
   "metadata": {},
   "source": [
    "### Class Examples...... Syntex\n",
    "class ClassName:\r\n",
    "   # Statement-1\r\n",
    "   .\r\n",
    "   .\r\n",
    "   .\r\n",
    "   # Statement-N"
   ]
  },
  {
   "cell_type": "code",
   "execution_count": 11,
   "id": "8e9c3aad-504a-428a-b157-60ab3ef39e47",
   "metadata": {},
   "outputs": [],
   "source": [
    "## Example\n",
    "# Python3 program to \n",
    "# demonstrate defining \n",
    "# a class \n",
    "\n",
    "class Dog: \n",
    "\tpass\n"
   ]
  },
  {
   "cell_type": "markdown",
   "id": "98f82ab5-75e4-497f-86ce-e690e03454ba",
   "metadata": {},
   "source": [
    "### we can start adding different attributes to these object instances.\n",
    "我们可以开始向这些对象实例添加不同的属性。"
   ]
  },
  {
   "cell_type": "code",
   "execution_count": 12,
   "id": "f0b40624-e8ed-4229-9c6b-c0cb58c1e66b",
   "metadata": {},
   "outputs": [
    {
     "name": "stdout",
     "output_type": "stream",
     "text": [
      "Harry\n",
      "85\n"
     ]
    }
   ],
   "source": [
    "### Example \n",
    "class Student:\n",
    "    pass\n",
    "\n",
    "# create an object of Student\n",
    "student1 = Student()\n",
    "\n",
    "# initialize object attributes\n",
    "student1.name = 'Harry'\n",
    "student1.marks = 85\n",
    "\n",
    "# print object attributes\n",
    "print(student1.name)\n",
    "print(student1.marks)"
   ]
  },
  {
   "cell_type": "markdown",
   "id": "bf88bf4b-aa85-4b03-8f4a-8a6882f985df",
   "metadata": {},
   "source": [
    "### Let's now see how we can define methods inside a class.\n",
    "现在让我们看看如何在类中定义方法。"
   ]
  },
  {
   "cell_type": "code",
   "execution_count": 13,
   "id": "201d3948-6ffd-441e-ae0d-cdf4f60a3f22",
   "metadata": {},
   "outputs": [
    {
     "name": "stdout",
     "output_type": "stream",
     "text": [
      "True\n"
     ]
    }
   ],
   "source": [
    "## Examples\n",
    "class Student:\n",
    "\n",
    "    # method to check if student passed or failed\n",
    "    def check_pass_fail(self):\n",
    "        if self.marks >= 40:\n",
    "            return True\n",
    "        else:\n",
    "            return False\n",
    "\n",
    "# instantiate Student class\n",
    "student1 = Student()\n",
    "\n",
    "# initialize data attributes of student1\n",
    "student1.name = 'Harry'\n",
    "student1.marks = 85\n",
    "\n",
    "# call the check_pass_fail() method for student1\n",
    "did_pass = student1.check_pass_fail()\n",
    "\n",
    "# print the result\n",
    "print(did_pass)"
   ]
  },
  {
   "cell_type": "markdown",
   "id": "95b3ee90-b942-4afb-9eb4-3614f58bd46b",
   "metadata": {},
   "source": [
    "### Here, the check_pass_fail() method is defined inside the Student class. Now, any object created from the Student class can access this method.\n",
    "在这里，check_pass_fail（） 方法是在 Student 类中定义的。现在，从 Student 类创建的任何对象都可以访问此方法。。\n",
    "\n",
    "## We have called this method without passing any arguments. However, the method definition takes one argument named sel\n",
    "\n",
    "我们在不传递任何参数的情况下调用了此方法。但是，方法定义采用一个名为 self 的参数。\n",
    "\n",
    "def check_pass_fail(self):\r\n",
    "    if self.marks >= 40:\r\n",
    "        return True\r\n",
    "    else:\r\n",
    "        return F\n",
    "## Whenever we define methods for a class, we need to use self as the first parameter. This self represents the object calling it.\n",
    "每当我们为类定义方法时，我们都需要使用“self”作为第一个参数。这个“自我”代表调用它的对象。。\r\n",
    "\r\n",
    "In our example, self refers to the student1 object and self.marks refers to the marks attribute of stude\n",
    "在我们的示例中，“self”指的是“student1”对象，self.marks指的是student1的marks属性。nt1.\n",
    "        alsef."
   ]
  },
  {
   "cell_type": "code",
   "execution_count": null,
   "id": "5b0aef7c-a1c2-48dd-a91e-c9eacba87d4a",
   "metadata": {},
   "outputs": [],
   "source": []
  },
  {
   "cell_type": "markdown",
   "id": "b6cfb536-88bb-4e54-8e69-f70e4d1b4bc1",
   "metadata": {},
   "source": [
    "### Constructors in Python\n",
    "The __init__() Method\n",
    "## Adding attributes to the object manually after defining it is not a good practice.\r\n",
    "在定义对象后手动向对象添加属性不是一个好做法。\r",
    "常## 相似。\n",
    "\r\n",
    "Python offers a much more elegant and compact way of defining attributes right while instantiating the object. For that, we use the init m\n",
    "\n",
    "Python 提供了一种更优雅、更紧凑的方式来定义属性，同时实例化对象。为此，我们使用“init”方法。\n",
    "t## hod.\r\n",
    "\r\n",
    "If you are coming from other languages like C++ or Java, the Python __init__() method closely resembles const\n",
    "如果您来自其他语言，如 C++ 或 Java，则 Python “__init__（） ”方法与构造函数非常相似。ructors."
   ]
  },
  {
   "cell_type": "code",
   "execution_count": 15,
   "id": "ec0e60de-4493-49fc-8c65-edba6cd739a2",
   "metadata": {},
   "outputs": [
    {
     "name": "stdout",
     "output_type": "stream",
     "text": [
      "LU\n",
      "85\n"
     ]
    }
   ],
   "source": [
    "## Examples\n",
    "class Student:\n",
    "    \n",
    "    def __init__(self, name, marks):\n",
    "        self.name = name\n",
    "        self.marks = marks\n",
    "        \n",
    "    def check_pass_fail(self):\n",
    "        if self.marks >= 40:\n",
    "            return True\n",
    "        else:\n",
    "            return False\n",
    "\n",
    "student1 = Student('LU', 85)\n",
    "print(student1.name)\n",
    "print(student1.marks)"
   ]
  },
  {
   "attachments": {
    "d591a710-6a70-4c85-9c91-c975d327272f.png": {
     "image/png": "[encoded data removed]"
    }
   },
   "cell_type": "markdown",
   "id": "6b9f1a3d-40af-4adc-bc1e-2be1fa925e4f",
   "metadata": {},
   "source": [
    "\n",
    "![image.png](attachment:d591a710-6a70-4c85-9c91-c975d327272f.png)\n"
   ]
  },
  {
   "cell_type": "markdown",
   "id": "c853b100-9b72-40e6-aa00-287f42366eed",
   "metadata": {},
   "source": [
    "### Remember, the first parameter self represents the object calling it. In contrast, the second and third parameters take the two arguments which we passed during object creation.\n",
    "请记住，第一个参数 self 表示调用它的对象。相反，第二个和第三个参数采用我们在对象创建过程中传递的两个参数。\n",
    "## Now, for the student1 object, the name attribute will be Harry, and the marks attribute will be 85.\n",
    "现在，对于 student1 对象，name 属性将为 Harry，marks 属性将为 85。"
   ]
  },
  {
   "cell_type": "code",
   "execution_count": 16,
   "id": "adfd67b3-47b3-414b-bbf2-b414cce97de7",
   "metadata": {},
   "outputs": [
    {
     "name": "stdout",
     "output_type": "stream",
     "text": [
      "Harry\n",
      "85\n",
      "Janet\n",
      "30\n"
     ]
    }
   ],
   "source": [
    "## Example\n",
    "class Student:\n",
    "    \n",
    "    def __init__(self, name, marks):\n",
    "        self.name = name\n",
    "        self.marks = marks\n",
    "        \n",
    "    def check_pass_fail(self):\n",
    "        if self.marks >= 40:\n",
    "            return True\n",
    "        else:\n",
    "            return False\n",
    "\n",
    "student1 = Student('Harry', 85)\n",
    "print(student1.name)\n",
    "print(student1.marks)\n",
    "\n",
    "student2 = Student('Janet', 30)\n",
    "print(student2.name)\n",
    "print(student2.marks)"
   ]
  },
  {
   "attachments": {
    "1854ea3b-fa02-42c3-aef5-711e9ea1e9eb.png": {
     "image/png": "[encoded data removed]"
    }
   },
   "cell_type": "markdown",
   "id": "59e9f659-2d50-4c98-8625-d1b10b286892",
   "metadata": {},
   "source": [
    "## ![Screenshot 2024-04-07 052655.png](attachment:1854ea3b-fa02-42c3-aef5-711e9ea1e9eb.png)"
   ]
  },
  {
   "cell_type": "markdown",
   "id": "50733d9a-446b-4427-9e46-375eb250a0be",
   "metadata": {},
   "source": [
    "## Let's check if they passed or failed the exams using the check_pass_fail() method.\n",
    "让我们使用 check_pass_fail（） 方法检查他们是否通过了考试。"
   ]
  },
  {
   "cell_type": "code",
   "execution_count": 17,
   "id": "37313167-34f9-402d-ac51-1ad2543f29ff",
   "metadata": {},
   "outputs": [
    {
     "name": "stdout",
     "output_type": "stream",
     "text": [
      "True\n",
      "False\n"
     ]
    }
   ],
   "source": [
    "class Student:\n",
    "    \n",
    "    def __init__(self, name, marks):\n",
    "        self.name = name\n",
    "        self.marks = marks\n",
    "        \n",
    "    def check_pass_fail(self):\n",
    "        if self.marks >= 40:\n",
    "            return True\n",
    "        else:\n",
    "            return False\n",
    "\n",
    "student1 = Student('Harry', 85)\n",
    "did_pass = student1.check_pass_fail()\n",
    "print(did_pass)\n",
    "\n",
    "student2 = Student('Janet', 30)\n",
    "did_pass = student2.check_pass_fail()\n",
    "print(did_pass)"
   ]
  },
  {
   "cell_type": "code",
   "execution_count": null,
   "id": "0b2484bd-cb40-48ab-a163-2395ced2f5ef",
   "metadata": {},
   "outputs": [],
   "source": [
    "## Example: Add Two Complex Numbers"
   ]
  },
  {
   "cell_type": "markdown",
   "id": "6ef7e2f8-70fe-4099-915c-f148eaab3433",
   "metadata": {},
   "source": [
    "### In this example, we will add two complex numbers manually. Python already handles this by default, but we will create our own Complex class to better understand the concepts of object-oriented programming.\r\n",
    "在此示例中，我们将手动添加两个复数。默认情况下，Python 已经处理了这个问题，但我们将创建自己的 Complex 类来更好地理解面向对象编程的概念的类### 。\n",
    "\n",
    "If you do not know, a complex number has real and imaginary parts. When we add two complex numbers, we need to add real and imaginary parts separately.\n",
    "\n",
    "Let's first create a class that represents complex \n",
    "如果你不知道，复数有实数和虚数。当我们添加两个复数时，我们需要分别添加实部和虚部。\n",
    "\n",
    "让我们首先创建一个表示复数的类。\n",
    "\n",
    "class Complex:\r\n",
    "    def __init__(self, real, imag):\r\n",
    "        self.real = real\r\n",
    "        self.imag = imag\r\n",
    "\r\n",
    "n1 = Complex(5, 6)\r\n",
    "n2 = Complex(\n",
    "## Now, let's create a method to add these complex numbers.\n",
    "现在，让我们创建一个方法来添加这些复数。\n",
    "\n",
    "class Complex:\r\n",
    "    def __init__(self, real, imag):\r\n",
    "        self.real = real\r\n",
    "        self.imag = imag\r\n",
    "        \r\n",
    "    def add(self, number):\r\n",
    "        real = self.real + number.real\r\n",
    "        imag = self.imag + number.imag\r\n",
    "        sum = Complex(real, imag)\r\n",
    "        return sum\r\n",
    "\r\n",
    "n1 = Complex(5, 6)\r\n",
    "n2 = Complex(-4, 2)\r\n",
    "result\n",
    "## The value returned by add() is itself an object of the Complex class. \r\n",
    "Let's print the attributes of the result objec\n",
    "add（） 返回的值本身就是 Complex 类的对象。\r\n",
    "\r\n",
    "让我们打印结果对象的属性。t. = n1.add(n2)-4, 2)numbers."
   ]
  },
  {
   "cell_type": "code",
   "execution_count": 18,
   "id": "9c2b4959-28c4-4411-8a8e-06b95594ac31",
   "metadata": {},
   "outputs": [
    {
     "name": "stdout",
     "output_type": "stream",
     "text": [
      "real = 1\n",
      "imag = 8\n"
     ]
    }
   ],
   "source": [
    "## code running\n",
    "class Complex:\n",
    "    def __init__(self, real, imag):\n",
    "        self.real = real\n",
    "        self.imag = imag\n",
    "        \n",
    "    def add(self, number):\n",
    "        real = self.real + number.real\n",
    "        imag = self.imag + number.imag\n",
    "        sum = Complex(real, imag)\n",
    "        return sum\n",
    "\n",
    "n1 = Complex(5, 6)\n",
    "n2 = Complex(-4, 2)\n",
    "result = n1.add(n2)\n",
    "\n",
    "print('real =', result.real)\n",
    "print('imag =', result.imag)"
   ]
  },
  {
   "attachments": {
    "a8f60189-01e5-417f-9876-83f9ea872032.png": {
     "image/png": "[encoded data removed]"
    }
   },
   "cell_type": "markdown",
   "id": "8b8a67e4-d9eb-4f63-b2b5-d2c7e7d0ec42",
   "metadata": {},
   "source": [
    "## Types of Constructors\n",
    "In Python, we have the following three types of constructors.\n",
    "在 Python 中，我们有以下三种类型的构造函数。\n",
    "\n",
    "1-Default Constructor\n",
    "2- Non-parametrized constructor\n",
    "3- Parameterized constructor\n",
    "![image.png](attachment:a8f60189-01e5-417f-9876-83f9ea872032.png)"
   ]
  },
  {
   "cell_type": "markdown",
   "id": "d9a06a79-5f04-4c44-a4b7-eb569a2b60c9",
   "metadata": {},
   "source": [
    "### Default Constructor:\n",
    "## Python will provide a default constructor if no constructor is defined. Python adds a default constructor when we do not include the constructor in the class or forget to declare it. It does not perform any task but initializes the objects. It is an empty constructor without a body.\r",
    "如果未定义构造函数，Python 将提供默认构造函数。当我们在类中不包含构造函数或忘记声明它时，Python 会添加默认构造函数。它不执行任何任务，而是初始化对象。它是一个没有主体的空构造函数。\r",
    "## 加默认构造函数。\n",
    "\r\n",
    "If you do not implement any constructor in your class or forget to declare it, the Python inserts a default constructor into your code on your behalf. This constructor is known as the default co如果您未在类中实现任何构造函数或忘记声明它，Python 会代表您向代码中插入默认构造函数。此构造函数称为默认构造函数。n### structor.\r\n",
    "\r\n",
    "It does not perform any task but initializes the objects. It is an empty constructor wi\n",
    "\n",
    "它不执行任何任务，而是初始化对象。它是一个没有主体的空构造函数。\n",
    "hout a 注意：\n",
    "## ody.\r\n",
    "\r\n",
    "Note:\r\n",
    "\r\n",
    "The default constructor is not present in the source py file. It is inserted into the code during compilatio the below image.\r\n",
    "If you implement your constructor, then the default constructor \n",
    "## Examplewill not be added."
   ]
  },
  {
   "cell_type": "code",
   "execution_count": null,
   "id": "962c098f-7658-47b8-baea-f0ed83f0b430",
   "metadata": {},
   "outputs": [],
   "source": [
    "## Example  default Constaructor\n",
    "class Employee:\n",
    "\n",
    "    def display(self):\n",
    "        print('Inside Display')\n",
    "\n",
    "emp = Employee()\n",
    "emp.display()\n"
   ]
  },
  {
   "cell_type": "code",
   "execution_count": 19,
   "id": "1ea773f8-87e7-4790-84ad-9b418c373a89",
   "metadata": {},
   "outputs": [
    {
     "name": "stdout",
     "output_type": "stream",
     "text": [
      "Name: PYnative Address: ABC Street\n"
     ]
    }
   ],
   "source": [
    "## Example:  # no-argument constructor\n",
    "class Company:\n",
    "\n",
    "    def __init__(self):\n",
    "        self.name = \"PYnative\"\n",
    "        self.address = \"ABC Street\"\n",
    "\n",
    "    # a method for printing data members\n",
    "    def show(self):\n",
    "        print('Name:', self.name, 'Address:', self.address)\n",
    "\n",
    "# creating object of the class\n",
    "cmp = Company()\n",
    "\n",
    "# calling the instance method using the object\n",
    "cmp.show()"
   ]
  },
  {
   "cell_type": "code",
   "execution_count": 21,
   "id": "30131e99-b002-44b2-82de-db481dc0fc0c",
   "metadata": {},
   "outputs": [
    {
     "name": "stdout",
     "output_type": "stream",
     "text": [
      "Emma 23 7500\n",
      "Kelly 25 8500\n"
     ]
    }
   ],
   "source": [
    "## \n",
    "class Employee:\n",
    "    # parameterized constructor\n",
    "    def __init__(self, name, age, salary):\n",
    "        self.name = name\n",
    "        self.age = age\n",
    "        self.salary = salary\n",
    "\n",
    "    # display object\n",
    "    def show(self):\n",
    "        print(self.name, self.age, self.salary)\n",
    "\n",
    "# creating object of the Employee class\n",
    "emma = Employee('Emma', 23, 7500)\n",
    "emma.show()\n",
    "\n",
    "kelly = Employee('Kelly', 25, 8500)\n",
    "kelly.show()\n"
   ]
  },
  {
   "cell_type": "markdown",
   "id": "0fac561f-5762-4198-8d64-b03ff28bf7c4",
   "metadata": {},
   "source": [
    "## Constructor With Default Values: 具有默认值的构造函数\r",
    "用## \r\n",
    "\r\n",
    "\n",
    "Python allows us to define a constructor with default values. The default value will be used if we do not pass arguments to the constructor at the time of object crea\n",
    "Python 允许我们定义具有默认值的构造函数。如果我们在创建对象时不将参数传递给构造函数，则将使用默认值。ti## on.\n",
    "\n",
    "The following example shows how to use the default values with the constru\n",
    "下面的示例演示如何将默认值与构造函数一起使用。ctor.\n",
    "\n"
   ]
  },
  {
   "cell_type": "code",
   "execution_count": 22,
   "id": "0a8a57b6-3ce3-44b2-99ba-02d9f27dca79",
   "metadata": {},
   "outputs": [
    {
     "name": "stdout",
     "output_type": "stream",
     "text": [
      "Emma 12 7\n",
      "Kelly 13 7\n"
     ]
    }
   ],
   "source": [
    "## Example\n",
    "class Student:\n",
    "    # constructor with default values age and classroom\n",
    "    def __init__(self, name, age=12, classroom=7):\n",
    "        self.name = name\n",
    "        self.age = age\n",
    "        self.classroom = classroom\n",
    "\n",
    "    # display Student\n",
    "    def show(self):\n",
    "        print(self.name, self.age, self.classroom)\n",
    "\n",
    "# creating object of the Student class\n",
    "emma = Student('Emma')\n",
    "emma.show()\n",
    "\n",
    "kelly = Student('Kelly', 13)\n",
    "kelly.show()\n"
   ]
  },
  {
   "cell_type": "markdown",
   "id": "29f449f2-83ce-48aa-ba2b-bb9357200601",
   "metadata": {},
   "source": [
    "### Constructor Overloading构造函数重载\n",
    "## Constructor overloading is a concept of having more than one constructor with a different parameters list in such a way so that each constructor can perform different tasks.\n",
    "\r\n",
    "构造函数重载是一个概念，即具有多个具有不同参数列表的构造函数，以便每个构造函数可以执行不同的任务。的## 结果。\n",
    "\n",
    "For example, we can create a three constructor which accepts a different set of param\n",
    "例如，我们可以创建一个接受不同参数集的三个构造函数et## ers\n",
    "\n",
    "Python does not support constructor overloading. If we define multiple constructors then, the interpreter will considers only the last constructor and throws an error if the sequence of the arguments doesn’t match as per the last constructor. The following example shows the \n",
    "Python 不支持构造函数重载。如果我们定义多个构造函数，则解释器将只考虑最后一个构造函数，如果参数序列与最后一个构造函数不匹配，则会抛出错误。以下示例显示了相同的结果。\n",
    "same."
   ]
  },
  {
   "cell_type": "code",
   "execution_count": 23,
   "id": "e7ac2ddb-2922-46ba-a91f-5db66027b0c6",
   "metadata": {},
   "outputs": [
    {
     "ename": "TypeError",
     "evalue": "Student.__init__() missing 1 required positional argument: 'age'",
     "output_type": "error",
     "traceback": [
      "\u001b[1;31m---------------------------------------------------------------------------\u001b[0m",
      "\u001b[1;31mTypeError\u001b[0m                                 Traceback (most recent call last)",
      "Cell \u001b[1;32mIn[23], line 14\u001b[0m\n\u001b[0;32m     11\u001b[0m         \u001b[38;5;28mself\u001b[39m\u001b[38;5;241m.\u001b[39mage \u001b[38;5;241m=\u001b[39m age\n\u001b[0;32m     13\u001b[0m \u001b[38;5;66;03m# creating first object\u001b[39;00m\n\u001b[1;32m---> 14\u001b[0m emma \u001b[38;5;241m=\u001b[39m Student(\u001b[38;5;124m'\u001b[39m\u001b[38;5;124mEmma\u001b[39m\u001b[38;5;124m'\u001b[39m)\n\u001b[0;32m     16\u001b[0m \u001b[38;5;66;03m# creating Second object\u001b[39;00m\n\u001b[0;32m     17\u001b[0m kelly \u001b[38;5;241m=\u001b[39m Student(\u001b[38;5;124m'\u001b[39m\u001b[38;5;124mKelly\u001b[39m\u001b[38;5;124m'\u001b[39m, \u001b[38;5;241m13\u001b[39m)\n",
      "\u001b[1;31mTypeError\u001b[0m: Student.__init__() missing 1 required positional argument: 'age'"
     ]
    }
   ],
   "source": [
    "class Student:\n",
    "    # one argument constructor\n",
    "    def __init__(self, name):\n",
    "        print(\"One arguments constructor\")\n",
    "        self.name = name\n",
    "\n",
    "    # two argument constructor\n",
    "    def __init__(self, name, age):\n",
    "        print(\"Two arguments constructor\")\n",
    "        self.name = name\n",
    "        self.age = age\n",
    "\n",
    "# creating first object\n",
    "emma = Student('Emma')\n",
    "\n",
    "# creating Second object\n",
    "kelly = Student('Kelly', 13)\n"
   ]
  },
  {
   "cell_type": "markdown",
   "id": "bd4840ea-44ec-4702-bf06-63a19fb9e29a",
   "metadata": {},
   "source": [
    "### Constructor Chaining.. 构造函数链接\n",
    "## Constructors are used for instantiating an object. The task of the constructor is to assign value to data members when an object of the class is created.\n",
    "\r\n",
    "构造函数用于实例化对象。构造函数的任务是在创建类的对象时为数据成员赋值。的## 构造函数\n",
    "Constructor chaining is the process of calling one constructor from another constructor. Constructor chaining is useful when you want to invoke multiple constructors, one after another, by initializing only one insta构造函数链接是从另一个构造函数调用一个构造函数的过程。当您希望通过仅初始化一个实例来逐个调用多个构造函数时，构造函数链接非常有用。\n",
    "n## ce.\n",
    "\n",
    "In Python, constructor chaining is convenient when we are dealing with inheritance. When an instance of a child class is initialized, the constructors of all the parent classes are first invoked and then, in the end, the constructor of the child class is in\n",
    "在 Python 中，当我们处理继承时，构造函数链接很方便。初始化子类的实例时，首先调用所有父类的构造函数，最后调用子类的构造函数\n",
    "## Using the super() method we can invoke the parent class constructor from a child class.\n",
    "使用 super（） 方法，我们可以从子类调用父类构造函数。"
   ]
  },
  {
   "cell_type": "code",
   "execution_count": 24,
   "id": "31d61014-60da-45b3-bc14-fa0227ea925d",
   "metadata": {},
   "outputs": [
    {
     "name": "stdout",
     "output_type": "stream",
     "text": [
      "Inside Vehicle Constructor\n",
      "Inside Car Constructor\n",
      "Inside Electric Car Constructor\n",
      "Engine=1500cc, Max Speed=240, Km range=750\n"
     ]
    }
   ],
   "source": [
    "class Vehicle:\n",
    "    # Constructor of Vehicle\n",
    "    def __init__(self, engine):\n",
    "        print('Inside Vehicle Constructor')\n",
    "        self.engine = engine\n",
    "\n",
    "class Car(Vehicle):\n",
    "    # Constructor of Car\n",
    "    def __init__(self, engine, max_speed):\n",
    "        super().__init__(engine)\n",
    "        print('Inside Car Constructor')\n",
    "        self.max_speed = max_speed\n",
    "\n",
    "class Electric_Car(Car):\n",
    "    # Constructor of Electric Car\n",
    "    def __init__(self, engine, max_speed, km_range):\n",
    "        super().__init__(engine, max_speed)\n",
    "        print('Inside Electric Car Constructor')\n",
    "        self.km_range = km_range\n",
    "\n",
    "# Object of electric car\n",
    "ev = Electric_Car('1500cc', 240, 750)\n",
    "print(f'Engine={ev.engine}, Max Speed={ev.max_speed}, Km range={ev.km_range}')\n"
   ]
  },
  {
   "cell_type": "code",
   "execution_count": null,
   "id": "08d62d2b-73b7-4134-b70b-25857d3f00bc",
   "metadata": {},
   "outputs": [],
   "source": []
  },
  {
   "cell_type": "code",
   "execution_count": null,
   "id": "4a6ac284-001f-4a19-a12f-f26759f66a01",
   "metadata": {},
   "outputs": [],
   "source": []
  },
  {
   "cell_type": "code",
   "execution_count": null,
   "id": "8b3cc19a-6de6-452a-b2fe-20e983770677",
   "metadata": {},
   "outputs": [],
   "source": []
  },
  {
   "cell_type": "code",
   "execution_count": null,
   "id": "db98d85f-3b1a-48dd-aca0-b0e6ab858ba9",
   "metadata": {},
   "outputs": [],
   "source": []
  },
  {
   "cell_type": "code",
   "execution_count": null,
   "id": "d8b26d81-4561-4f52-a4fd-8b0945bf7db5",
   "metadata": {},
   "outputs": [],
   "source": []
  },
  {
   "cell_type": "code",
   "execution_count": null,
   "id": "ad11f67a-3ac9-40ae-b173-0382deb9aebf",
   "metadata": {},
   "outputs": [],
   "source": []
  },
  {
   "cell_type": "code",
   "execution_count": null,
   "id": "0bec59a8-6d91-49b8-a6dc-18b0b3fb7d44",
   "metadata": {},
   "outputs": [],
   "source": []
  },
  {
   "cell_type": "code",
   "execution_count": null,
   "id": "396c3ad4-8458-476b-a767-c35a9e57aaf7",
   "metadata": {},
   "outputs": [],
   "source": []
  },
  {
   "cell_type": "code",
   "execution_count": null,
   "id": "0f850b77-b5c3-4348-aee6-c8ef7b4d98e0",
   "metadata": {},
   "outputs": [],
   "source": []
  },
  {
   "cell_type": "code",
   "execution_count": null,
   "id": "5eb51809-6339-41f5-8792-eb0ae198e7f8",
   "metadata": {},
   "outputs": [],
   "source": []
  },
  {
   "cell_type": "code",
   "execution_count": null,
   "id": "82d5c8ba-efb4-428a-8c74-7fe099d004aa",
   "metadata": {},
   "outputs": [],
   "source": []
  },
  {
   "cell_type": "code",
   "execution_count": null,
   "id": "d59ff66a-2656-492c-9a5c-a3c32a782a48",
   "metadata": {},
   "outputs": [],
   "source": []
  },
  {
   "cell_type": "code",
   "execution_count": null,
   "id": "464d5ff0-5bcd-4593-a93f-3a5f4ef20567",
   "metadata": {},
   "outputs": [],
   "source": []
  },
  {
   "cell_type": "code",
   "execution_count": 1,
   "id": "5b330e91-d422-46e8-9830-97d0c8c38f4b",
   "metadata": {},
   "outputs": [
    {
     "name": "stdout",
     "output_type": "stream",
     "text": [
      "2\n"
     ]
    }
   ],
   "source": [
    "import numpy as np\n",
    "\n",
    "arr = np.array([1, 2, 3, 4])\n",
    "\n",
    "print(arr[1])"
   ]
  },
  {
   "cell_type": "code",
   "execution_count": 4,
   "id": "c30f516b-607b-4ed1-9aae-86ca8537f293",
   "metadata": {},
   "outputs": [
    {
     "name": "stdout",
     "output_type": "stream",
     "text": [
      "2nd element on 1st row:  9\n"
     ]
    }
   ],
   "source": [
    "import numpy as np\n",
    "\n",
    "arr = np.array([[1,2,3,4,5], [6,7,8,9,10]])\n",
    "\n",
    "print('2nd element on 1st row: ', arr[1, 3])"
   ]
  },
  {
   "cell_type": "code",
   "execution_count": 7,
   "id": "0a8054c1-6a53-4122-98e3-e0c03cca7280",
   "metadata": {},
   "outputs": [
    {
     "name": "stdout",
     "output_type": "stream",
     "text": [
      "[4 9]\n"
     ]
    }
   ],
   "source": [
    "import numpy as np\n",
    "\n",
    "arr = np.array([[1, 2, 3, 4, 5], [6, 7, 8, 9, 10]])\n",
    "\n",
    "print(arr[0:2, 3])"
   ]
  },
  {
   "cell_type": "code",
   "execution_count": 8,
   "id": "99a4d058-3b5e-47ba-85e0-1a9abd3ffa4c",
   "metadata": {},
   "outputs": [
    {
     "name": "stdout",
     "output_type": "stream",
     "text": [
      "[[2 3 4]\n",
      " [7 8 9]]\n"
     ]
    }
   ],
   "source": [
    "import numpy as np\n",
    "\n",
    "arr = np.array([[1, 2, 3, 4, 5], [6, 7, 8, 9, 10]])\n",
    "\n",
    "print(arr[0:2, 1:4])"
   ]
  },
  {
   "cell_type": "code",
   "execution_count": 9,
   "id": "a340fbf2-afe5-433e-9bd8-ce8a498cb9a1",
   "metadata": {},
   "outputs": [
    {
     "name": "stdout",
     "output_type": "stream",
     "text": [
      "int32\n"
     ]
    }
   ],
   "source": [
    "import numpy as np\n",
    "\n",
    "arr = np.array([1, 2, 3, 4])\n",
    "\n",
    "print(arr.dtype)"
   ]
  },
  {
   "cell_type": "code",
   "execution_count": 10,
   "id": "8b21dcb6-8d00-4ec7-882d-e1ecf8ab2a0a",
   "metadata": {},
   "outputs": [
    {
     "name": "stdout",
     "output_type": "stream",
     "text": [
      "<U6\n"
     ]
    }
   ],
   "source": [
    "import numpy as np\n",
    "\n",
    "arr = np.array(['apple', 'banana', 'cherry'])\n",
    "\n",
    "print(arr.dtype)"
   ]
  },
  {
   "cell_type": "code",
   "execution_count": 13,
   "id": "394fccb8-3c46-4503-a61e-a2a378e30510",
   "metadata": {},
   "outputs": [
    {
     "name": "stdout",
     "output_type": "stream",
     "text": [
      "[ 1  2 42  4  5]\n",
      "[1 2 3 4 5]\n"
     ]
    }
   ],
   "source": [
    "import numpy as np\n",
    "\n",
    "arr = np.array([1, 2, 3, 4, 5])\n",
    "x = arr.copy()\n",
    "arr[2] = 42\n",
    "\n",
    "print(arr)\n",
    "print(x)"
   ]
  },
  {
   "cell_type": "code",
   "execution_count": 14,
   "id": "4f106c25-7759-480b-90c7-ab7e9a6883c0",
   "metadata": {},
   "outputs": [
    {
     "name": "stdout",
     "output_type": "stream",
     "text": [
      "(2, 4)\n"
     ]
    }
   ],
   "source": [
    "import numpy as np\n",
    "\n",
    "arr = np.array([[1, 2, 3, 4], [5, 6, 7, 8]])\n",
    "\n",
    "print(arr.shape)"
   ]
  },
  {
   "cell_type": "code",
   "execution_count": 18,
   "id": "d9d28f5c-115b-42a8-8ad3-901cb9f0a4f5",
   "metadata": {},
   "outputs": [
    {
     "name": "stdout",
     "output_type": "stream",
     "text": [
      "[[ 1  2]\n",
      " [ 3  4]\n",
      " [ 5  6]\n",
      " [ 7  8]\n",
      " [ 9 10]\n",
      " [11 12]]\n"
     ]
    }
   ],
   "source": [
    "import numpy as np\n",
    "\n",
    "arr = np.array([1, 2, 3, 4, 5, 6, 7, 8, 9, 10, 11, 12])\n",
    "\n",
    "newarr = arr.reshape(6, 2)\n",
    "\n",
    "print(newarr)"
   ]
  },
  {
   "cell_type": "code",
   "execution_count": null,
   "id": "09cedb64-4930-48fc-920a-c6f8914b8ff9",
   "metadata": {},
   "outputs": [],
   "source": []
  }
 ],
 "metadata": {
  "kernelspec": {
   "display_name": "Python 3 (ipykernel)",
   "language": "python",
   "name": "python3"
  },
  "language_info": {
   "codemirror_mode": {
    "name": "ipython",
    "version": 3
   },
   "file_extension": ".py",
   "mimetype": "text/x-python",
   "name": "python",
   "nbconvert_exporter": "python",
   "pygments_lexer": "ipython3",
   "version": "3.12.7"
  }
 },
 "nbformat": 4,
 "nbformat_minor": 5
}
