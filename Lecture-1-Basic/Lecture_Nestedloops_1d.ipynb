{
 "cells": [
  {
   "cell_type": "markdown",
   "id": "03447245-5be4-410e-8587-2387cd901114",
   "metadata": {},
   "source": [
    "### Nested Loops... loops inside loop\n",
    "## Examples\n"
   ]
  },
  {
   "cell_type": "code",
   "execution_count": null,
   "id": "dfacec04-02c9-4828-a212-93f99d37655e",
   "metadata": {},
   "outputs": [],
   "source": []
  },
  {
   "cell_type": "code",
   "execution_count": 1,
   "id": "af3481cb-825c-4d26-a9a7-ad551b3a167f",
   "metadata": {},
   "outputs": [
    {
     "name": "stdout",
     "output_type": "stream",
     "text": [
      "1 4\n",
      "1 5\n",
      "2 4\n",
      "2 5\n"
     ]
    }
   ],
   "source": [
    "x = [1, 2]\n",
    "y = [4, 5]\n",
    "\n",
    "for i in x:\n",
    " for j in y:\n",
    "  print(i, j)\n"
   ]
  },
  {
   "cell_type": "code",
   "execution_count": 4,
   "id": "ecb1b752-7a38-499c-a894-c6d4a56465f5",
   "metadata": {},
   "outputs": [
    {
     "name": "stdin",
     "output_type": "stream",
     "text": [
      "enter number of rows 4\n"
     ]
    },
    {
     "name": "stdout",
     "output_type": "stream",
     "text": [
      "*\n",
      "**\n",
      "***\n",
      "****\n"
     ]
    }
   ],
   "source": [
    "# code here\n",
    "\n",
    "rows = int(input('enter number of rows'))\n",
    "\n",
    "for i in range(1,rows+1):\n",
    "  for j in range(1,i+1):\n",
    "    print('*',end='')\n",
    "  print()"
   ]
  },
  {
   "cell_type": "code",
   "execution_count": 2,
   "id": "a45b7f4d-7149-458b-a67f-70d4feb47869",
   "metadata": {},
   "outputs": [
    {
     "name": "stdout",
     "output_type": "stream",
     "text": [
      "2 * 1 = 2\n",
      "2 * 2 = 4\n",
      "2 * 3 = 6\n",
      "2 * 4 = 8\n",
      "2 * 5 = 10\n",
      "2 * 6 = 12\n",
      "2 * 7 = 14\n",
      "2 * 8 = 16\n",
      "2 * 9 = 18\n",
      "2 * 10 = 20\n",
      "\n",
      "3 * 1 = 3\n",
      "3 * 2 = 6\n",
      "3 * 3 = 9\n",
      "3 * 4 = 12\n",
      "3 * 5 = 15\n",
      "3 * 6 = 18\n",
      "3 * 7 = 21\n",
      "3 * 8 = 24\n",
      "3 * 9 = 27\n",
      "3 * 10 = 30\n",
      "\n"
     ]
    }
   ],
   "source": [
    "# Running outer loop from 2 to 3\n",
    "\n",
    "for i in range(2, 4):\n",
    "\n",
    "\t# Printing inside the outer loop\n",
    "\t# Running inner loop from 1 to 10\n",
    "\tfor j in range(1, 11):\n",
    "\n",
    "\t\t# Printing inside the inner loop\n",
    "\t\tprint(i, \"*\", j, \"=\", i*j)\n",
    "\t# Printing inside the outer loop\n",
    "\tprint()\n"
   ]
  },
  {
   "cell_type": "code",
   "execution_count": 5,
   "id": "670b3c66-4002-47f2-808b-242ed25bca0a",
   "metadata": {},
   "outputs": [
    {
     "name": "stdout",
     "output_type": "stream",
     "text": [
      "start outer for loop \n",
      "I am  healthy\n",
      "I am  fine\n",
      "I am  geek\n",
      "end for loop \n",
      "start outer for loop \n",
      "You are  healthy\n",
      "You are  fine\n",
      "You are  geek\n",
      "end for loop \n"
     ]
    }
   ],
   "source": [
    "# Initialize list1 and list2\n",
    "# with some strings\n",
    "list1 = ['I am ', 'You are ']\n",
    "list2 = ['healthy', 'fine', 'geek']\n",
    "\n",
    "# Store length of list2 in list2_size\n",
    "list2_size = len(list2)\n",
    "\n",
    "# Running outer for loop to\n",
    "# iterate through a list1.\n",
    "for item in list1:\n",
    "\n",
    "\t# Printing outside inner loop\n",
    "\tprint(\"start outer for loop \")\n",
    "\t# Initialize counter i with 0\n",
    "\ti = 0\n",
    "\t# Running inner While loop to\n",
    "\t# iterate through a list2.\n",
    "\twhile(i < list2_size):\n",
    "\t\n",
    "\t\t# Printing inside inner loop\n",
    "\t\tprint(item, list2[i])\n",
    "\t\t# Incrementing the value of i\n",
    "\t\ti = i+1\n",
    "\t# Printing outside inner loop\n",
    "\tprint(\"end for loop \")\n"
   ]
  },
  {
   "cell_type": "code",
   "execution_count": 6,
   "id": "ec44cbf1-0252-426c-a39e-f3c248d37665",
   "metadata": {},
   "outputs": [
    {
     "name": "stdout",
     "output_type": "stream",
     "text": [
      "2 * 2 = 4\n",
      "\n",
      "3 * 3 = 9\n",
      "\n"
     ]
    }
   ],
   "source": [
    "# Running outer loop from 2 to 3\n",
    "for i in range(2, 4):\n",
    "\n",
    "\t# Printing inside the outer loop\n",
    "\t# Running inner loop from 1 to 10\n",
    "\tfor j in range(1, 11):\n",
    "\t if i==j:\n",
    "\t  break\n",
    "\t# Printing inside the inner loop\n",
    "\tprint(i, \"*\", j, \"=\", i*j)\n",
    "\t# Printing inside the outer loop\n",
    "\tprint()\n",
    "    "
   ]
  },
  {
   "cell_type": "code",
   "execution_count": 7,
   "id": "97fff4b0-62a8-4401-8bcc-cdbff1693614",
   "metadata": {},
   "outputs": [
    {
     "name": "stdout",
     "output_type": "stream",
     "text": [
      "2 * 10 = 20\n",
      "\n",
      "3 * 10 = 30\n",
      "\n"
     ]
    }
   ],
   "source": [
    "# Running outer loop from 2 to 3\n",
    "for i in range(2, 4):\n",
    "\n",
    "\t# Printing inside the outer loop\n",
    "\t# Running inner loop from 1 to 10\n",
    "\tfor j in range(1, 11):\n",
    "\t if i==j:\n",
    "\t  continue\n",
    "\t# Printing inside the inner loop\n",
    "\tprint(i, \"*\", j, \"=\", i*j)\n",
    "\t# Printing inside the outer loop\n",
    "\tprint()\n"
   ]
  },
  {
   "cell_type": "code",
   "execution_count": 1,
   "id": "c99b0298-5b6d-410c-9a60-8b91249c2e88",
   "metadata": {},
   "outputs": [
    {
     "name": "stdin",
     "output_type": "stream",
     "text": [
      "enter number of rows 1\n"
     ]
    },
    {
     "name": "stdout",
     "output_type": "stream",
     "text": [
      "*\n"
     ]
    }
   ],
   "source": [
    "# code here\n",
    "\n",
    "rows = int(input('enter number of rows'))\n",
    "\n",
    "for i in range(1,rows+1):\n",
    "  for j in range(1,i+1):\n",
    "    print('*',end='')\n",
    "  print()"
   ]
  },
  {
   "cell_type": "code",
   "execution_count": null,
   "id": "89ea163b-c2f3-47a1-b333-2cce578c0221",
   "metadata": {},
   "outputs": [],
   "source": []
  }
 ],
 "metadata": {
  "kernelspec": {
   "display_name": "Python 3 (ipykernel)",
   "language": "python",
   "name": "python3"
  },
  "language_info": {
   "codemirror_mode": {
    "name": "ipython",
    "version": 3
   },
   "file_extension": ".py",
   "mimetype": "text/x-python",
   "name": "python",
   "nbconvert_exporter": "python",
   "pygments_lexer": "ipython3",
   "version": "3.12.7"
  }
 },
 "nbformat": 4,
 "nbformat_minor": 5
}
